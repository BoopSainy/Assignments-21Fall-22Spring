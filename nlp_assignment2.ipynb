{
 "cells": [
  {
   "cell_type": "markdown",
   "metadata": {},
   "source": [
    "# [COM6513] Assignment 2: Topic Classification with a Feedforward Network\n",
    "\n",
    "\n",
    "### Instructor: Nikos Aletras\n",
    "\n",
    "\n",
    "The goal of this assignment is to develop a Feedforward neural network for topic classification. \n",
    "\n",
    "\n",
    "\n",
    "For that purpose, you will implement:\n",
    "\n",
    "- Text processing methods for transforming raw text data into input vectors for your network  (**1 mark**)\n",
    "\n",
    "\n",
    "- A Feedforward network consisting of:\n",
    "    - **One-hot** input layer mapping words into an **Embedding weight matrix** (**1 mark**)\n",
    "    - **One hidden layer** computing the mean embedding vector of all words in input followed by a **ReLU activation function** (**1 mark**)\n",
    "    - **Output layer** with a **softmax** activation. (**1 mark**)\n",
    "\n",
    "\n",
    "- The Stochastic Gradient Descent (SGD) algorithm with **back-propagation** to learn the weights of your Neural network. Your algorithm should:\n",
    "    - Use (and minimise) the **Categorical Cross-entropy loss** function (**1 mark**)\n",
    "    - Perform a **Forward pass** to compute intermediate outputs (**3 marks**)\n",
    "    - Perform a **Backward pass** to compute gradients and update all sets of weights (**6 marks**)\n",
    "    - Implement and use **Dropout** after each hidden layer for regularisation (**2 marks**)\n",
    "\n",
    "\n",
    "\n",
    "- Discuss how did you choose hyperparameters? You can tune the learning rate (hint: choose small values), embedding size {e.g. 50, 300, 500}, the dropout rate {e.g. 0.2, 0.5} and the learning rate. Please use tables or graphs to show training and validation performance for each hyperparameter combination  (**2 marks**). \n",
    "\n",
    "\n",
    "\n",
    "- After training a model, plot the learning process (i.e. training and validation loss in each epoch) using a line plot and report accuracy. Does your model overfit, underfit or is about right? (**1 mark**).\n",
    "\n",
    "\n",
    "\n",
    "- Re-train your network by using pre-trained embeddings ([GloVe](https://nlp.stanford.edu/projects/glove/)) trained on large corpora. Instead of randomly initialising the embedding weights matrix, you should initialise it with the pre-trained weights. During training, you should not update them (i.e. weight freezing) and backprop should stop before computing gradients for updating embedding weights. Report results by performing hyperparameter tuning and plotting the learning process. Do you get better performance? (**3 marks**).\n",
    "\n",
    "\n",
    "\n",
    "- Extend you Feedforward network by adding more hidden layers (e.g. one more or two). How does it affect the performance? Note: You need to repeat hyperparameter tuning, but the number of combinations grows exponentially. Therefore, you need to choose a subset of all possible combinations (**4 marks**)\n",
    "\n",
    "\n",
    "- Provide well documented and commented code describing all of your choices. In general, you are free to make decisions about text processing (e.g. punctuation, numbers, vocabulary size) and hyperparameter values. We expect to see justifications and discussion for all of your choices (**2 marks**). \n",
    "\n",
    "\n",
    "\n",
    "- Provide efficient solutions by using Numpy arrays when possible. Executing the whole notebook with your code should not take more than 10 minutes on any standard computer (e.g. Intel Core i5 CPU, 8 or 16GB RAM) excluding hyperparameter tuning runs and loading the pretrained vectors. You can find tips in Lab 1 (**2 marks**). \n",
    "\n",
    "\n",
    "\n",
    "### Data \n",
    "\n",
    "The data you will use for the task is a subset of the [AG News Corpus](http://groups.di.unipi.it/~gulli/AG_corpus_of_news_articles.html) and you can find it in the `./data_topic` folder in CSV format:\n",
    "\n",
    "- `data_topic/train.csv`: contains 2,400 news articles, 800 for each class to be used for training.\n",
    "- `data_topic/dev.csv`: contains 150 news articles, 50 for each class to be used for hyperparameter selection and monitoring the training process.\n",
    "- `data_topic/test.csv`: contains 900 news articles, 300 for each class to be used for testing.\n",
    "\n",
    "### Pre-trained Embeddings\n",
    "\n",
    "You can download pre-trained GloVe embeddings trained on Common Crawl (840B tokens, 2.2M vocab, cased, 300d vectors, 2.03 GB download) from [here](http://nlp.stanford.edu/data/glove.840B.300d.zip). No need to unzip, the file is large.\n",
    "\n",
    "### Save Memory\n",
    "\n",
    "To save RAM, when you finish each experiment you can delete the weights of your network using `del W` followed by Python's garbage collector `gc.collect()`\n",
    "\n",
    "\n"
   ]
  },
  {
   "cell_type": "markdown",
   "metadata": {},
   "source": [
    "### Submission Instructions\n",
    "\n",
    "You should submit a Jupyter Notebook file (assignment2.ipynb) and an exported PDF version (you can do it from Jupyter: `File->Download as->PDF via Latex`).\n",
    "\n",
    "\n",
    "You are advised to follow the code structure given in this notebook by completing all given funtions. You can also write any auxilliary/helper functions (and arguments for the functions) that you might need but note that you can provide a full solution without any such functions. Similarly, you can just use only the packages imported below but you are free to use any functionality from the [Python Standard Library](https://docs.python.org/3/library/index.html), NumPy, SciPy (excluding built-in softmax funtcions) and Pandas. You are **not allowed to use any third-party library** such as Scikit-learn (apart from metric functions already provided), NLTK, Spacy, Keras, Pytorch etc.. You should mention if you've used Windows to write and test your code because we mostly use Unix based machines for marking (e.g. Ubuntu, MacOS). \n",
    "\n",
    "There is no single correct answer on what your accuracy should be, but correct implementations usually achieve F1-scores around 80\\% or higher. The quality of the analysis of the results is as important as the accuracy itself. \n",
    "\n",
    "This assignment will be marked out of 30. It is worth 30\\% of your final grade in the module.\n",
    "\n",
    "The deadline for this assignment is **23:59 on Mon, 9 May 2022** and it needs to be submitted via Blackboard. Standard departmental penalties for lateness will be applied. We use a range of strategies to **detect [unfair means](https://www.sheffield.ac.uk/ssid/unfair-means/index)**, including Turnitin which helps detect plagiarism. Use of unfair means would result in getting a failing grade.\n",
    "\n"
   ]
  },
  {
   "cell_type": "code",
   "execution_count": 1,
   "metadata": {
    "ExecuteTime": {
     "end_time": "2020-04-02T15:00:18.625532Z",
     "start_time": "2020-04-02T15:00:17.377733Z"
    },
    "scrolled": true
   },
   "outputs": [],
   "source": [
    "import pandas as pd\n",
    "import numpy as np\n",
    "from collections import Counter\n",
    "import re\n",
    "import matplotlib.pyplot as plt\n",
    "from sklearn.metrics import accuracy_score, precision_score, recall_score, f1_score\n",
    "import random\n",
    "from time import localtime, strftime\n",
    "from scipy.stats import spearmanr,pearsonr\n",
    "import zipfile\n",
    "import gc\n",
    "import time\n",
    "\n",
    "\n",
    "# used to record running time (not include the parameters tuning part and pre-trained embedding matrix loading part)\n",
    "time_1st_start = time.time()\n",
    "\n",
    "\n",
    "# I will fix random seed in following code in several places for reproducibility\n",
    "random.seed(100)\n",
    "np.random.seed(100)"
   ]
  },
  {
   "cell_type": "markdown",
   "metadata": {},
   "source": [
    "## Transform Raw texts into training and development data\n",
    "\n",
    "First, you need to load the training, development and test sets from their corresponding CSV files (tip: you can use Pandas dataframes)."
   ]
  },
  {
   "cell_type": "code",
   "execution_count": 2,
   "metadata": {
    "ExecuteTime": {
     "end_time": "2020-04-02T14:26:39.748484Z",
     "start_time": "2020-04-02T14:26:39.727404Z"
    },
    "scrolled": true
   },
   "outputs": [],
   "source": [
    "# load training, development and test datasets.\n",
    "\n",
    "train_raw_pd = pd.read_csv(\"./data_topic/train.csv\", header = None)\n",
    "dev_raw_pd = pd.read_csv(\"./data_topic/dev.csv\", header = None)\n",
    "test_raw_pd = pd.read_csv(\"./data_topic/test.csv\", header = None)"
   ]
  },
  {
   "cell_type": "markdown",
   "metadata": {},
   "source": [
    "Then, let us check some samples from training, development, and test datasets."
   ]
  },
  {
   "cell_type": "code",
   "execution_count": 3,
   "metadata": {
    "ExecuteTime": {
     "end_time": "2020-04-02T14:26:39.753874Z",
     "start_time": "2020-04-02T14:26:39.749647Z"
    },
    "scrolled": false
   },
   "outputs": [
    {
     "name": "stdout",
     "output_type": "stream",
     "text": [
      "check first ten samples from training dataset\n",
      "\n",
      "0    Reuters - Venezuelans turned out early\\and in ...\n",
      "1    Reuters - South Korean police used water canno...\n",
      "2    Reuters - Thousands of Palestinian\\prisoners i...\n",
      "3    AFP - Sporadic gunfire and shelling took place...\n",
      "4    AP - Dozens of Rwandan soldiers flew into Suda...\n",
      "5    Reuters - Rwandan troops were airlifted on Sun...\n",
      "6    AP - A bomb exploded during an Independence Da...\n",
      "7    AFP - Australia's foreign minister will pay a ...\n",
      "8    AP - Democratic presidential candidate John Ke...\n",
      "9    AP - Democratic vice presidential candidate Jo...\n",
      "Name: 1, dtype: object\n",
      "\n",
      "\n",
      "check first ten samples from development dataset\n",
      "\n",
      "0    BAGHDAD, Iraq - An Islamic militant group that...\n",
      "1    Parts of Los Angeles international airport are...\n",
      "2    AFP - Facing a issue that once tripped up his ...\n",
      "3    The leader of militant Lebanese group Hezbolla...\n",
      "4    JAKARTA : ASEAN finance ministers ended a meet...\n",
      "5    The death toll in the Russian schoolhouse sieg...\n",
      "6     LORETO, Italy (Reuters) - Pope John Paul pray...\n",
      "7    Reuters - France remained hopeful on Sunday th...\n",
      "8    Iraq #39;s toppled leader Saddam Hussein and h...\n",
      "9     BAGHDAD (Reuters) - Iraq's government was scr...\n",
      "Name: 1, dtype: object\n",
      "\n",
      "\n",
      "check first ten samples from test dataset\n",
      "\n",
      "0    Canadian Press - VANCOUVER (CP) - The sister o...\n",
      "1    AP - The man who claims Gov. James E. McGreeve...\n",
      "2    NAJAF, Iraq - Explosions and gunfire rattled t...\n",
      "3    LOURDES, France - A frail Pope John Paul II, b...\n",
      "4    Supporters and rivals warn of possible fraud; ...\n",
      "5    AP - A 1994 law strengthened job protections f...\n",
      "6     TEHRAN (Reuters) - A senior Iranian military ...\n",
      "7    KABUL, Afghanistan - Government troops interve...\n",
      "8    AP - If Hurricane Charley had struck three yea...\n",
      "9     CARACAS, Venezuela (Reuters) - Venezuelans vo...\n",
      "Name: 1, dtype: object\n",
      "\n",
      "\n"
     ]
    }
   ],
   "source": [
    "print(\"check first ten samples from training dataset\\n\")\n",
    "print(train_raw_pd.iloc[:10, 1])\n",
    "print('\\n')\n",
    "\n",
    "print(\"check first ten samples from development dataset\\n\")\n",
    "print(dev_raw_pd.iloc[:10, 1])\n",
    "print('\\n')\n",
    "\n",
    "print(\"check first ten samples from test dataset\\n\")\n",
    "print(test_raw_pd.iloc[:10, 1])\n",
    "print('\\n')"
   ]
  },
  {
   "cell_type": "markdown",
   "metadata": {},
   "source": [
    "Put the raw texts into python lists."
   ]
  },
  {
   "cell_type": "code",
   "execution_count": 4,
   "metadata": {},
   "outputs": [],
   "source": [
    "# train_text is a list whose elements are texts in training dataset: [text_1, text_2, ..., text_n]\n",
    "train_raw = [train_raw_pd.iloc[i, 1] for i in range(train_raw_pd.shape[0])]\n",
    "\n",
    "# dev_text is a list whose elements are texts in development dataset: [text_1, text_2, ..., text_n]\n",
    "dev_raw = [dev_raw_pd.iloc[i, 1] for i in range(dev_raw_pd.shape[0])]\n",
    "\n",
    "# test_text is a list whose elements are texts in test dataset: [text_1, text_2, ..., text_n]\n",
    "test_raw = [test_raw_pd.iloc[i, 1] for i in range(test_raw_pd.shape[0])]\n"
   ]
  },
  {
   "cell_type": "markdown",
   "metadata": {},
   "source": [
    "# Create input representations\n",
    "\n",
    "\n",
    "To train your Feedforward network, you first need to obtain input representations given a vocabulary. One-hot encoding requires large memory capacity. Therefore, we will instead represent documents as lists of vocabulary indices (each word corresponds to a vocabulary index). \n",
    "\n",
    "\n",
    "## Text Pre-Processing Pipeline\n",
    "\n",
    "To obtain a vocabulary of words. You should: \n",
    "- tokenise all texts into a list of unigrams (tip: you can re-use the functions from Assignment 1) \n",
    "- remove stop words (using the one provided or one of your preference) \n",
    "- remove unigrams appearing in less than K documents\n",
    "- use the remaining to create a vocabulary of the top-N most frequent unigrams in the entire corpus.\n"
   ]
  },
  {
   "cell_type": "code",
   "execution_count": 5,
   "metadata": {
    "ExecuteTime": {
     "end_time": "2020-04-02T14:26:40.851926Z",
     "start_time": "2020-04-02T14:26:40.847500Z"
    },
    "scrolled": true
   },
   "outputs": [],
   "source": [
    "stop_words = ['a','in','on','at','and','or', \n",
    "              'to', 'the', 'of', 'an', 'by', \n",
    "              'as', 'is', 'was', 'were', 'been', 'be', \n",
    "              'are','for', 'this', 'that', 'these', 'those', 'you', 'i', 'if',\n",
    "             'it', 'he', 'she', 'we', 'they', 'will', 'have', 'has',\n",
    "              'do', 'did', 'can', 'could', 'who', 'which', 'what',\n",
    "              'but', 'not', 'there', 'no', 'does', 'not', 'so', 've', 'their',\n",
    "             'his', 'her', 'they', 'them', 'from', 'with', 'its']\n"
   ]
  },
  {
   "cell_type": "markdown",
   "metadata": {},
   "source": [
    "### Unigram extraction from a document\n",
    "\n",
    "You first need to implement the `extract_ngrams` function. It takes as input:\n",
    "- `x_raw`: a string corresponding to the raw text of a document\n",
    "- `ngram_range`: a tuple of two integers denoting the type of ngrams you want to extract, e.g. (1,2) denotes extracting unigrams and bigrams.\n",
    "- `token_pattern`: a string to be used within a regular expression to extract all tokens. Note that data is already tokenised so you could opt for a simple white space tokenisation.\n",
    "- `stop_words`: a list of stop words\n",
    "- `vocab`: a given vocabulary. It should be used to extract specific features.\n",
    "\n",
    "and returns:\n",
    "\n",
    "- a list of all extracted features.\n"
   ]
  },
  {
   "cell_type": "code",
   "execution_count": 6,
   "metadata": {
    "ExecuteTime": {
     "end_time": "2020-05-11T08:23:17.181553Z",
     "start_time": "2020-05-11T08:23:17.178314Z"
    },
    "scrolled": true
   },
   "outputs": [],
   "source": [
    "# a provided function to extract unigrams (or other n-grams) from a input text.\n",
    "\n",
    "def extract_ngrams(x_raw, ngram_range=(1,3), token_pattern=r'\\b[A-Za-z][A-Za-z]+\\b', stop_words=[], vocab=set()):\n",
    "   \n",
    "    # design a regular expression to extract tokens from a sentence\n",
    "    token_regexp = re.compile(token_pattern)\n",
    "   \n",
    "    # extract all unigrams by tokenizing if they are not in stop_list.\n",
    "    x_uni = [w for w in token_regexp.findall(str(x_raw).lower(),) if w not in stop_words]\n",
    "   \n",
    "    # this is to store the ngrams to be returned\n",
    "    x = []\n",
    "   \n",
    "    if ngram_range[0]==1:\n",
    "        x = x_uni\n",
    "   \n",
    "    # generate n-grams from the available unigrams x_uni\n",
    "    ngrams = []\n",
    "    for n in range(ngram_range[0], ngram_range[1]+1):\n",
    "       \n",
    "        # ignore unigrams\n",
    "        if n==1: continue\n",
    "       \n",
    "        # pass a list of lists as an argument for zip\n",
    "        arg_list = [x_uni]+[x_uni[i:] for i in range(1, n)]\n",
    "\n",
    "        # extract tuples of n-grams using zip\n",
    "        # for bigram this should look: list(zip(x_uni, x_uni[1:]))\n",
    "        # align each item x[i] in x_uni with the next one x[i+1].\n",
    "        # Note that x_uni and x_uni[1:] have different lengths\n",
    "        # but zip ignores redundant elements at the end of the second list\n",
    "        # Alternatively, this could be done with for loops\n",
    "        x_ngram = list(zip(*arg_list))\n",
    "        ngrams.append(x_ngram)\n",
    "   \n",
    "       \n",
    "    for n in ngrams:\n",
    "        for t in n:\n",
    "            x.append(t)\n",
    "       \n",
    "    if len(vocab)>0:\n",
    "        x = [w for w in x if w in vocab]\n",
    "       \n",
    "    return x\n",
    "\n",
    "\n",
    "\n",
    "\n"
   ]
  },
  {
   "cell_type": "code",
   "execution_count": 7,
   "metadata": {},
   "outputs": [
    {
     "data": {
      "text/plain": [
       "['reuters',\n",
       " 'venezuelans',\n",
       " 'turned',\n",
       " 'out',\n",
       " 'early',\n",
       " 'large',\n",
       " 'numbers',\n",
       " 'sunday',\n",
       " 'vote',\n",
       " 'historic',\n",
       " 'referendum',\n",
       " 'either',\n",
       " 'remove',\n",
       " 'left',\n",
       " 'wing',\n",
       " 'president',\n",
       " 'hugo',\n",
       " 'chavez',\n",
       " 'office',\n",
       " 'give',\n",
       " 'him',\n",
       " 'new',\n",
       " 'mandate',\n",
       " 'govern',\n",
       " 'next',\n",
       " 'two',\n",
       " 'years']"
      ]
     },
     "execution_count": 7,
     "metadata": {},
     "output_type": "execute_result"
    }
   ],
   "source": [
    "# check the extracted unigrams from the first text in training dataset\n",
    "\n",
    "extract_ngrams(train_raw[0], ngram_range = (1, 1), stop_words = stop_words, vocab = set())"
   ]
  },
  {
   "cell_type": "markdown",
   "metadata": {},
   "source": [
    "### Create a vocabulary of n-grams\n",
    "\n",
    "Then the `get_vocab` function will be used to (1) create a vocabulary of ngrams; (2) count the document frequencies of ngrams; (3) their raw frequency. It takes as input:\n",
    "- `X_raw`: a list of strings each corresponding to the raw text of a document\n",
    "- `ngram_range`: a tuple of two integers denoting the type of ngrams you want to extract, e.g. (1,2) denotes extracting unigrams and bigrams.\n",
    "- `token_pattern`: a string to be used within a regular expression to extract all tokens. Note that data is already tokenised so you could opt for a simple white space tokenisation.\n",
    "- `stop_words`: a list of stop words\n",
    "- `min_df`: keep ngrams with a minimum document frequency.\n",
    "- `keep_topN`: keep top-N more frequent ngrams.\n",
    "\n",
    "and returns:\n",
    "\n",
    "- `vocab`: a set of the n-grams that will be used as features.\n",
    "- `df`: a Counter (or dict) that contains ngrams as keys and their corresponding document frequency as values.\n",
    "- `ngram_counts`: counts of each ngram in vocab\n"
   ]
  },
  {
   "cell_type": "code",
   "execution_count": 8,
   "metadata": {
    "ExecuteTime": {
     "end_time": "2020-04-02T14:26:42.563876Z",
     "start_time": "2020-04-02T14:26:42.557967Z"
    },
    "scrolled": true
   },
   "outputs": [],
   "source": [
    "# a provided function to get the vocabulary, document frequency counter, and term frequency counter.\n",
    "\n",
    "def get_vocab(X_raw, ngram_range=(1,3), token_pattern=r'\\b[A-Za-z][A-Za-z]+\\b',\n",
    "              min_df=0, keep_topN=0, stop_words=[]):\n",
    "   \n",
    "   \n",
    "    tokenRE = re.compile(token_pattern)\n",
    "   \n",
    "    #df = Counter()\n",
    "    df = {}\n",
    "    #ngram_counts = Counter()\n",
    "    ngram_counts = {}\n",
    "    vocab = set()\n",
    "   \n",
    "    # iterate through each raw text in the whole training set\n",
    "    for text in X_raw:\n",
    "       \n",
    "        x_ngram = extract_ngrams(text, ngram_range=ngram_range, token_pattern=token_pattern, stop_words=stop_words)\n",
    "       \n",
    "        #update document frequencies and ngram count frequencies\n",
    "        \n",
    "        for word in x_ngram:\n",
    "            if word not in ngram_counts:\n",
    "                ngram_counts[word] = 1\n",
    "            else:\n",
    "                ngram_counts[word] += 1\n",
    "        \n",
    "        without_duplicate = []\n",
    "        for word in x_ngram:\n",
    "            if word not in without_duplicate:\n",
    "                without_duplicate.append(word)\n",
    "        \n",
    "        for word in without_duplicate:\n",
    "            if word not in df:\n",
    "                df[word] = 1\n",
    "            else:\n",
    "                df[word] += 1\n",
    "        \n",
    "        #df.update(list(set(x_ngram)))\n",
    "        #ngram_counts.update(x_ngram)\n",
    "\n",
    "    # obtain a vocabulary as a set.\n",
    "    # Keep elements with doc frequency > minimum doc freq (min_df)\n",
    "    # Note that df contains all te\n",
    "    vocab = set([w for w in df if df[w]>=min_df])\n",
    "   \n",
    "    # keep the top N most frequent\n",
    "    if keep_topN>0:\n",
    "        vocab = [[w[0] for w in ngram_counts.most_common(keep_topN) if w[0] in vocab]]\n",
    "   \n",
    "   \n",
    "    return vocab, df, ngram_counts"
   ]
  },
  {
   "cell_type": "markdown",
   "metadata": {},
   "source": [
    "Now you should use `get_vocab` to create your vocabulary and get document and raw frequencies of unigrams:"
   ]
  },
  {
   "cell_type": "code",
   "execution_count": 9,
   "metadata": {
    "ExecuteTime": {
     "end_time": "2020-04-02T14:26:43.577997Z",
     "start_time": "2020-04-02T14:26:43.478950Z"
    },
    "scrolled": true
   },
   "outputs": [],
   "source": [
    "# obtain the vocabulary, document frequency, and term frequency of unigrams.\n",
    "\n",
    "vocab, df, ngram_counts = get_vocab(X_raw = train_raw, ngram_range = (1,1), \n",
    "                                    token_pattern = r'\\b[A-Za-z][A-Za-z]+\\b', \n",
    "                                    min_df = 0, keep_topN = 0, stop_words = stop_words)"
   ]
  },
  {
   "cell_type": "markdown",
   "metadata": {},
   "source": [
    "Then, we need to create vocabulary id -> word and word -> vocabulary id dictionaries for reference:"
   ]
  },
  {
   "cell_type": "code",
   "execution_count": 10,
   "metadata": {
    "ExecuteTime": {
     "end_time": "2020-04-02T14:26:44.069661Z",
     "start_time": "2020-04-02T14:26:44.065058Z"
    }
   },
   "outputs": [],
   "source": [
    "# create 2 dictionaries: (1) id2word: key = word's id, value = word; (2) word2id: key = word, value = word's id\n",
    "# the size of my vocab, df, and ngram_counts are same because my argument min_df = 0\n",
    "\n",
    "id2word = dict()\n",
    "word2id = dict()\n",
    "\n",
    "for i in range(len(vocab)):\n",
    "    word = list(df.keys())[i]\n",
    "    id2word[i] = word\n",
    "    word2id[word] = i"
   ]
  },
  {
   "cell_type": "code",
   "execution_count": 11,
   "metadata": {
    "scrolled": true
   },
   "outputs": [
    {
     "data": {
      "text/plain": [
       "{'reuters': 0,\n",
       " 'venezuelans': 1,\n",
       " 'turned': 2,\n",
       " 'out': 3,\n",
       " 'early': 4,\n",
       " 'large': 5,\n",
       " 'numbers': 6,\n",
       " 'sunday': 7,\n",
       " 'vote': 8,\n",
       " 'historic': 9,\n",
       " 'referendum': 10,\n",
       " 'either': 11,\n",
       " 'remove': 12,\n",
       " 'left': 13,\n",
       " 'wing': 14,\n",
       " 'president': 15,\n",
       " 'hugo': 16,\n",
       " 'chavez': 17,\n",
       " 'office': 18,\n",
       " 'give': 19,\n",
       " 'him': 20,\n",
       " 'new': 21,\n",
       " 'mandate': 22,\n",
       " 'govern': 23,\n",
       " 'next': 24,\n",
       " 'two': 25,\n",
       " 'years': 26,\n",
       " 'south': 27,\n",
       " 'korean': 28,\n",
       " 'police': 29,\n",
       " 'used': 30,\n",
       " 'water': 31,\n",
       " 'cannon': 32,\n",
       " 'central': 33,\n",
       " 'seoul': 34,\n",
       " 'disperse': 35,\n",
       " 'least': 36,\n",
       " 'protesters': 37,\n",
       " 'urging': 38,\n",
       " 'government': 39,\n",
       " 'reverse': 40,\n",
       " 'controversial': 41,\n",
       " 'decision': 42,\n",
       " 'send': 43,\n",
       " 'more': 44,\n",
       " 'troops': 45,\n",
       " 'iraq': 46,\n",
       " 'thousands': 47,\n",
       " 'palestinian': 48,\n",
       " 'prisoners': 49,\n",
       " 'israeli': 50,\n",
       " 'jails': 51,\n",
       " 'began': 52,\n",
       " 'hunger': 53,\n",
       " 'strike': 54,\n",
       " 'better': 55,\n",
       " 'conditions': 56,\n",
       " 'israel': 57,\n",
       " 'security': 58,\n",
       " 'minister': 59,\n",
       " 'said': 60,\n",
       " 'didn': 61,\n",
       " 'care': 62,\n",
       " 'starved': 63,\n",
       " 'death': 64,\n",
       " 'afp': 65,\n",
       " 'sporadic': 66,\n",
       " 'gunfire': 67,\n",
       " 'shelling': 68,\n",
       " 'took': 69,\n",
       " 'place': 70,\n",
       " 'overnight': 71,\n",
       " 'disputed': 72,\n",
       " 'georgian': 73,\n",
       " 'region': 74,\n",
       " 'ossetia': 75,\n",
       " 'violation': 76,\n",
       " 'fragile': 77,\n",
       " 'ceasefire': 78,\n",
       " 'wounding': 79,\n",
       " 'seven': 80,\n",
       " 'servicemen': 81,\n",
       " 'ap': 82,\n",
       " 'dozens': 83,\n",
       " 'rwandan': 84,\n",
       " 'soldiers': 85,\n",
       " 'flew': 86,\n",
       " 'into': 87,\n",
       " 'sudan': 88,\n",
       " 'troubled': 89,\n",
       " 'darfur': 90,\n",
       " 'first': 91,\n",
       " 'foreign': 92,\n",
       " 'armed': 93,\n",
       " 'force': 94,\n",
       " 'deployed': 95,\n",
       " 'area': 96,\n",
       " 'since': 97,\n",
       " 'arab': 98,\n",
       " 'militiamen': 99,\n",
       " 'rampage': 100,\n",
       " 'against': 101,\n",
       " 'black': 102,\n",
       " 'african': 103,\n",
       " 'farmers': 104,\n",
       " 'killing': 105,\n",
       " 'airlifted': 106,\n",
       " 'mandated': 107,\n",
       " 'protect': 108,\n",
       " 'observers': 109,\n",
       " 'monitoring': 110,\n",
       " 'cease': 111,\n",
       " 'fire': 112,\n",
       " 'between': 113,\n",
       " 'sudanese': 114,\n",
       " 'rebels': 115,\n",
       " 'western': 116,\n",
       " 'bomb': 117,\n",
       " 'exploded': 118,\n",
       " 'during': 119,\n",
       " 'independence': 120,\n",
       " 'day': 121,\n",
       " 'parade': 122,\n",
       " 'india': 123,\n",
       " 'remote': 124,\n",
       " 'northeast': 125,\n",
       " 'people': 126,\n",
       " 'including': 127,\n",
       " 'schoolchildren': 128,\n",
       " 'while': 129,\n",
       " 'rocket': 130,\n",
       " 'attack': 131,\n",
       " 'celebration': 132,\n",
       " 'school': 133,\n",
       " 'separatist': 134,\n",
       " 'kashmir': 135,\n",
       " 'injured': 136,\n",
       " 'officials': 137,\n",
       " 'australia': 138,\n",
       " 'pay': 139,\n",
       " 'rare': 140,\n",
       " 'visit': 141,\n",
       " 'north': 142,\n",
       " 'korea': 143,\n",
       " 'week': 144,\n",
       " 'talks': 145,\n",
       " 'nuclear': 146,\n",
       " 'programme': 147,\n",
       " 'after': 148,\n",
       " 'creating': 149,\n",
       " 'stir': 150,\n",
       " 'here': 151,\n",
       " 'warning': 152,\n",
       " 'missile': 153,\n",
       " 'would': 154,\n",
       " 'able': 155,\n",
       " 'hit': 156,\n",
       " 'sydney': 157,\n",
       " 'democratic': 158,\n",
       " 'presidential': 159,\n",
       " 'candidate': 160,\n",
       " 'john': 161,\n",
       " 'kerry': 162,\n",
       " 'plan': 163,\n",
       " 'florida': 164,\n",
       " 'aftermath': 165,\n",
       " 'hurricane': 166,\n",
       " 'charley': 167,\n",
       " 'because': 168,\n",
       " 'concerned': 169,\n",
       " 'campaign': 170,\n",
       " 'entourage': 171,\n",
       " 'distract': 172,\n",
       " 'recovery': 173,\n",
       " 'efforts': 174,\n",
       " 'saturday': 175,\n",
       " 'vice': 176,\n",
       " 'edwards': 177,\n",
       " 'called': 178,\n",
       " 'changes': 179,\n",
       " 'prescription': 180,\n",
       " 'drug': 181,\n",
       " 'programs': 182,\n",
       " 'praised': 183,\n",
       " 'running': 184,\n",
       " 'mate': 185,\n",
       " 'military': 186,\n",
       " 'service': 187,\n",
       " 'outdoor': 188,\n",
       " 'rally': 189,\n",
       " 'although': 190,\n",
       " 'polls': 191,\n",
       " 'show': 192,\n",
       " 'us': 193,\n",
       " 'race': 194,\n",
       " 'virtual': 195,\n",
       " 'dead': 196,\n",
       " 'heat': 197,\n",
       " 'democrat': 198,\n",
       " 'appears': 199,\n",
       " 'gaining': 200,\n",
       " 'edge': 201,\n",
       " 'over': 202,\n",
       " 'george': 203,\n",
       " 'bush': 204,\n",
       " 'among': 205,\n",
       " 'key': 206,\n",
       " 'states': 207,\n",
       " 'decide': 208,\n",
       " 'outcome': 209,\n",
       " 'congress': 210,\n",
       " 'must': 211,\n",
       " 'pass': 212,\n",
       " 'legislation': 213,\n",
       " 'nation': 214,\n",
       " 'electricity': 215,\n",
       " 'grid': 216,\n",
       " 'wants': 217,\n",
       " 'avoid': 218,\n",
       " 'repeats': 219,\n",
       " 'devastating': 220,\n",
       " 'outages': 221,\n",
       " 'rolled': 222,\n",
       " 'across': 223,\n",
       " 'eight': 224,\n",
       " 'last': 225,\n",
       " 'year': 226,\n",
       " 'sen': 227,\n",
       " 'maria': 228,\n",
       " 'cantwell': 229,\n",
       " 'wash': 230,\n",
       " 'missouri': 231,\n",
       " 'attorney': 232,\n",
       " 'general': 233,\n",
       " 'sued': 234,\n",
       " 'federal': 235,\n",
       " 'environmental': 236,\n",
       " 'agency': 237,\n",
       " 'friday': 238,\n",
       " 'saying': 239,\n",
       " 'behind': 240,\n",
       " 'testing': 241,\n",
       " 'state': 242,\n",
       " 'air': 243,\n",
       " 'lead': 244,\n",
       " 'required': 245,\n",
       " 'law': 246,\n",
       " 'baghdad': 247,\n",
       " 'insurgents': 248,\n",
       " 'fired': 249,\n",
       " 'mortars': 250,\n",
       " 'meeting': 251,\n",
       " 'where': 252,\n",
       " 'iraqi': 253,\n",
       " 'leaders': 254,\n",
       " 'met': 255,\n",
       " 'pick': 256,\n",
       " 'interim': 257,\n",
       " 'national': 258,\n",
       " 'assembly': 259,\n",
       " 'grim': 260,\n",
       " 'reminder': 261,\n",
       " 'country': 262,\n",
       " 'tortured': 263,\n",
       " 'path': 264,\n",
       " 'toward': 265,\n",
       " 'democracy': 266,\n",
       " 'tokyo': 267,\n",
       " 'three': 268,\n",
       " 'japanese': 269,\n",
       " 'ministers': 270,\n",
       " 'paid': 271,\n",
       " 'homage': 272,\n",
       " 'shrine': 273,\n",
       " 'war': 274,\n",
       " 'anniversary': 275,\n",
       " 'japan': 276,\n",
       " 'world': 277,\n",
       " 'ii': 278,\n",
       " 'surrender': 279,\n",
       " 'move': 280,\n",
       " 'drew': 281,\n",
       " 'anger': 282,\n",
       " 'asian': 283,\n",
       " 'neighbors': 284,\n",
       " 'clashes': 285,\n",
       " 'sadr': 286,\n",
       " 'escalated': 287,\n",
       " 'thursday': 288,\n",
       " 'surrounded': 289,\n",
       " 'najaf': 290,\n",
       " 'possible': 291,\n",
       " 'siege': 292,\n",
       " 'whether': 293,\n",
       " 'cut': 294,\n",
       " 'short': 295,\n",
       " 'term': 296,\n",
       " 'due': 297,\n",
       " 'end': 298,\n",
       " 'amid': 299,\n",
       " 'reevaluation': 300,\n",
       " 'pushed': 301,\n",
       " 'completion': 302,\n",
       " 'date': 303,\n",
       " 'venues': 304,\n",
       " 'back': 305,\n",
       " 'setting': 306,\n",
       " 'up': 307,\n",
       " 'continue': 308,\n",
       " 'despite': 309,\n",
       " 'fresh': 310,\n",
       " 'violence': 311,\n",
       " 'shia': 312,\n",
       " 'stronghold': 313,\n",
       " 'under': 314,\n",
       " 'way': 315,\n",
       " 'venezuela': 316,\n",
       " 'should': 317,\n",
       " 'remain': 318,\n",
       " 'ailing': 319,\n",
       " 'pope': 320,\n",
       " 'paul': 321,\n",
       " 'says': 322,\n",
       " 'mass': 323,\n",
       " 'lourdes': 324,\n",
       " 'french': 325,\n",
       " 'revered': 326,\n",
       " 'roman': 327,\n",
       " 'catholics': 328,\n",
       " 'arrive': 329,\n",
       " 'help': 330,\n",
       " 'monitors': 331,\n",
       " 'ravaged': 332,\n",
       " 'ian': 333,\n",
       " 'thorpe': 334,\n",
       " 'sets': 335,\n",
       " 'fastest': 336,\n",
       " 'time': 337,\n",
       " 'freestyle': 338,\n",
       " 'swimming': 339,\n",
       " 'top': 340,\n",
       " 'names': 341,\n",
       " 'cruise': 342,\n",
       " 'semi': 343,\n",
       " 'finals': 344,\n",
       " 'iran': 345,\n",
       " 'arash': 346,\n",
       " 'miresmaili': 347,\n",
       " 'withdraws': 348,\n",
       " 'olympics': 349,\n",
       " 'confusion': 350,\n",
       " 'reasons': 351,\n",
       " 'santa': 352,\n",
       " 'barbara': 353,\n",
       " 'sheriff': 354,\n",
       " 'asks': 355,\n",
       " 'judge': 356,\n",
       " 'release': 357,\n",
       " 'results': 358,\n",
       " 'inquiry': 359,\n",
       " 'michael': 360,\n",
       " 'jackson': 361,\n",
       " 'treatment': 362,\n",
       " 'crisis': 363,\n",
       " 'differences': 364,\n",
       " 'nato': 365,\n",
       " 'loom': 366,\n",
       " 'defence': 367,\n",
       " 'secretary': 368,\n",
       " 'russian': 369,\n",
       " 'counterpart': 370,\n",
       " 'georgia': 371,\n",
       " 'negotiate': 372,\n",
       " 'details': 373,\n",
       " 'truce': 374,\n",
       " 'forged': 375,\n",
       " 'reports': 376,\n",
       " 'village': 377,\n",
       " 'british': 378,\n",
       " 'journalist': 379,\n",
       " 'kidnapped': 380,\n",
       " 'faced': 381,\n",
       " 'mock': 382,\n",
       " 'executions': 383,\n",
       " 'tried': 384,\n",
       " 'escape': 385,\n",
       " 'captors': 386,\n",
       " 'man': 387,\n",
       " 'convicted': 388,\n",
       " 'raping': 389,\n",
       " 'schoolgirl': 390,\n",
       " 'hanged': 391,\n",
       " 'execution': 392,\n",
       " 'nine': 393,\n",
       " 'harry': 394,\n",
       " 'potter': 395,\n",
       " 'author': 396,\n",
       " 'jk': 397,\n",
       " 'rowling': 398,\n",
       " 'delights': 399,\n",
       " 'small': 400,\n",
       " 'group': 401,\n",
       " 'fans': 402,\n",
       " 'giving': 403,\n",
       " 'public': 404,\n",
       " 'reading': 405,\n",
       " 'scotland': 406,\n",
       " 'four': 407,\n",
       " 'caracas': 408,\n",
       " 'partisans': 409,\n",
       " 'both': 410,\n",
       " 'sides': 411,\n",
       " 'calling': 412,\n",
       " 'most': 413,\n",
       " 'polarized': 414,\n",
       " 'important': 415,\n",
       " 'election': 416,\n",
       " 'history': 417,\n",
       " 'recall': 418,\n",
       " 'today': 419,\n",
       " 'determine': 420,\n",
       " 'course': 421,\n",
       " 'buffet': 422,\n",
       " 'oil': 423,\n",
       " 'prices': 424,\n",
       " 'campaigns': 425,\n",
       " 'also': 426,\n",
       " 'utterly': 427,\n",
       " 'convinced': 428,\n",
       " 'win': 429,\n",
       " 'london': 430,\n",
       " 'sweltering': 431,\n",
       " 'august': 432,\n",
       " 'afternoon': 433,\n",
       " 'watson': 434,\n",
       " 'wedged': 435,\n",
       " 'himself': 436,\n",
       " 'briefcase': 437,\n",
       " 'sports': 438,\n",
       " 'jacket': 439,\n",
       " 'raincoat': 440,\n",
       " 'narrow': 441,\n",
       " 'seat': 442,\n",
       " 'aboard': 443,\n",
       " 'profoundly': 444,\n",
       " 'un': 445,\n",
       " 'conditioned': 446,\n",
       " 'bus': 447,\n",
       " 'resumed': 448,\n",
       " 'rumble': 449,\n",
       " 'down': 450,\n",
       " 'high': 451,\n",
       " 'holborn': 452,\n",
       " 'bustling': 453,\n",
       " 'city': 454,\n",
       " 'center': 455,\n",
       " 'kabul': 456,\n",
       " 'afghanistan': 457,\n",
       " 'rival': 458,\n",
       " 'militias': 459,\n",
       " 'clashed': 460,\n",
       " 'yesterday': 461,\n",
       " 'reportedly': 462,\n",
       " 'ramping': 463,\n",
       " 'concern': 464,\n",
       " 'about': 465,\n",
       " 'prepares': 466,\n",
       " 'landmark': 467,\n",
       " 'elections': 468,\n",
       " 'than': 469,\n",
       " 'fighting': 470,\n",
       " 'mahdi': 471,\n",
       " 'army': 472,\n",
       " 'combined': 473,\n",
       " 'forces': 474,\n",
       " 'half': 475,\n",
       " 'dozen': 476,\n",
       " 'other': 477,\n",
       " 'cities': 478,\n",
       " 'analysts': 479,\n",
       " 'say': 480,\n",
       " 'neither': 481,\n",
       " 'prime': 482,\n",
       " 'iyad': 483,\n",
       " 'allawi': 484,\n",
       " 'nor': 485,\n",
       " 'radical': 486,\n",
       " 'cleric': 487,\n",
       " 'moqtada': 488,\n",
       " 'al': 489,\n",
       " 'had': 490,\n",
       " 'any': 491,\n",
       " 'good': 492,\n",
       " 'options': 493,\n",
       " 'talk': 494,\n",
       " 'sasebo': 495,\n",
       " 'cloudless': 496,\n",
       " 'sleepy': 497,\n",
       " 'port': 498,\n",
       " 'old': 499,\n",
       " 'girl': 500,\n",
       " 'drenched': 501,\n",
       " 'blood': 502,\n",
       " 'clutching': 503,\n",
       " 'box': 504,\n",
       " 'cutter': 505,\n",
       " 'walked': 506,\n",
       " 'lunchroom': 507,\n",
       " 'elementary': 508,\n",
       " 'teachers': 509,\n",
       " 'students': 510,\n",
       " 'froze': 511,\n",
       " 'assuming': 512,\n",
       " 'sixth': 513,\n",
       " 'grader': 514,\n",
       " 'known': 515,\n",
       " 'lighthearted': 516,\n",
       " 'nature': 517,\n",
       " 'gravely': 518,\n",
       " 'hurt': 519,\n",
       " 'herself': 520,\n",
       " 'quickly': 521,\n",
       " 'dispelled': 522,\n",
       " 'impression': 523,\n",
       " 'witnesses': 524,\n",
       " 'uttering': 525,\n",
       " 'few': 526,\n",
       " 'sarajevo': 527,\n",
       " 'bosnia': 528,\n",
       " 'herzegovina': 529,\n",
       " 'when': 530,\n",
       " 'came': 531,\n",
       " 'nearly': 532,\n",
       " 'decade': 533,\n",
       " 'ago': 534,\n",
       " 'lived': 535,\n",
       " 'heavily': 536,\n",
       " 'guarded': 537,\n",
       " 'compounds': 538,\n",
       " 'patrolled': 539,\n",
       " 'streets': 540,\n",
       " 'tanks': 541,\n",
       " 'often': 542,\n",
       " 'wore': 543,\n",
       " 'full': 544,\n",
       " 'body': 545,\n",
       " 'armor': 546,\n",
       " 'lee': 547,\n",
       " 'yu': 548,\n",
       " 'jin': 549,\n",
       " 'kept': 550,\n",
       " 'secret': 551,\n",
       " 'whenever': 552,\n",
       " 'anybody': 553,\n",
       " 'asked': 554,\n",
       " 'all': 555,\n",
       " 'celebrity': 556,\n",
       " 'actress': 557,\n",
       " 'model': 558,\n",
       " 'spread': 559,\n",
       " 'simply': 560,\n",
       " 'denied': 561,\n",
       " 'rumors': 562,\n",
       " 'foreigner': 563,\n",
       " 'opposition': 564,\n",
       " 'long': 565,\n",
       " 'bitter': 566,\n",
       " 'oust': 567,\n",
       " 'venezuelan': 568,\n",
       " 'finally': 569,\n",
       " 'leftist': 570,\n",
       " 'leader': 571,\n",
       " 'hoping': 572,\n",
       " 'huge': 573,\n",
       " 'turnout': 574,\n",
       " 'poor': 575,\n",
       " 'keep': 576,\n",
       " 'power': 577,\n",
       " 'activists': 578,\n",
       " 'set': 579,\n",
       " 'off': 580,\n",
       " 'fireworks': 581,\n",
       " 'blared': 582,\n",
       " 'recordings': 583,\n",
       " 'bugle': 584,\n",
       " 'music': 585,\n",
       " 'wake': 586,\n",
       " 'voters': 587,\n",
       " 'hours': 588,\n",
       " 'before': 589,\n",
       " 'dawn': 590,\n",
       " 'flood': 591,\n",
       " 'votes': 592,\n",
       " 'favor': 593,\n",
       " 'punta': 594,\n",
       " 'gorda': 595,\n",
       " 'fla': 596,\n",
       " 'getting': 597,\n",
       " 'look': 598,\n",
       " 'widespread': 599,\n",
       " 'damage': 600,\n",
       " 'residents': 601,\n",
       " 'arduous': 602,\n",
       " 'task': 603,\n",
       " 'sorting': 604,\n",
       " 'through': 605,\n",
       " 'wreckage': 606,\n",
       " 'some': 607,\n",
       " 'starting': 608,\n",
       " 'again': 609,\n",
       " 'miami': 610,\n",
       " 'probably': 611,\n",
       " 'cause': 612,\n",
       " 'floridians': 613,\n",
       " 'insurance': 614,\n",
       " 'premiums': 615,\n",
       " 'skyrocket': 616,\n",
       " 'like': 617,\n",
       " 'andrew': 618,\n",
       " 'fewer': 619,\n",
       " 'insurers': 620,\n",
       " 'go': 621,\n",
       " 'bankrupt': 622,\n",
       " 'paying': 623,\n",
       " 'damages': 624,\n",
       " 'expected': 625,\n",
       " 'reach': 626,\n",
       " 'billions': 627,\n",
       " 'dollars': 628,\n",
       " 'industry': 629,\n",
       " 'previous': 630,\n",
       " 'premium': 631,\n",
       " 'increases': 632,\n",
       " 'overhauls': 633,\n",
       " 'made': 634,\n",
       " 'expensive': 635,\n",
       " 'natural': 636,\n",
       " 'disaster': 637,\n",
       " 'athens': 638,\n",
       " 'greece': 639,\n",
       " 'phelps': 640,\n",
       " 'qualifying': 641,\n",
       " 'olympic': 642,\n",
       " 'meter': 643,\n",
       " 'semifinals': 644,\n",
       " 'then': 645,\n",
       " 'found': 646,\n",
       " 'added': 647,\n",
       " 'american': 648,\n",
       " 'team': 649,\n",
       " 'evening': 650,\n",
       " 'relay': 651,\n",
       " 'final': 652,\n",
       " 'rivals': 653,\n",
       " 'pieter': 654,\n",
       " 'van': 655,\n",
       " 'den': 656,\n",
       " 'hoogenband': 657,\n",
       " 'teammate': 658,\n",
       " 'klete': 659,\n",
       " 'keller': 660,\n",
       " 'faster': 661,\n",
       " 'teenager': 662,\n",
       " 'free': 663,\n",
       " 'preliminaries': 664,\n",
       " 'around': 665,\n",
       " 'delhi': 666,\n",
       " 'just': 667,\n",
       " 'hour': 668,\n",
       " 'manmohan': 669,\n",
       " 'singh': 670,\n",
       " 'pledged': 671,\n",
       " 'fight': 672,\n",
       " 'terrorism': 673,\n",
       " 'outlawed': 674,\n",
       " 'united': 675,\n",
       " 'liberation': 676,\n",
       " 'front': 677,\n",
       " 'asom': 678,\n",
       " 'suspected': 679,\n",
       " 'being': 680,\n",
       " 'assam': 681,\n",
       " 'second': 682,\n",
       " 'one': 683,\n",
       " 'later': 684,\n",
       " 'inspector': 685,\n",
       " 'khagen': 686,\n",
       " 'sharma': 687,\n",
       " 'orem': 688,\n",
       " 'utah': 689,\n",
       " 'family': 690,\n",
       " 'friends': 691,\n",
       " 'lori': 692,\n",
       " 'hacking': 693,\n",
       " 'gathered': 694,\n",
       " 'memorial': 695,\n",
       " 'remember': 696,\n",
       " 'woman': 697,\n",
       " 'whom': 698,\n",
       " 'authorities': 699,\n",
       " 'believe': 700,\n",
       " 'slain': 701,\n",
       " 'husband': 702,\n",
       " 'slept': 703,\n",
       " 'attended': 704,\n",
       " 'parents': 705,\n",
       " 'mark': 706,\n",
       " 'charged': 707,\n",
       " 'murder': 708,\n",
       " 'france': 709,\n",
       " 'frail': 710,\n",
       " 'celebrated': 711,\n",
       " 'open': 712,\n",
       " 'several': 713,\n",
       " 'hundred': 714,\n",
       " 'thousand': 715,\n",
       " 'pilgrims': 716,\n",
       " 'many': 717,\n",
       " 'wheelchairs': 718,\n",
       " 'crowded': 719,\n",
       " 'onto': 720,\n",
       " 'field': 721,\n",
       " 'near': 722,\n",
       " 'virgin': 723,\n",
       " 'mary': 724,\n",
       " 'associated': 725,\n",
       " 'miraculous': 726,\n",
       " 'cures': 727,\n",
       " 'sick': 728,\n",
       " 'highlight': 729,\n",
       " 'town': 730,\n",
       " 'pyrenees': 731,\n",
       " 'catholic': 732,\n",
       " 'tradition': 733,\n",
       " 'st': 734,\n",
       " 'battle': 735,\n",
       " 'shiite': 736,\n",
       " 'muslim': 737,\n",
       " 'militia': 738,\n",
       " 'peace': 739,\n",
       " 'collapsed': 740,\n",
       " 'fallout': 741,\n",
       " 'shiites': 742,\n",
       " 'marines': 743,\n",
       " 'holy': 744,\n",
       " 'weaken': 745,\n",
       " 'may': 746,\n",
       " 'failed': 747,\n",
       " 'catch': 748,\n",
       " 'osama': 749,\n",
       " 'bin': 750,\n",
       " 'laden': 751,\n",
       " 'credited': 752,\n",
       " 'encouraging': 753,\n",
       " 'millions': 754,\n",
       " 'afghans': 755,\n",
       " 'register': 756,\n",
       " 'october': 757,\n",
       " 'tortuous': 758,\n",
       " 'steady': 759,\n",
       " 'clang': 760,\n",
       " 'mortar': 761,\n",
       " 'shells': 762,\n",
       " 'outside': 763,\n",
       " 'persistent': 764,\n",
       " 'delegates': 765,\n",
       " 'opening': 766,\n",
       " 'conference': 767,\n",
       " 'held': 768,\n",
       " 'hope': 769,\n",
       " 'taste': 770,\n",
       " 'succeed': 771,\n",
       " 'coast': 772,\n",
       " 'guard': 773,\n",
       " 'boarded': 774,\n",
       " 'ship': 775,\n",
       " 'choppy': 776,\n",
       " 'caribbean': 777,\n",
       " 'waters': 778,\n",
       " 'counting': 779,\n",
       " 'crew': 780,\n",
       " 'members': 781,\n",
       " 'match': 782,\n",
       " 'given': 783,\n",
       " 'earlier': 784,\n",
       " 'canadian': 785,\n",
       " 'press': 786,\n",
       " 'ottawa': 787,\n",
       " 'cp': 788,\n",
       " 'canada': 789,\n",
       " 'chiefs': 790,\n",
       " 'propose': 791,\n",
       " 'surcharge': 792,\n",
       " 'cents': 793,\n",
       " 'monthly': 794,\n",
       " 'telephone': 795,\n",
       " 'internet': 796,\n",
       " 'bills': 797,\n",
       " 'cover': 798,\n",
       " 'cost': 799,\n",
       " 'tapping': 800,\n",
       " 'communications': 801,\n",
       " 'terrorists': 802,\n",
       " 'criminals': 803,\n",
       " 'house': 804,\n",
       " 'intelligence': 805,\n",
       " 'committee': 806,\n",
       " 'urged': 807,\n",
       " 'fellow': 808,\n",
       " 'lawmakers': 809,\n",
       " 'allow': 810,\n",
       " 'confirmation': 811,\n",
       " 'hearings': 812,\n",
       " 'cia': 813,\n",
       " 'director': 814,\n",
       " 'derail': 815,\n",
       " 'overhaul': 816,\n",
       " 'spy': 817,\n",
       " 'agencies': 818,\n",
       " 'polling': 819,\n",
       " 'stations': 820,\n",
       " 'exporter': 821,\n",
       " 'tehran': 822,\n",
       " 'kidnappers': 823,\n",
       " 'holding': 824,\n",
       " 'iranian': 825,\n",
       " 'diplomat': 826,\n",
       " 'punish': 827,\n",
       " 'within': 828,\n",
       " 'captured': 829,\n",
       " 'television': 830,\n",
       " 'vaduz': 831,\n",
       " 'liechtenstein': 832,\n",
       " 'ushered': 833,\n",
       " 'era': 834,\n",
       " 'tiny': 835,\n",
       " 'alpine': 836,\n",
       " 'principality': 837,\n",
       " 'welcomed': 838,\n",
       " 'ruler': 839,\n",
       " 'sought': 840,\n",
       " 'shed': 841,\n",
       " 'image': 842,\n",
       " 'haven': 843,\n",
       " 'money': 844,\n",
       " 'launderers': 845,\n",
       " 'days': 846,\n",
       " 'celebrations': 847,\n",
       " 'honour': 848,\n",
       " 'allied': 849,\n",
       " 'veterans': 850,\n",
       " 'liberated': 851,\n",
       " 'southern': 852,\n",
       " 'climax': 853,\n",
       " 'jam': 854,\n",
       " 'band': 855,\n",
       " 'phish': 856,\n",
       " 'play': 857,\n",
       " 'gigs': 858,\n",
       " 'together': 859,\n",
       " 'special': 860,\n",
       " 'festival': 861,\n",
       " 'attracted': 862,\n",
       " 'riot': 863,\n",
       " 'erupt': 864,\n",
       " 'protest': 865,\n",
       " 'plans': 866,\n",
       " 'led': 867,\n",
       " 'powerful': 868,\n",
       " 'storms': 869,\n",
       " 'caused': 870,\n",
       " 'billion': 871,\n",
       " 'alone': 872,\n",
       " 'struggled': 873,\n",
       " 'draws': 874,\n",
       " 'desperate': 875,\n",
       " 'seeking': 876,\n",
       " 'miracle': 877,\n",
       " 'pontiff': 878,\n",
       " 'gasped': 879,\n",
       " 'trembled': 880,\n",
       " 'aides': 881,\n",
       " 'sizzling': 882,\n",
       " 'wis': 883,\n",
       " 'whistling': 884,\n",
       " 'straits': 885,\n",
       " 'suddenly': 886,\n",
       " 'anyone': 887,\n",
       " 'worries': 888,\n",
       " 'populist': 889,\n",
       " 'social': 890,\n",
       " 'revolution': 891,\n",
       " 'critics': 892,\n",
       " 'sidelined': 893,\n",
       " 'middle': 894,\n",
       " 'class': 895,\n",
       " 'fueled': 896,\n",
       " 'tensions': 897,\n",
       " 'rich': 898,\n",
       " 'firecrackers': 899,\n",
       " 'played': 900,\n",
       " 'recorded': 901,\n",
       " 'songs': 902,\n",
       " 'washington': 903,\n",
       " 'increasing': 904,\n",
       " 'reserve': 905,\n",
       " 'returned': 906,\n",
       " 'encountering': 907,\n",
       " 'battles': 908,\n",
       " 'civilian': 909,\n",
       " 'employers': 910,\n",
       " 'home': 911,\n",
       " 'jobs': 912,\n",
       " 'eliminated': 913,\n",
       " 'benefits': 914,\n",
       " 'reduced': 915,\n",
       " 'promotions': 916,\n",
       " 'forgotten': 917,\n",
       " 'redding': 918,\n",
       " 'calif': 919,\n",
       " 'wind': 920,\n",
       " 'wildfire': 921,\n",
       " 'roared': 922,\n",
       " 'mining': 923,\n",
       " 'destroying': 924,\n",
       " 'homes': 925,\n",
       " 'forcing': 926,\n",
       " 'flee': 927,\n",
       " 'sweeping': 928,\n",
       " 'estimated': 929,\n",
       " 'insured': 930,\n",
       " 'grand': 931,\n",
       " 'pre': 932,\n",
       " 'martin': 933,\n",
       " 'silent': 934,\n",
       " 'closing': 935,\n",
       " 'acadian': 936,\n",
       " 'nova': 937,\n",
       " 'scotia': 938,\n",
       " 'ramallah': 939,\n",
       " 'west': 940,\n",
       " 'bank': 941,\n",
       " 'wound': 942,\n",
       " 'emotional': 943,\n",
       " 'iron': 944,\n",
       " 'determination': 945,\n",
       " 'finish': 946,\n",
       " 'sermon': 947,\n",
       " 'order': 948,\n",
       " 'encourage': 949,\n",
       " 'others': 950,\n",
       " 'suffering': 951,\n",
       " 'spitz': 952,\n",
       " 'rest': 953,\n",
       " 'easy': 954,\n",
       " 'best': 955,\n",
       " 'gold': 956,\n",
       " 'medals': 957,\n",
       " 'upset': 958,\n",
       " 'inevitable': 959,\n",
       " 'men': 960,\n",
       " 'basketball': 961,\n",
       " 'lost': 962,\n",
       " 'only': 963,\n",
       " 'third': 964,\n",
       " 'ever': 965,\n",
       " 'puerto': 966,\n",
       " 'rico': 967,\n",
       " 'homeless': 968,\n",
       " 'mph': 969,\n",
       " 'winds': 970,\n",
       " 'dug': 971,\n",
       " 'shattered': 972,\n",
       " 'glass': 973,\n",
       " 'rescuing': 974,\n",
       " 'promised': 975,\n",
       " 'rapid': 976,\n",
       " 'delivery': 977,\n",
       " 'aid': 978,\n",
       " 'las': 979,\n",
       " 'vegas': 980,\n",
       " 'hotel': 981,\n",
       " 'heiress': 982,\n",
       " 'nicky': 983,\n",
       " 'hilton': 984,\n",
       " 'married': 985,\n",
       " 'york': 986,\n",
       " 'manager': 987,\n",
       " 'impromptu': 988,\n",
       " 'ceremony': 989,\n",
       " 'according': 990,\n",
       " 'court': 991,\n",
       " 'filings': 992,\n",
       " 'obtained': 993,\n",
       " 'todd': 994,\n",
       " 'meister': 995,\n",
       " 'wedding': 996,\n",
       " 'chapel': 997,\n",
       " 'clark': 998,\n",
       " 'county': 999,\n",
       " ...}"
      ]
     },
     "execution_count": 11,
     "metadata": {},
     "output_type": "execute_result"
    }
   ],
   "source": [
    "word2id"
   ]
  },
  {
   "cell_type": "markdown",
   "metadata": {},
   "source": [
    "### Convert the list of unigrams  into a list of vocabulary indices"
   ]
  },
  {
   "cell_type": "markdown",
   "metadata": {},
   "source": [
    "Storing actual one-hot vectors into memory for all words in the entire data set is prohibitive. Instead, we will store word indices in the vocabulary and look-up the weight matrix. This is equivalent of doing a dot product between an one-hot vector and the weight matrix. \n",
    "\n",
    "First, represent documents in train, dev and test sets as lists of words in the vocabulary:"
   ]
  },
  {
   "cell_type": "code",
   "execution_count": 12,
   "metadata": {
    "ExecuteTime": {
     "end_time": "2020-04-02T14:26:45.047887Z",
     "start_time": "2020-04-02T14:26:44.920631Z"
    },
    "scrolled": true
   },
   "outputs": [],
   "source": [
    "train_extracted_unigrams = []\n",
    "dev_extracted_unigrams = []\n",
    "test_extracted_unigrams = []\n",
    "\n",
    "# extract unigrams for each text in training dataset\n",
    "for i in range(len(train_raw)):\n",
    "    extracted_unigrams = extract_ngrams(x_raw = train_raw[i], ngram_range = (1, 1), stop_words = stop_words,\n",
    "                                       vocab = set())\n",
    "    train_extracted_unigrams.append(extracted_unigrams)\n",
    "\n",
    "\n",
    "# extract unigrams for each text in development dataset\n",
    "for i in range(len(dev_raw)):\n",
    "    extracted_unigrams = extract_ngrams(x_raw = dev_raw[i], ngram_range = (1, 1), stop_words = stop_words,\n",
    "                                       vocab = set())\n",
    "    dev_extracted_unigrams.append(extracted_unigrams)\n",
    "\n",
    "\n",
    "# extract unigrams for each text in test dataset\n",
    "for i in range(len(test_raw)):\n",
    "    extracted_unigrams = extract_ngrams(x_raw = test_raw[i], ngram_range = (1, 1), stop_words = stop_words,\n",
    "                                       vocab = set())\n",
    "    test_extracted_unigrams.append(extracted_unigrams)\n",
    "    "
   ]
  },
  {
   "cell_type": "code",
   "execution_count": 13,
   "metadata": {},
   "outputs": [
    {
     "data": {
      "text/plain": [
       "['reuters',\n",
       " 'venezuelans',\n",
       " 'turned',\n",
       " 'out',\n",
       " 'early',\n",
       " 'large',\n",
       " 'numbers',\n",
       " 'sunday',\n",
       " 'vote',\n",
       " 'historic',\n",
       " 'referendum',\n",
       " 'either',\n",
       " 'remove',\n",
       " 'left',\n",
       " 'wing',\n",
       " 'president',\n",
       " 'hugo',\n",
       " 'chavez',\n",
       " 'office',\n",
       " 'give',\n",
       " 'him',\n",
       " 'new',\n",
       " 'mandate',\n",
       " 'govern',\n",
       " 'next',\n",
       " 'two',\n",
       " 'years']"
      ]
     },
     "execution_count": 13,
     "metadata": {},
     "output_type": "execute_result"
    }
   ],
   "source": [
    "# Check the extracted unigrams for first document in training dataset\n",
    "train_extracted_unigrams[0]"
   ]
  },
  {
   "cell_type": "markdown",
   "metadata": {},
   "source": [
    "Then convert them into lists of indices in the vocabulary:"
   ]
  },
  {
   "cell_type": "code",
   "execution_count": 14,
   "metadata": {
    "ExecuteTime": {
     "end_time": "2020-04-02T14:26:45.752658Z",
     "start_time": "2020-04-02T14:26:45.730409Z"
    },
    "scrolled": true
   },
   "outputs": [],
   "source": [
    "# define a function to convert lists of words to lists of indices\n",
    "def convert_to_indices(extracted_unigrams, word2id, vocab):\n",
    "    # create a list to store all lists of indices for documents in a dataset\n",
    "    x_indices = [] \n",
    "    \n",
    "    \n",
    "    for text in extracted_unigrams:\n",
    "        # create a list to store list of indices for one document in current dataset\n",
    "        text_indices = []\n",
    "        \n",
    "        for word in text:\n",
    "            if word in vocab:\n",
    "                text_indices.append(word2id[word])\n",
    "        \n",
    "        x_indices.append(text_indices)\n",
    "    \n",
    "    return x_indices\n"
   ]
  },
  {
   "cell_type": "code",
   "execution_count": 15,
   "metadata": {},
   "outputs": [],
   "source": [
    "# convert lists of extracted unigrams to list of indices\n",
    "train_indices = convert_to_indices(train_extracted_unigrams, word2id, vocab)\n",
    "dev_indices = convert_to_indices(dev_extracted_unigrams, word2id, vocab)\n",
    "test_indices = convert_to_indices(test_extracted_unigrams, word2id, vocab)\n"
   ]
  },
  {
   "cell_type": "code",
   "execution_count": 16,
   "metadata": {},
   "outputs": [
    {
     "data": {
      "text/plain": [
       "[0,\n",
       " 1,\n",
       " 2,\n",
       " 3,\n",
       " 4,\n",
       " 5,\n",
       " 6,\n",
       " 7,\n",
       " 8,\n",
       " 9,\n",
       " 10,\n",
       " 11,\n",
       " 12,\n",
       " 13,\n",
       " 14,\n",
       " 15,\n",
       " 16,\n",
       " 17,\n",
       " 18,\n",
       " 19,\n",
       " 20,\n",
       " 21,\n",
       " 22,\n",
       " 23,\n",
       " 24,\n",
       " 25,\n",
       " 26]"
      ]
     },
     "execution_count": 16,
     "metadata": {},
     "output_type": "execute_result"
    }
   ],
   "source": [
    "# display the list of indices for the first document in training dataset\n",
    "train_indices[0]\n",
    "\n",
    "# the element in this list is the index for corresponding unigram in \"word2id\" dictionary"
   ]
  },
  {
   "cell_type": "markdown",
   "metadata": {},
   "source": [
    "Put the labels `Y` for train, dev and test sets into arrays: "
   ]
  },
  {
   "cell_type": "code",
   "execution_count": 17,
   "metadata": {
    "ExecuteTime": {
     "end_time": "2020-04-02T15:03:13.183996Z",
     "start_time": "2020-04-02T15:03:13.077575Z"
    },
    "scrolled": true
   },
   "outputs": [],
   "source": [
    "train_label = np.array([train_raw_pd.iloc[i, 0] for i in range(train_raw_pd.shape[0])]) - 1\n",
    "dev_label = np.array([dev_raw_pd.iloc[i, 0] for i in range(dev_raw_pd.shape[0])]) - 1\n",
    "test_label = np.array([test_raw_pd.iloc[i, 0] for i in range(test_raw_pd.shape[0])]) - 1"
   ]
  },
  {
   "cell_type": "markdown",
   "metadata": {},
   "source": [
    "convert the labels to one-hot labels:"
   ]
  },
  {
   "cell_type": "code",
   "execution_count": 18,
   "metadata": {},
   "outputs": [],
   "source": [
    "# define a function \"convert_to_one_hot\" to convert raw label to one hot encoding label.\n",
    "def convert_to_one_hot(label_raw):\n",
    "    label_oh = np.zeros([label_raw.shape[0], 3])\n",
    "    \n",
    "    for i in range(label_raw.shape[0]):\n",
    "        label = label_raw[i]\n",
    "        label_oh[i, label] = 1\n",
    "    \n",
    "    return label_oh\n"
   ]
  },
  {
   "cell_type": "code",
   "execution_count": 19,
   "metadata": {},
   "outputs": [],
   "source": [
    "# convert raw labels to one-hot-enconding format:\n",
    "\n",
    "train_label_oh = convert_to_one_hot(train_label)\n",
    "dev_label_oh = convert_to_one_hot(dev_label)\n",
    "test_label_oh = convert_to_one_hot(test_label)"
   ]
  },
  {
   "cell_type": "markdown",
   "metadata": {},
   "source": [
    "# Network Architecture\n",
    "\n",
    "Your network should pass each word index into its corresponding embedding by looking-up on the embedding matrix and then compute the first hidden layer $\\mathbf{h}_1$:\n",
    "\n",
    "$$\\mathbf{h}_1 = \\frac{1}{|x|}\\sum_i W^e_i, i \\in x$$\n",
    "\n",
    "where $|x|$ is the number of words in the document and $W^e$ is an embedding matrix $|V|\\times d$, $|V|$ is the size of the vocabulary and $d$ the embedding size.\n",
    "\n",
    "Then $\\mathbf{h}_1$ should be passed through a ReLU activation function:\n",
    "\n",
    "$$\\mathbf{a}_1 = relu(\\mathbf{h}_1)$$\n",
    "\n",
    "Finally the hidden layer is passed to the output layer:\n",
    "\n",
    "\n",
    "$$\\mathbf{y} = \\text{softmax}(\\mathbf{a}_1W) $$ \n",
    "where $W$ is a matrix $d \\times |{\\cal Y}|$, $|{\\cal Y}|$ is the number of classes.\n",
    "\n",
    "During training, $\\mathbf{a}_1$ should be multiplied with a dropout mask vector (elementwise) for regularisation before it is passed to the output layer.\n",
    "\n",
    "You can extend to a deeper architecture by passing a hidden layer to another one:\n",
    "\n",
    "$$\\mathbf{h_i} = \\mathbf{a}_{i-1}W_i $$\n",
    "\n",
    "$$\\mathbf{a_i} = relu(\\mathbf{h_i}) $$\n",
    "\n"
   ]
  },
  {
   "cell_type": "markdown",
   "metadata": {},
   "source": [
    "# Network Training\n",
    "\n",
    "First we need to define the parameters of our network by initiliasing the weight matrices. For that purpose, you should implement the `network_weights` function that takes as input:\n",
    "\n",
    "- `vocab_size`: the size of the vocabulary\n",
    "- `embedding_dim`: the size of the word embeddings\n",
    "- `hidden_dim`: a list of the sizes of any subsequent hidden layers. Empty if there are no hidden layers between the average embedding and the output layer \n",
    "- `num_classes`: the number of the classes for the output layer\n",
    "\n",
    "and returns:\n",
    "\n",
    "- `W`: a dictionary mapping from layer index (e.g. 0 for the embedding matrix) to the corresponding weight matrix initialised with small random numbers (hint: use numpy.random.uniform with from -0.1 to 0.1)\n",
    "\n",
    "Make sure that the dimensionality of each weight matrix is compatible with the previous and next weight matrix, otherwise you won't be able to perform forward and backward passes. Consider also using np.float32 precision to save memory."
   ]
  },
  {
   "cell_type": "code",
   "execution_count": 20,
   "metadata": {
    "ExecuteTime": {
     "end_time": "2020-04-02T15:41:20.918617Z",
     "start_time": "2020-04-02T15:41:20.915597Z"
    },
    "scrolled": true
   },
   "outputs": [],
   "source": [
    "def network_weights(vocab_size=1000, embedding_dim=300, \n",
    "                    hidden_dim=[], num_classes=3, init_val = 0.2):\n",
    "    \n",
    "    # initialize the dictionary W\n",
    "    W = dict()\n",
    "    \n",
    "    # initialize the weight matrix for average embedding layer\n",
    "    w1 = np.random.uniform(-init_val, init_val, size = [vocab_size, embedding_dim])\n",
    "    W[0] = w1\n",
    "    \n",
    "    # initialize the weight matrix for hidden layer(s) and the output layer\n",
    "    input_dim = embedding_dim\n",
    "    output_dims = hidden_dim.copy()\n",
    "    output_dims.append(num_classes)\n",
    "    \n",
    "    for i in range(1, len(hidden_dim) + 1 + 1):\n",
    "        \n",
    "        if (len(hidden_dim) == 0):\n",
    "            # at this time, our network only has embedding layer and output layer\n",
    "            W[i] = np.random.uniform(-init_val, init_val, size = [input_dim, output_dims[i - 1]])\n",
    "        \n",
    "        else:\n",
    "            # at this time, besides the embedding layer and output layer, our network has some hidden layers\n",
    "            W[i] = np.random.uniform(-init_val, init_val, size = [input_dim, output_dims[i - 1]])\n",
    "            \n",
    "            # update input_dim\n",
    "            input_dim = output_dims[i - 1]\n",
    "\n",
    "\n",
    "    return W\n",
    "\n",
    "# Function \"network_weights\" could produce weight matrices for 2 or more layers."
   ]
  },
  {
   "cell_type": "markdown",
   "metadata": {
    "ExecuteTime": {
     "end_time": "2020-04-01T10:31:57.970152Z",
     "start_time": "2020-04-01T10:31:57.966123Z"
    }
   },
   "source": [
    "Then you need to develop a `softmax` function (same as in Assignment 1) to be used in the output layer. \n",
    "\n",
    "It takes as input `z` (array of real numbers) and returns `sig` (the softmax of `z`)\n",
    "\n"
   ]
  },
  {
   "cell_type": "code",
   "execution_count": 21,
   "metadata": {},
   "outputs": [],
   "source": [
    "def softmax(z):\n",
    "    # I set z is a column vector. Its shape is n*1.\n",
    "    \n",
    "    # initialize the numpy array for sig\n",
    "    sig = np.zeros_like(z)\n",
    "    \n",
    "    # calculate the denominator \n",
    "    denominator = 0\n",
    "    \n",
    "    row = z.shape[0]\n",
    "    \n",
    "    for i in range(row):\n",
    "        denominator += np.exp(z[i])\n",
    "    \n",
    "    for i in range(row):\n",
    "        sig[i] = np.exp(z[i])/denominator\n",
    "    \n",
    "    return sig"
   ]
  },
  {
   "cell_type": "markdown",
   "metadata": {},
   "source": [
    "Now you need to implement the categorical cross entropy loss by slightly modifying the function from Assignment 1 to depend only on the true label `y` and the class probabilities vector `y_preds`:\n"
   ]
  },
  {
   "cell_type": "code",
   "execution_count": 22,
   "metadata": {
    "ExecuteTime": {
     "end_time": "2020-04-02T14:26:51.360838Z",
     "start_time": "2020-04-02T14:26:51.356935Z"
    },
    "scrolled": true
   },
   "outputs": [],
   "source": [
    "def categorical_loss(y, y_preds):\n",
    "    # set y to a column vector. Its shape is n*1.\n",
    "    \n",
    "    l = np.sum(-y * np.log(y_preds))\n",
    "    \n",
    "    return l"
   ]
  },
  {
   "cell_type": "markdown",
   "metadata": {
    "ExecuteTime": {
     "end_time": "2020-03-31T15:02:56.149535Z",
     "start_time": "2020-03-31T15:02:56.145738Z"
    }
   },
   "source": [
    "Then, implement the `relu` function to introduce non-linearity after each hidden layer of your network \n",
    "(during the forward pass): \n",
    "\n",
    "$$relu(z_i)= max(z_i,0)$$\n",
    "\n",
    "and the `relu_derivative` function to compute its derivative (used in the backward pass):\n",
    "\n",
    "  \n",
    "  relu_derivative($z_i$)=0, if $z_i$<=0, 1 otherwise.\n",
    "  \n",
    "\n",
    "\n",
    "Note that both functions take as input a vector $z$ \n",
    "\n",
    "Hint use .copy() to avoid in place changes in array z"
   ]
  },
  {
   "cell_type": "code",
   "execution_count": 23,
   "metadata": {
    "ExecuteTime": {
     "end_time": "2020-04-02T14:26:52.665236Z",
     "start_time": "2020-04-02T14:26:52.661519Z"
    },
    "scrolled": true
   },
   "outputs": [],
   "source": [
    "def relu(z):\n",
    "    \n",
    "    # initialize the numpy array a\n",
    "    a = np.zeros_like(z)\n",
    "    \n",
    "    for i in range(z.shape[0]):\n",
    "        if z[i] > 0:\n",
    "            a[i] = z[i]\n",
    "        else:\n",
    "            a[i] = 0   \n",
    "    \n",
    "    return a\n",
    "    \n",
    "def relu_derivative(z):\n",
    "    \n",
    "    # initialize the numpy array dz\n",
    "    dz = np.zeros_like(z)\n",
    "    \n",
    "    for i in range(z.shape[0]):\n",
    "        if z[i] > 0:\n",
    "            dz[i] = 1\n",
    "        else:\n",
    "            dz[i] = 0\n",
    "    \n",
    "    return dz"
   ]
  },
  {
   "cell_type": "markdown",
   "metadata": {},
   "source": [
    "During training you should also apply a dropout mask element-wise after the activation function (i.e. vector of ones with a random percentage set to zero). The `dropout_mask` function takes as input:\n",
    "\n",
    "- `size`: the size of the vector that we want to apply dropout\n",
    "- `dropout_rate`: the percentage of elements that will be randomly set to zeros\n",
    "\n",
    "and returns:\n",
    "\n",
    "- `dropout_vec`: a vector with binary values (0 or 1)"
   ]
  },
  {
   "cell_type": "code",
   "execution_count": 24,
   "metadata": {
    "ExecuteTime": {
     "end_time": "2020-04-02T14:26:53.429192Z",
     "start_time": "2020-04-02T14:26:53.425301Z"
    },
    "scrolled": true
   },
   "outputs": [],
   "source": [
    "def dropout_mask(size, dropout_rate):\n",
    "    \n",
    "    # initialize the dropout_vec\n",
    "    dropout_vec = np.ones(size)\n",
    "    \n",
    "    # randomly produce the positions of zeros\n",
    "    zero_pos = random.sample(range(0, size), int(size * dropout_rate))\n",
    "    \n",
    "    for i in zero_pos:\n",
    "        dropout_vec[i] = 0\n",
    "    \n",
    "    return dropout_vec\n",
    "    \n",
    "    "
   ]
  },
  {
   "cell_type": "code",
   "execution_count": 25,
   "metadata": {
    "ExecuteTime": {
     "end_time": "2020-04-02T14:26:53.853632Z",
     "start_time": "2020-04-02T14:26:53.849944Z"
    },
    "scrolled": true
   },
   "outputs": [
    {
     "name": "stdout",
     "output_type": "stream",
     "text": [
      "[1. 1. 1. 1. 0. 1. 1. 1. 0. 1.]\n",
      "[1. 1. 1. 1. 1. 1. 1. 0. 0. 1.]\n"
     ]
    }
   ],
   "source": [
    "# set the random seed to 2022\n",
    "random.seed(2022)\n",
    "np.random.seed(2022)\n",
    "\n",
    "print(dropout_mask(10, 0.2))\n",
    "print(dropout_mask(10, 0.2))"
   ]
  },
  {
   "cell_type": "markdown",
   "metadata": {},
   "source": [
    "Now you need to implement the `forward_pass` function that passes the input x through the network up to the output layer for computing the probability for each class using the weight matrices in `W`. The ReLU activation function should be applied on each hidden layer. \n",
    "\n",
    "- `x`: a list of vocabulary indices each corresponding to a word in the document (input)\n",
    "- `W`: a list of weight matrices connecting each part of the network, e.g. for a network with a hidden and an output layer: W[0] is the weight matrix that connects the input to the first hidden layer, W[1] is the weight matrix that connects the hidden layer to the output layer.\n",
    "- `dropout_rate`: the dropout rate that is used to generate a random dropout mask vector applied after each hidden layer for regularisation.\n",
    "\n",
    "and returns:\n",
    "\n",
    "- `out_vals`: a dictionary of output values from each layer: h (the vector before the activation function), a (the resulting vector after passing h from the activation function), its dropout mask vector; and the prediction vector (probability for each class) from the output layer."
   ]
  },
  {
   "cell_type": "code",
   "execution_count": 26,
   "metadata": {
    "ExecuteTime": {
     "end_time": "2020-04-02T14:26:54.761268Z",
     "start_time": "2020-04-02T14:26:54.753402Z"
    },
    "scrolled": true
   },
   "outputs": [],
   "source": [
    "def forward_pass(x, W, dropout_rate=0.2):\n",
    "    # note: all layers will have h, a; the output layer will not have dropout mask and relu is not applied on output\n",
    "    # layer.\n",
    "    \n",
    "    \n",
    "    out_vals = {}\n",
    "    \n",
    "    h_vecs = []\n",
    "    a_vecs = []\n",
    "    dropout_vecs = []\n",
    "    \n",
    "    # (1) compute the output values (h, a, dropout mask vector) from embedding layer\n",
    "    # In this step:\n",
    "    #              i. list of indices input is mapped to embedding vector by embedding matrix;\n",
    "    #              ii. all embedding vectors of all words in input is averaged and followed by a ReLU activation\n",
    "    # function;\n",
    "    x_mapped = [] # a list to store the corresponding row in embedding matrix for the indices in list x\n",
    "    \n",
    "    for index in x:\n",
    "        x_mapped.append(W[0][index]) # W[0] is the word embedding weight matrix\n",
    "    \n",
    "    h = np.mean(np.array(x_mapped), axis = 0) # compute h for embedding layer\n",
    "    h_vecs.append(h)\n",
    "    \n",
    "    a = relu(h) # pass the h of embedding layer to activation function relu\n",
    "    a_vecs.append(a)\n",
    "    \n",
    "    dropout = dropout_mask(size = a.shape[0], \n",
    "                           dropout_rate = dropout_rate) # produce the dropout mask for embedding layer\n",
    "    dropout_vecs.append(dropout)\n",
    "    \n",
    "    \n",
    "    \n",
    "    \n",
    "    \n",
    "    # (2) compute the output values (h, a, dropout mask vector) for other hidden layers (if have) except embedding \n",
    "    # layer and output layer.\n",
    "    if len(W) > 2:\n",
    "        for i in range(1, len(W) - 1):\n",
    "            h = (a * dropout) @ W[i]\n",
    "            h_vecs.append(h)\n",
    "            \n",
    "            a = relu(h)\n",
    "            a_vecs.append(a)\n",
    "            \n",
    "            dropout = dropout_mask(size = a.shape[0],\n",
    "                                  dropout_rate = dropout_rate)\n",
    "            dropout_vecs.append(dropout)\n",
    "    \n",
    "    \n",
    "    # (3) compute the output values (h, no a and no dropout mask vector) and prediction vector for output layer.\n",
    "    h = (a * dropout) @ W[list(W.keys())[-1]]\n",
    "    h_vecs.append(h)\n",
    "    \n",
    "    \n",
    "    prediction_vec = softmax(h) # compute prediction vector from output layer\n",
    "    \n",
    "    \n",
    "    # produce the out_vals dictionary:\n",
    "    out_vals['h_vecs'] = h_vecs\n",
    "    out_vals['a_vecs'] = a_vecs\n",
    "    out_vals['dropout_vecs'] = dropout_vecs\n",
    "    out_vals['prediction_vec'] = prediction_vec\n",
    "\n",
    "    \n",
    "    \n",
    "    return out_vals\n",
    "    "
   ]
  },
  {
   "cell_type": "markdown",
   "metadata": {},
   "source": [
    "The `backward_pass` function computes the gradients and updates the weights for each matrix in the network from the output to the input. It takes as input \n",
    "\n",
    "- `x`: a list of vocabulary indices each corresponding to a word in the document (input)\n",
    "- `y`: the true label\n",
    "- `W`: a list of weight matrices connecting each part of the network, e.g. for a network with a hidden and an output layer: W[0] is the weight matrix that connects the input to the first hidden layer, W[1] is the weight matrix that connects the hidden layer to the output layer.\n",
    "- `out_vals`: a dictionary of output values from a forward pass.\n",
    "- `learning_rate`: the learning rate for updating the weights.\n",
    "- `freeze_emb`: boolean value indicating whether the embedding weights will be updated.\n",
    "\n",
    "and returns:\n",
    "\n",
    "- `W`: the updated weights of the network.\n",
    "\n",
    "Hint: the gradients on the output layer are similar to the multiclass logistic regression."
   ]
  },
  {
   "cell_type": "code",
   "execution_count": 27,
   "metadata": {
    "ExecuteTime": {
     "end_time": "2020-05-11T08:24:13.732705Z",
     "start_time": "2020-05-11T08:24:13.729741Z"
    },
    "scrolled": true
   },
   "outputs": [],
   "source": [
    "def backward_pass(x, y, W, out_vals, lr=0.001, freeze_emb=False):\n",
    "    \n",
    "    # obtain the layer index for each layer:\n",
    "    layer_nums = list(W.keys())\n",
    "    \n",
    "    # initialize a list to contain the gradient with respect to weights for middle hidden layers.\n",
    "    grads_hidden = []\n",
    "    \n",
    "    \n",
    "    # I've convert the label - y to one hot encoding form.\n",
    "    # (1) compute the gradient with respect to weights for output layer:\n",
    "    grad_out_h = (out_vals['prediction_vec'] - y).reshape(1, -1)\n",
    "    grad_out_w = (out_vals[\"a_vecs\"][-1] * out_vals[\"dropout_vecs\"][-1]).reshape(-1, 1) @ grad_out_h\n",
    "    \n",
    "    # Store the gradient with respect to weighted input \"h\" for last layer\n",
    "    # Because the grad_h for last layer is required to compute the grad_h for current layer\n",
    "    grad_last_h = grad_out_h\n",
    "    \n",
    "    # (2) compute the gradient with respect to weights for middle hidden layer (if have) except output layer and \n",
    "    # embedding layer; meanwhile, update the weights matrix of these parts.\n",
    "    \n",
    "    if len(W) > 2:\n",
    "        for i in range(2, len(W)):\n",
    "            grad_h = (grad_last_h @ W[layer_nums[-i+1]].T) * \\\n",
    "                     (relu_derivative(out_vals['h_vecs'][-i])).reshape(1, -1)\n",
    "            grad_w = (out_vals[\"a_vecs\"][-i] * out_vals[\"dropout_vecs\"][-i]).reshape(-1, 1) @ grad_h\n",
    "            \n",
    "            # store the gradient with repect to weight \"w\" for middle hidden layers\n",
    "            grads_hidden.append(grad_w)\n",
    "            \n",
    "            # update the grad_last_h\n",
    "            grad_last_h = grad_h\n",
    "    \n",
    "    \n",
    "    # (3) compute the gradient with respect to weights for embedding layer if flag \"freeze_emb\" is False.\n",
    "    if freeze_emb == False:\n",
    "        grad_emb_h = (grad_last_h @ W[layer_nums[1]].T) * \\\n",
    "                     (relu_derivative(out_vals['h_vecs'][0])).reshape(1, -1)\n",
    "    \n",
    "    \n",
    "    \n",
    "    # update weights matrix\n",
    "    # (1.1) update the weights matrix which connects the last hidden layer to output layer\n",
    "    W[layer_nums[-1]] = W[layer_nums[-1]] - lr * grad_out_w\n",
    "    \n",
    "    # (2.1) update the weights matrices which contect the middle hidden layers (if have)\n",
    "    if len(W) > 2:\n",
    "        for i in range(len(W) - 2):\n",
    "            W[layer_nums[-(2+i)]] = W[layer_nums[-(2+i)]] - lr * grads_hidden[i]\n",
    "    \n",
    "    # (3.1) If flag \"freeze_emb\" is False, update the embedding matrix\n",
    "    if freeze_emb == False:\n",
    "        for index in x:\n",
    "            W[0][index] = W[0][index] - lr * 1/len(x) * grad_emb_h\n",
    "            \n",
    "\n",
    "    \n",
    "    return W"
   ]
  },
  {
   "cell_type": "markdown",
   "metadata": {
    "ExecuteTime": {
     "end_time": "2020-02-15T14:08:59.937442Z",
     "start_time": "2020-02-15T14:08:59.932221Z"
    }
   },
   "source": [
    "Finally you need to modify SGD to support back-propagation by using the `forward_pass` and `backward_pass` functions.\n",
    "\n",
    "The `SGD` function takes as input:\n",
    "\n",
    "- `X_tr`: array of training data (vectors)\n",
    "- `Y_tr`: labels of `X_tr`\n",
    "- `W`: the weights of the network (dictionary)\n",
    "- `X_dev`: array of development (i.e. validation) data (vectors)\n",
    "- `Y_dev`: labels of `X_dev`\n",
    "- `lr`: learning rate\n",
    "- `dropout`: regularisation strength\n",
    "- `epochs`: number of full passes over the training data\n",
    "- `tolerance`: stop training if the difference between the current and previous validation loss is smaller than a threshold\n",
    "- `freeze_emb`: boolean value indicating whether the embedding weights will be updated (to be used by the backward pass function).\n",
    "- `print_progress`: flag for printing the training progress (train/validation loss)\n",
    "\n",
    "\n",
    "and returns:\n",
    "\n",
    "- `weights`: the weights learned\n",
    "- `training_loss_history`: an array with the average losses of the whole training set after each epoch\n",
    "- `validation_loss_history`: an array with the average losses of the whole development set after each epoch"
   ]
  },
  {
   "cell_type": "code",
   "execution_count": 28,
   "metadata": {
    "ExecuteTime": {
     "end_time": "2020-04-02T15:09:19.021428Z",
     "start_time": "2020-04-02T15:09:19.017835Z"
    },
    "scrolled": true
   },
   "outputs": [],
   "source": [
    "def SGD(X_tr, Y_tr, W, X_dev=[], Y_dev=[], lr=0.001, \n",
    "        dropout=0.2, epochs=5, tolerance=0.001, freeze_emb=False, \n",
    "        print_progress=True):\n",
    "    \n",
    "    # set the random seed to 2022\n",
    "    random.seed(2022)\n",
    "    np.random.seed(2022)\n",
    "    \n",
    "       \n",
    "    # initialize a list to contain the training input and training label\n",
    "    # note: the training label has been converted to one-hot encoding form.\n",
    "    training_data = list(zip(X_tr, Y_tr))\n",
    "    dev_data = list(zip(X_dev, Y_dev))\n",
    "    \n",
    "    \n",
    "    \n",
    "    \n",
    "    \n",
    "    # initialize the training and validation loss history list to store the loss for each epoch\n",
    "    training_loss_history = []\n",
    "    validation_loss_history = []\n",
    "    \n",
    "    # initialize the training loss and validation loss:\n",
    "    training_loss = 0;\n",
    "    validation_loss = 0;\n",
    "    \n",
    "    for x, y in training_data:\n",
    "        # obtain the predicted label\n",
    "        y_pred = forward_pass(x, W, dropout_rate = 0.0)['prediction_vec']\n",
    "        # compute the training loss by true label and predicted label\n",
    "        training_loss += categorical_loss(y, y_pred)\n",
    "        \n",
    "    training_loss_history.append(training_loss/len(training_data))\n",
    "    \n",
    "    \n",
    "    for x, y in dev_data:\n",
    "        y_pred = forward_pass(x, W, dropout_rate = 0.0)['prediction_vec']\n",
    "        validation_loss += categorical_loss(y, y_pred)\n",
    "    \n",
    "    validation_loss_history.append(validation_loss/len(dev_data))\n",
    "    \n",
    "    \n",
    "    \n",
    "    \n",
    "    \n",
    "    \n",
    "    \n",
    "    #############################################################\n",
    "    # update the weights and train the model by gradient descent:\n",
    "    for epoch in range(epochs):\n",
    "        # randomize the order of training data at the begining of each epoch\n",
    "        random.shuffle(training_data)\n",
    "        \n",
    "        # initialize training_loss and validation_loss after at the begining of each epoch\n",
    "        training_loss = 0\n",
    "        validation_loss = 0\n",
    "        \n",
    "        \n",
    "        for x, y in training_data:\n",
    "            # update the weights for current epoch by using training data\n",
    "            # Perform the Forward pass to compute the itermediate outputs\n",
    "            out_vals = forward_pass(x, W, dropout_rate = dropout) # implement dropout for regularization\n",
    "            \n",
    "            # Perform the Backward pass to compute the gradients and update all weights\n",
    "            W = backward_pass(x, y, W, out_vals, lr = lr, freeze_emb = freeze_emb)\n",
    "        \n",
    "        \n",
    "        # compute the training loss after the training of current epoch\n",
    "        for x, y in training_data:\n",
    "            # obtain the predicted label\n",
    "            y_pred = forward_pass(x, W, dropout_rate = 0.0)['prediction_vec'] # set dropout_rate to 0 when evaluating\n",
    "            # compute the training loss by true label and predicted label\n",
    "            training_loss += categorical_loss(y, y_pred)\n",
    "        \n",
    "        # store the new training_loss to training_loss_history\n",
    "        training_loss_history.append(training_loss/len(training_data))\n",
    "        \n",
    "        \n",
    "        # compute the validation loss after the training of current epoch\n",
    "        for x, y in dev_data:\n",
    "            y_pred = forward_pass(x, W, dropout_rate = 0.0)['prediction_vec'] # set dropout_rate to 0 when evaluating\n",
    "            validation_loss += categorical_loss(y, y_pred)\n",
    "        \n",
    "        # store the new validation loss to validation_loss_history\n",
    "        validation_loss_history.append(validation_loss/len(dev_data))\n",
    "        \n",
    "        \n",
    "        # print training_loss and validation_loss out if flag \"print_progress\" is True:\n",
    "        if print_progress == True:\n",
    "            print(\"Epoch {:3d}: training loss: {:.6f}, validation loss: {:.6f}\"\\\n",
    "                  .format(epoch + 1, \n",
    "                          training_loss_history[epoch + 1], \n",
    "                          validation_loss_history[epoch + 1]))\n",
    "        \n",
    "        \n",
    "        # If the value of difference between the previous validation loss and current validation loss\n",
    "        # is smaller than tolerance value, break the for loop and stop the model training.\n",
    "        if validation_loss_history[epoch] - validation_loss_history[epoch + 1] < tolerance:\n",
    "            break;\n",
    "            \n",
    "\n",
    "    return W, training_loss_history, validation_loss_history"
   ]
  },
  {
   "cell_type": "markdown",
   "metadata": {},
   "source": [
    "Define a \"plot_loss_history\" function to display the change of epoch - loss in learning process. "
   ]
  },
  {
   "cell_type": "code",
   "execution_count": 29,
   "metadata": {},
   "outputs": [],
   "source": [
    "# define a function to plot the learning process:\n",
    "\n",
    "def plot_loss_history(tra_loss_history, val_loss_history, title):\n",
    "    \n",
    "    x_value = np.array([i for i in range(len(tra_loss_history))])\n",
    "    \n",
    "    plt.figure()\n",
    "    \n",
    "    plt.plot(x_value, tra_loss_history, lw = 2, label = \"training loss\")\n",
    "    plt.plot(x_value, val_loss_history, lw = 2, label = \"validation loss\")\n",
    "    \n",
    "    \n",
    "    plt.title(title)\n",
    "    plt.xlabel(\"epochs\")\n",
    "    plt.ylabel(\"loss\")\n",
    "    plt.legend()\n",
    "    plt.show()"
   ]
  },
  {
   "cell_type": "code",
   "execution_count": 30,
   "metadata": {},
   "outputs": [],
   "source": [
    "# used to record running time (not include the parameters tuning part and pre-trained embedding matrix loading part)\n",
    "time_1st_end = time.time()"
   ]
  },
  {
   "cell_type": "markdown",
   "metadata": {},
   "source": [
    "## Tuning the hyperparameters and choose the best one\n"
   ]
  },
  {
   "cell_type": "markdown",
   "metadata": {},
   "source": [
    "Up to now, we have defined all functions we need to train a single model. Then, we should implement a hyperparameters tuning task to choose the best hyperparameters based on their validation accuracies and F-1 score of validation dataset."
   ]
  },
  {
   "cell_type": "markdown",
   "metadata": {},
   "source": [
    "Now, I will define a \"param_tuning\" function to tune the hyperparameters and return the best hyperparameters with the highest model validation accuracy (if there is a tie on validation accuracies, then we choose the parameter combination which help model reach a higher validation F-1 score as the best hyperparameters).\n",
    "\n",
    "The input arguments include: processed_training_data (\"X_tr\"), training_label (\"Y_tr\"), processed_validation_dataset (\"X_dev\"), validation_label (\"Y_dev\"), and a parameter_grid (\"param_grid\") including all hyperparameters which will be tuned and their corresponding candidate values.\n",
    "\n",
    "There are also some other arguments for \"param_tuning\" function: \"freeze_emb\" (whether update the embedding matrix by ourselves), \"w_glove\", \"print_progress\" (whether print out the training process).\n",
    "\n",
    "The candidate parameters which could be tuned including: learning rate, dropout rate, embedding dim, middle hidden layers' structure (for shallow network with randomly generate average embedding matrix and shallow network with pre-trained average embedding matrix, we don't need to choose the best middle hidden layers' structure)."
   ]
  },
  {
   "cell_type": "markdown",
   "metadata": {},
   "source": [
    "### Define the important \"param_tuning\" function which could choose the best hyperparameters from candidate combinations:"
   ]
  },
  {
   "cell_type": "code",
   "execution_count": 31,
   "metadata": {},
   "outputs": [],
   "source": [
    "# Define a \"param_tuning\" function to return the best hyperparameters.\n",
    "def param_tuning(X_tr, Y_tr, X_dev, Y_dev, param_grid = {}, freeze_emb = False, w_glove = [], print_progress = False):\n",
    "    \n",
    "    # param_grid.keys(): [\"learning_rate\", \"dropout_rate\", \"embedding_dim\", \"epoch\", layer\"]\n",
    "    # To save some time, I will not tune \"tolerance\" and set it equal to 0.0001 for all candidate models.\n",
    "    # We will not print the training process in default.\n",
    "    \n",
    "    \n",
    "    # initialize the best training accuracy and validation accuracy:\n",
    "    training_acc_best = 0\n",
    "    validation_acc_best = 0\n",
    "    validation_f1_best = 0\n",
    "    \n",
    "    # initialize the best hyparameter dictionary:\n",
    "    best_param = {}\n",
    "    \n",
    "    for emb_dim in param_grid[\"embedding_dim\"]:\n",
    "        for layer in param_grid[\"layer\"]:\n",
    "            for lr in param_grid[\"learning_rate\"]:\n",
    "                for dropout in param_grid[\"dropout_rate\"]:\n",
    "                    for epoch in param_grid[\"epoch\"]:\n",
    "                        # set the random seed\n",
    "                        random.seed(2022)\n",
    "                        np.random.seed(2022)\n",
    "                        \n",
    "                        # Initialize the weights for network based on current emedding_dim value and layer structure:\n",
    "                        W = network_weights(vocab_size = len(vocab), embedding_dim = emb_dim,\n",
    "                                        hidden_dim = layer, num_classes = 3)\n",
    "                        \n",
    "                        # if we are tunning parameters for pre-trained model, the flag \"freeze_emb\" will change to True.\n",
    "                        if freeze_emb == True:\n",
    "                            W[0] = w_glove\n",
    "                        \n",
    "                        # Train the network with current learning_rate, dropout_rate, and epoch\n",
    "                        W_updated, tr_loss, val_loss = SGD(X_tr, Y_tr, W, X_dev, Y_dev,\n",
    "                                              lr = lr,\n",
    "                                              dropout = dropout,\n",
    "                                              freeze_emb = freeze_emb,\n",
    "                                              tolerance = 0.0001,\n",
    "                                              epochs = epoch,\n",
    "                                              print_progress = print_progress)\n",
    "                        \n",
    "                        # obtain the prediction labels for training data and validation data\n",
    "                        pred_tr = [np.argmax(forward_pass(x, W_updated, dropout_rate=0.0)['prediction_vec']) \n",
    "                                   for x in X_tr]\n",
    "                        pred_dev = [np.argmax(forward_pass(x, W_updated, dropout_rate = 0.0)['prediction_vec'])\n",
    "                                    for x in X_dev]\n",
    "                        \n",
    "                        # compute the training and validation accuracy for the model with current iteration's params\n",
    "                        # compute the f1 score for validation dataset for current model\n",
    "                        training_acc_new = accuracy_score(train_label, pred_tr)\n",
    "                        validation_acc_new = accuracy_score(dev_label, pred_dev)\n",
    "                        validation_f1_new = f1_score(dev_label, pred_dev, average='macro')\n",
    "                        \n",
    "                        # Print out current parameters combination\n",
    "                        print(\"----------------------------------------------------------------------------------\")\n",
    "                        print(\"Hyperparameters combination and corresponding accuracy: \")\n",
    "                        print(\"learning rate = {:.6f}, dropout rate = {:.1f}, epoch = {:3d}, embedding dim = {:3d}, layer structure = {}\"\\\n",
    "                             .format(lr, dropout, epoch, emb_dim, layer))\n",
    "                    \n",
    "                    \n",
    "                        # Print out training_accuracy, and validation accuracy for current model\n",
    "                        print(\"training accuracy = {:.6f}, validation accuracy = {:.6f}, validation F-1 score = {:.6f}\"\\\n",
    "                             .format(training_acc_new, validation_acc_new, validation_f1_new))\n",
    "                    \n",
    "                        print(\" \")\n",
    "                        \n",
    "                        # plot the learning process for the current model\n",
    "                        plot_loss_history(tr_loss, val_loss, \"epoch-loss learning process\")\n",
    "                    \n",
    "                        # if new validation is larger than the old best validation accuracy, update it.\n",
    "                        if (validation_acc_new > validation_acc_best):\n",
    "                            validation_acc_best = validation_acc_new\n",
    "                            training_acc_best = training_acc_new\n",
    "                            \n",
    "                            \n",
    "                            # update the best hyperparameters:\n",
    "                            best_param[\"learning_rate\"] = lr\n",
    "                            best_param[\"dropout_rate\"] = dropout\n",
    "                            best_param[\"embedding_dim\"] = emb_dim\n",
    "                            best_param[\"layer\"] = layer\n",
    "                            best_param[\"epoch\"] = epoch\n",
    "                            \n",
    "                        # if new validation accuracy equal to old best validation accuracy,\n",
    "                        # we compare the validation f1 score.\n",
    "                        elif (validation_acc_new == validation_acc_best):\n",
    "                            if (validation_f1_new > validation_f1_best):\n",
    "                                validation_f1_best = validation_f1_new\n",
    "                                \n",
    "                                validation_acc_best = validation_acc_new\n",
    "                                training_acc_best = training_acc_new\n",
    "                            \n",
    "                            \n",
    "                                # update the best hyperparameters:\n",
    "                                best_param[\"learning_rate\"] = lr\n",
    "                                best_param[\"dropout_rate\"] = dropout\n",
    "                                best_param[\"embedding_dim\"] = emb_dim\n",
    "                                best_param[\"layer\"] = layer\n",
    "                                best_param[\"epoch\"] = epoch\n",
    "    \n",
    "    \n",
    "    return best_param\n",
    "                            \n",
    "                        "
   ]
  },
  {
   "cell_type": "markdown",
   "metadata": {},
   "source": [
    "## Tune hyperparameters for shallow network without pre-trained embedding matrix"
   ]
  },
  {
   "cell_type": "markdown",
   "metadata": {},
   "source": [
    "## (Because this part belongs to parameters tuning part, its running time will not be counted in whole program running time)"
   ]
  },
  {
   "cell_type": "markdown",
   "metadata": {},
   "source": [
    "Design the parameter grid to store the parameters' candidates."
   ]
  },
  {
   "cell_type": "code",
   "execution_count": 32,
   "metadata": {},
   "outputs": [],
   "source": [
    "# parameter grid for shallow network without pre-trained average embedding matrix.\n",
    "# Here, I decide not tune \"epoch\" to save some time.\n",
    "\n",
    "param_grid_shallow = {}\n",
    "param_grid_shallow[\"learning_rate\"] = [0.003, 0.008]\n",
    "param_grid_shallow[\"dropout_rate\"] = [0.2, 0.5]\n",
    "param_grid_shallow[\"embedding_dim\"] = [100, 300]\n",
    "param_grid_shallow[\"layer\"] = [[]]\n",
    "param_grid_shallow[\"epoch\"] = [60]"
   ]
  },
  {
   "cell_type": "code",
   "execution_count": 33,
   "metadata": {
    "scrolled": false
   },
   "outputs": [
    {
     "name": "stdout",
     "output_type": "stream",
     "text": [
      "----------------------------------------------------------------------------------\n",
      "Hyperparameters combination and corresponding accuracy: \n",
      "learning rate = 0.003000, dropout rate = 0.2, epoch =  60, embedding dim = 100, layer structure = []\n",
      "training accuracy = 0.827917, validation accuracy = 0.840000, validation F-1 score = 0.836551\n",
      " \n"
     ]
    },
    {
     "data": {
      "image/png": "[encoded data removed]",
      "text/plain": [
       "<Figure size 432x288 with 1 Axes>"
      ]
     },
     "metadata": {
      "needs_background": "light"
     },
     "output_type": "display_data"
    },
    {
     "name": "stdout",
     "output_type": "stream",
     "text": [
      "----------------------------------------------------------------------------------\n",
      "Hyperparameters combination and corresponding accuracy: \n",
      "learning rate = 0.003000, dropout rate = 0.5, epoch =  60, embedding dim = 100, layer structure = []\n",
      "training accuracy = 0.732083, validation accuracy = 0.713333, validation F-1 score = 0.675914\n",
      " \n"
     ]
    },
    {
     "data": {
      "image/png": "[encoded data removed]",
      "text/plain": [
       "<Figure size 432x288 with 1 Axes>"
      ]
     },
     "metadata": {
      "needs_background": "light"
     },
     "output_type": "display_data"
    },
    {
     "name": "stdout",
     "output_type": "stream",
     "text": [
      "----------------------------------------------------------------------------------\n",
      "Hyperparameters combination and corresponding accuracy: \n",
      "learning rate = 0.008000, dropout rate = 0.2, epoch =  60, embedding dim = 100, layer structure = []\n",
      "training accuracy = 0.966667, validation accuracy = 0.900000, validation F-1 score = 0.900992\n",
      " \n"
     ]
    },
    {
     "data": {
      "image/png": "[encoded data removed]",
      "text/plain": [
       "<Figure size 432x288 with 1 Axes>"
      ]
     },
     "metadata": {
      "needs_background": "light"
     },
     "output_type": "display_data"
    },
    {
     "name": "stdout",
     "output_type": "stream",
     "text": [
      "----------------------------------------------------------------------------------\n",
      "Hyperparameters combination and corresponding accuracy: \n",
      "learning rate = 0.008000, dropout rate = 0.5, epoch =  60, embedding dim = 100, layer structure = []\n",
      "training accuracy = 0.947917, validation accuracy = 0.906667, validation F-1 score = 0.907394\n",
      " \n"
     ]
    },
    {
     "data": {
      "image/png": "[encoded data removed]",
      "text/plain": [
       "<Figure size 432x288 with 1 Axes>"
      ]
     },
     "metadata": {
      "needs_background": "light"
     },
     "output_type": "display_data"
    },
    {
     "name": "stdout",
     "output_type": "stream",
     "text": [
      "----------------------------------------------------------------------------------\n",
      "Hyperparameters combination and corresponding accuracy: \n",
      "learning rate = 0.003000, dropout rate = 0.2, epoch =  60, embedding dim = 300, layer structure = []\n",
      "training accuracy = 0.905417, validation accuracy = 0.893333, validation F-1 score = 0.894119\n",
      " \n"
     ]
    },
    {
     "data": {
      "image/png": "[encoded data removed]",
      "text/plain": [
       "<Figure size 432x288 with 1 Axes>"
      ]
     },
     "metadata": {
      "needs_background": "light"
     },
     "output_type": "display_data"
    },
    {
     "name": "stdout",
     "output_type": "stream",
     "text": [
      "----------------------------------------------------------------------------------\n",
      "Hyperparameters combination and corresponding accuracy: \n",
      "learning rate = 0.003000, dropout rate = 0.5, epoch =  60, embedding dim = 300, layer structure = []\n",
      "training accuracy = 0.862917, validation accuracy = 0.813333, validation F-1 score = 0.812333\n",
      " \n"
     ]
    },
    {
     "data": {
      "image/png": "[encoded data removed]",
      "text/plain": [
       "<Figure size 432x288 with 1 Axes>"
      ]
     },
     "metadata": {
      "needs_background": "light"
     },
     "output_type": "display_data"
    },
    {
     "name": "stdout",
     "output_type": "stream",
     "text": [
      "----------------------------------------------------------------------------------\n",
      "Hyperparameters combination and corresponding accuracy: \n",
      "learning rate = 0.008000, dropout rate = 0.2, epoch =  60, embedding dim = 300, layer structure = []\n",
      "training accuracy = 0.974583, validation accuracy = 0.893333, validation F-1 score = 0.895062\n",
      " \n"
     ]
    },
    {
     "data": {
      "image/png": "[encoded data removed]",
      "text/plain": [
       "<Figure size 432x288 with 1 Axes>"
      ]
     },
     "metadata": {
      "needs_background": "light"
     },
     "output_type": "display_data"
    },
    {
     "name": "stdout",
     "output_type": "stream",
     "text": [
      "----------------------------------------------------------------------------------\n",
      "Hyperparameters combination and corresponding accuracy: \n",
      "learning rate = 0.008000, dropout rate = 0.5, epoch =  60, embedding dim = 300, layer structure = []\n",
      "training accuracy = 0.957083, validation accuracy = 0.906667, validation F-1 score = 0.907931\n",
      " \n"
     ]
    },
    {
     "data": {
      "image/png": "[encoded data removed]",
      "text/plain": [
       "<Figure size 432x288 with 1 Axes>"
      ]
     },
     "metadata": {
      "needs_background": "light"
     },
     "output_type": "display_data"
    }
   ],
   "source": [
    "# choose the best hyperparameters for our shallow network (without pre-trained embedding matrix)\n",
    "best_param_shallow = param_tuning(X_tr = train_indices, Y_tr = train_label_oh,\n",
    "                                 X_dev = dev_indices, Y_dev = dev_label_oh,\n",
    "                                 param_grid = param_grid_shallow,\n",
    "                                 freeze_emb = False,\n",
    "                                 w_glove = [])"
   ]
  },
  {
   "cell_type": "markdown",
   "metadata": {
    "ExecuteTime": {
     "end_time": "2020-02-15T14:10:15.772383Z",
     "start_time": "2020-02-15T14:10:15.767855Z"
    }
   },
   "source": [
    "Now you are ready to train and evaluate your neural net by using the best parameters chosen from last step. First, you need to define your network using the `network_weights` function followed by SGD with backprop based on best parameters.:"
   ]
  },
  {
   "cell_type": "code",
   "execution_count": 34,
   "metadata": {},
   "outputs": [
    {
     "name": "stdout",
     "output_type": "stream",
     "text": [
      "{'learning_rate': 0.008, 'dropout_rate': 0.5, 'embedding_dim': 300, 'layer': [], 'epoch': 60}\n"
     ]
    }
   ],
   "source": [
    "# display the best hyperparameters chosen by parameter tuning process.\n",
    "print(best_param_shallow)"
   ]
  },
  {
   "cell_type": "markdown",
   "metadata": {},
   "source": [
    "## Train our simple shallow network without pre-trained embedding matrix by the best hyperparameters (chosen from previous parameters tuning process)."
   ]
  },
  {
   "cell_type": "markdown",
   "metadata": {},
   "source": [
    "Here, we should have passed the best parameters to our best model programmatically by `embedding_dim` = `best_param_shallow[\"embedding_dim\"]`; `lr` = `best_param_shallow[\"learning_rate\"]`, and `dropout` = `best_param_shallow[\"dropout_rate\"]`.  However, because we fix a random seed, we could obtain the best parameters reproductively (the best params will be exactly same each time when you restart the kernel and run the code), we will mannually pass the best parameter values we found to corresponding parameter like `embedding_dim` = `300`, `lr` = `0.008`, `dropout` = `0.5`\n",
    "\n",
    "In this way, when you run my code and count the running time, you don't have to run the parameter tuning part and you could use the best parameter I found to run the shallow network without pre-trained emb matrix directly.\n",
    "\n",
    "You could use programmatically way as I stated above if you want to check whether it is work."
   ]
  },
  {
   "cell_type": "code",
   "execution_count": 35,
   "metadata": {},
   "outputs": [],
   "source": [
    "# used to record running time (not include the parameters tuning part and pre-trained embedding matrix loading part)\n",
    "time_2nd_start = time.time()"
   ]
  },
  {
   "cell_type": "code",
   "execution_count": 36,
   "metadata": {
    "ExecuteTime": {
     "end_time": "2020-04-02T15:09:33.643515Z",
     "start_time": "2020-04-02T15:09:33.640943Z"
    },
    "scrolled": false
   },
   "outputs": [
    {
     "name": "stdout",
     "output_type": "stream",
     "text": [
      "Shape W(8931, 300)\n",
      "Shape W(300, 3)\n"
     ]
    }
   ],
   "source": [
    "# set the random seed to 2022\n",
    "random.seed(2022)\n",
    "np.random.seed(2022)\n",
    "\n",
    "# initialize the weights for shallow network (without pre-trained embedding matrix and middle hidden layers):\n",
    "W_shallow = network_weights(vocab_size = len(vocab), embedding_dim = 300,\n",
    "                            hidden_dim = [], num_classes = 3)\n",
    "\n",
    "# print out the shape of each weights matrix\n",
    "for i in range(len(W_shallow)):\n",
    "    print('Shape W{}'.format(W_shallow[i].shape))\n"
   ]
  },
  {
   "cell_type": "code",
   "execution_count": 37,
   "metadata": {
    "scrolled": false
   },
   "outputs": [
    {
     "name": "stdout",
     "output_type": "stream",
     "text": [
      "Epoch   1: training loss: 1.089951, validation loss: 1.094661\n",
      "Epoch   2: training loss: 1.083383, validation loss: 1.090434\n",
      "Epoch   3: training loss: 1.076490, validation loss: 1.086008\n",
      "Epoch   4: training loss: 1.069068, validation loss: 1.081290\n",
      "Epoch   5: training loss: 1.060847, validation loss: 1.076096\n",
      "Epoch   6: training loss: 1.051695, validation loss: 1.070340\n",
      "Epoch   7: training loss: 1.041370, validation loss: 1.063961\n",
      "Epoch   8: training loss: 1.029574, validation loss: 1.056616\n",
      "Epoch   9: training loss: 1.015968, validation loss: 1.048108\n",
      "Epoch  10: training loss: 1.000192, validation loss: 1.038207\n",
      "Epoch  11: training loss: 0.981995, validation loss: 1.026745\n",
      "Epoch  12: training loss: 0.961105, validation loss: 1.013497\n",
      "Epoch  13: training loss: 0.937675, validation loss: 0.998447\n",
      "Epoch  14: training loss: 0.911090, validation loss: 0.980992\n",
      "Epoch  15: training loss: 0.881862, validation loss: 0.961206\n",
      "Epoch  16: training loss: 0.850010, validation loss: 0.938834\n",
      "Epoch  17: training loss: 0.816250, validation loss: 0.914081\n",
      "Epoch  18: training loss: 0.781284, validation loss: 0.887144\n",
      "Epoch  19: training loss: 0.746045, validation loss: 0.858422\n",
      "Epoch  20: training loss: 0.710900, validation loss: 0.827955\n",
      "Epoch  21: training loss: 0.676767, validation loss: 0.796356\n",
      "Epoch  22: training loss: 0.643857, validation loss: 0.763938\n",
      "Epoch  23: training loss: 0.612084, validation loss: 0.730943\n",
      "Epoch  24: training loss: 0.581861, validation loss: 0.698044\n",
      "Epoch  25: training loss: 0.552754, validation loss: 0.665115\n",
      "Epoch  26: training loss: 0.525288, validation loss: 0.632986\n",
      "Epoch  27: training loss: 0.498830, validation loss: 0.601440\n",
      "Epoch  28: training loss: 0.473846, validation loss: 0.571490\n",
      "Epoch  29: training loss: 0.450000, validation loss: 0.542820\n",
      "Epoch  30: training loss: 0.427866, validation loss: 0.515752\n",
      "Epoch  31: training loss: 0.407233, validation loss: 0.491032\n",
      "Epoch  32: training loss: 0.388302, validation loss: 0.468164\n",
      "Epoch  33: training loss: 0.370771, validation loss: 0.447204\n",
      "Epoch  34: training loss: 0.355164, validation loss: 0.428236\n",
      "Epoch  35: training loss: 0.340513, validation loss: 0.411339\n",
      "Epoch  36: training loss: 0.327145, validation loss: 0.396145\n",
      "Epoch  37: training loss: 0.315039, validation loss: 0.382647\n",
      "Epoch  38: training loss: 0.304096, validation loss: 0.370188\n",
      "Epoch  39: training loss: 0.293952, validation loss: 0.359169\n",
      "Epoch  40: training loss: 0.284558, validation loss: 0.349189\n",
      "Epoch  41: training loss: 0.275886, validation loss: 0.339681\n",
      "Epoch  42: training loss: 0.267492, validation loss: 0.331155\n",
      "Epoch  43: training loss: 0.259426, validation loss: 0.324005\n",
      "Epoch  44: training loss: 0.251919, validation loss: 0.317519\n",
      "Epoch  45: training loss: 0.244619, validation loss: 0.311574\n",
      "Epoch  46: training loss: 0.237754, validation loss: 0.305891\n",
      "Epoch  47: training loss: 0.231142, validation loss: 0.300001\n",
      "Epoch  48: training loss: 0.224701, validation loss: 0.295577\n",
      "Epoch  49: training loss: 0.218578, validation loss: 0.291492\n",
      "Epoch  50: training loss: 0.212641, validation loss: 0.287634\n",
      "Epoch  51: training loss: 0.207093, validation loss: 0.283611\n",
      "Epoch  52: training loss: 0.201331, validation loss: 0.280377\n",
      "Epoch  53: training loss: 0.195590, validation loss: 0.278253\n",
      "Epoch  54: training loss: 0.189859, validation loss: 0.276315\n",
      "Epoch  55: training loss: 0.184382, validation loss: 0.274261\n",
      "Epoch  56: training loss: 0.179488, validation loss: 0.271728\n",
      "Epoch  57: training loss: 0.174004, validation loss: 0.270264\n",
      "Epoch  58: training loss: 0.168506, validation loss: 0.268650\n",
      "Epoch  59: training loss: 0.163517, validation loss: 0.266718\n",
      "Epoch  60: training loss: 0.158824, validation loss: 0.265512\n"
     ]
    }
   ],
   "source": [
    "# train the shallow neural network by \"SGD\" function:\n",
    "W_shallow, tr_loss_shallow, val_loss_shallow = SGD(train_indices, train_label_oh,\n",
    "                                                   W_shallow,\n",
    "                                                   X_dev = dev_indices, Y_dev = dev_label_oh,\n",
    "                                                   lr=0.008, \n",
    "                                                   dropout=0.5,\n",
    "                                                   freeze_emb=False,\n",
    "                                                   tolerance=0.0001,\n",
    "                                                   epochs=60)"
   ]
  },
  {
   "cell_type": "markdown",
   "metadata": {},
   "source": [
    "Plot the learning process to show the validation loss and training loss of the model trained with best parameters:"
   ]
  },
  {
   "cell_type": "code",
   "execution_count": 38,
   "metadata": {
    "ExecuteTime": {
     "end_time": "2020-04-02T14:27:15.716497Z",
     "start_time": "2020-04-02T14:27:15.612736Z"
    },
    "scrolled": true
   },
   "outputs": [
    {
     "data": {
      "image/png": "[encoded data removed]",
      "text/plain": [
       "<Figure size 432x288 with 1 Axes>"
      ]
     },
     "metadata": {
      "needs_background": "light"
     },
     "output_type": "display_data"
    }
   ],
   "source": [
    "plot_loss_history(tr_loss_shallow, val_loss_shallow, \"shallow network (without pre-trained emb matrix)\")"
   ]
  },
  {
   "cell_type": "markdown",
   "metadata": {},
   "source": [
    "report the training accuracy and validation accuracy by using the trained model:"
   ]
  },
  {
   "cell_type": "code",
   "execution_count": 39,
   "metadata": {},
   "outputs": [
    {
     "name": "stdout",
     "output_type": "stream",
     "text": [
      "Train Accuracy: 0.9570833333333333\n",
      "Validation Accuracy: 0.9066666666666666\n"
     ]
    }
   ],
   "source": [
    "# prediction results for training data by using the trained shallow network without pre-trained emb matrix\n",
    "preds_tr_shallow = [np.argmax(forward_pass(x, W_shallow, dropout_rate = 0.0)['prediction_vec'])\n",
    "                    for x in train_indices]\n",
    "\n",
    "# preidction results for validation data\n",
    "preds_val_shallow = [np.argmax(forward_pass(x, W_shallow, dropout_rate = 0.0)['prediction_vec'])\n",
    "                    for x in dev_indices]\n",
    "\n",
    "# report the training accuracy and validation accuracy\n",
    "print(\"Train Accuracy: {}\".format(accuracy_score(train_label, preds_tr_shallow)))\n",
    "print(\"Validation Accuracy: {}\".format(accuracy_score(dev_label, preds_val_shallow)))\n"
   ]
  },
  {
   "cell_type": "markdown",
   "metadata": {},
   "source": [
    "### Discuss the training performance:"
   ]
  },
  {
   "cell_type": "markdown",
   "metadata": {},
   "source": [
    "From observing above loss-epoch figure, I think this model is trained well.\n",
    "\n",
    "1. This model is not underfitted, because the final validation loss is very low (0.2655) and the validation loss curve begin to be flat at the end of training. Additionally, we could find in above evaluation (for validation and training data) and in the following evaluation (for test data), the test accuracy of this trained model could reach 85.22% (high enough) and the validation accuracy could reach 90.67%. Both the validation accuracy and test accuracy are high enough to show the model is trained enough and is not underfitted.\n",
    "\n",
    "2. This model is also not overfitted. The final difference between the validation loss and training loss of training process is small enough (0.2655 - 0.1588 = 0.1067). Both the final validation loss and training loss are low enough. The validation accuracy (90.76%), test accuracy (85.22%) and training accuracy(95.71%) are roughly in the same level. All of these mean the model doesn't only learn how to classify texts for training data well. What the model learn is generalized enough to help the model to classify those unseen texts well."
   ]
  },
  {
   "cell_type": "markdown",
   "metadata": {},
   "source": [
    "Compute accuracy, precision, recall and F1-Score:"
   ]
  },
  {
   "cell_type": "code",
   "execution_count": 40,
   "metadata": {
    "ExecuteTime": {
     "end_time": "2020-04-02T15:10:11.037495Z",
     "start_time": "2020-04-02T15:10:11.034999Z"
    },
    "scrolled": true
   },
   "outputs": [
    {
     "name": "stdout",
     "output_type": "stream",
     "text": [
      "Test Accuracy: 0.8522222222222222\n",
      "Test Precision: 0.8550013327083391\n",
      "Test Recall: 0.8522222222222222\n",
      "Test F1-Score: 0.8519739050195422\n"
     ]
    }
   ],
   "source": [
    "# obtain the prediction results for test data\n",
    "preds_te_shallow = [np.argmax(forward_pass(x, W_shallow, dropout_rate = 0.0)['prediction_vec'])\n",
    "                    for x in test_indices]\n",
    "\n",
    "\n",
    "print('Test Accuracy:', accuracy_score(test_label, preds_te_shallow))\n",
    "print('Test Precision:', precision_score(test_label, preds_te_shallow, average='macro'))\n",
    "print('Test Recall:', recall_score(test_label, preds_te_shallow, average='macro'))\n",
    "print('Test F1-Score:', f1_score(test_label, preds_te_shallow, average='macro'))"
   ]
  },
  {
   "cell_type": "markdown",
   "metadata": {},
   "source": [
    "### Discuss how did you choose model hyperparameters ? "
   ]
  },
  {
   "cell_type": "markdown",
   "metadata": {
    "scrolled": true
   },
   "source": [
    "I have implemented the hyperparameters tuning process for the shallow network without pre-trained embedding matrix for parameters choosing in above. Here, I will discuss this process in detailed and show a table to display my hyperparameters tuning work.\n",
    "\n",
    "In the validation process (parameter choosing part), I designed a `param_tuning` function which could train the model by using parameters combinations in a `parameter_grid`. After each training, we could evaluate each model with different parameters by using training dataset and validation dataset. First, I will compare the validation accuracies of these models, the parameters combination could help model reach highest validation accuracy are the best combination. Then, if there is a tie in the validation accuracy, I will compare their validation F-1 score (higher is better). If both their validation accuracy and validation F-1 score are same, I will choose a set of parameters randomly as the best parameters.\n",
    "\n",
    "\n",
    "Here, I attach a table to display the models' performance trained with different sets of parameters. I tuned parameters `learning rate`, `dropout rate`, and `embedding dim` here. Therefore, there are totally 8 (2^3) set of parameters combinations.\n",
    "\n",
    "| index | learning rate | dropout rate  | embedding dim  | epoch  | layer structure | training accuracy | validation accuracy | validation F-1 score |\n",
    "|:-:|:-:|:-:|:-:|:-:|:-:|:-:|:-:|:-:|\n",
    "|1| 0.003  | 0.2  | 100  | 60  |  [] | 0.8279  |  0.84 | 0.8366  |\n",
    "|2| 0.003  | 0.5  | 100  | 60  |  [] | 0.7321  | 0.7133  | 0.6759  |\n",
    "|3| 0.008  | 0.2  | 100  | 60  |  [] | 0.9667  |  0.9 |  0.901 |\n",
    "|4| 0.008  | 0.5  | 100  | 60  |  [] |  0.9479 |  0.9067 | 0.9074  |\n",
    "|5| 0.003  | 0.2  | 300  | 60  |  [] | 0.9054  |  0.8933 |  0.8941 |\n",
    "|6| 0.003  | 0.5  | 300  | 60  |  [] | 0.8629  | 0.8133  | 0.8123 |\n",
    "|7| 0.008  | 0.2  | 300  | 60  |  [] |  0.9746 | 0.8933  |  0.8951 |\n",
    "|8| 0.008  | 0.5  | 300  | 60  |  [] |  0.9571 | 0.9067  | 0.9079  |\n",
    "\n",
    "\n",
    "According to my rule to choose the best parameters, the 4th and 8th set of parameters both help model reach a validation accuracy of 90.67%. Then, we compare the validation F-1 scores of them and find the 8th parameters combination reach a higher validation F-1 score. So, I choose 8th parameters combination as the best combination and use it to train my best shallow network without pre-trained embedding matrix.\n"
   ]
  },
  {
   "cell_type": "code",
   "execution_count": 41,
   "metadata": {},
   "outputs": [],
   "source": [
    "# used to record running time (not include the parameters tuning part and pre-trained embedding matrix loading part)\n",
    "time_2nd_end = time.time()"
   ]
  },
  {
   "cell_type": "markdown",
   "metadata": {},
   "source": [
    "# Use Pre-trained Embeddings\n",
    "\n",
    "Now re-train the network using GloVe pre-trained embeddings. You need to modify the `backward_pass` function above to stop computing gradients and updating weights of the embedding matrix.\n",
    "\n",
    "Use the function below to obtain the embedding martix for your vocabulary. Generally, that should work without any problem. If you get errors, you can modify it."
   ]
  },
  {
   "cell_type": "code",
   "execution_count": 42,
   "metadata": {
    "ExecuteTime": {
     "end_time": "2020-04-02T14:27:32.020697Z",
     "start_time": "2020-04-02T14:27:32.015733Z"
    },
    "scrolled": true
   },
   "outputs": [],
   "source": [
    "def get_glove_embeddings(f_zip, f_txt, word2id, emb_size=300):\n",
    "    \n",
    "    w_emb = np.zeros((len(word2id), emb_size))\n",
    "    \n",
    "    with zipfile.ZipFile(f_zip) as z:\n",
    "        with z.open(f_txt) as f:\n",
    "            for line in f:\n",
    "                line = line.decode('utf-8')\n",
    "                word = line.split()[0]\n",
    "                     \n",
    "                if word in vocab:\n",
    "                    emb = np.array(line.strip('\\n').split()[1:])#.astype(np.float32)\n",
    "                    \n",
    "                    # because there are some strange strings at the beginning of array, we need to remove them.\n",
    "                    if emb.shape[0] != 300:\n",
    "                        emb = emb[1:]\n",
    "                    emb = emb.astype(np.float32)\n",
    "                    \n",
    "                    w_emb[word2id[word]] += emb\n",
    "                    \n",
    "                    #w_emb[word2id[word]] +=emb\n",
    "    return w_emb"
   ]
  },
  {
   "cell_type": "markdown",
   "metadata": {},
   "source": [
    "## Load the pre-trained glove embedding weights matrix"
   ]
  },
  {
   "cell_type": "markdown",
   "metadata": {},
   "source": [
    "## (Because this part belongs to pre-trained embedding matrix loading part, its running time will not be counted to the whole running time)"
   ]
  },
  {
   "cell_type": "code",
   "execution_count": 43,
   "metadata": {},
   "outputs": [],
   "source": [
    "# get the pre-trained \"glove\" embedding matrix.\n",
    "w_glove = get_glove_embeddings(\"glove.840B.300d.zip\",\"glove.840B.300d.txt\", word2id)"
   ]
  },
  {
   "cell_type": "markdown",
   "metadata": {},
   "source": [
    "## Tune hyperparameters for shallow network with pre-trained embedding matrix"
   ]
  },
  {
   "cell_type": "markdown",
   "metadata": {},
   "source": [
    "## ( Because this part belongs to parameter tuning part, its running time will not be counted in whole running time)"
   ]
  },
  {
   "cell_type": "markdown",
   "metadata": {},
   "source": [
    "Here, because the pre-trained embedding matrix's dimension is fixed to 300, we are not going to tune the embedding_dim parameters. What we plan to tune is: `\"learning_rate\"`, `\"dropout_rate\"`, and `\"epoch\"`."
   ]
  },
  {
   "cell_type": "code",
   "execution_count": 44,
   "metadata": {},
   "outputs": [],
   "source": [
    "# design the parameter grid for shallow network with pretrained embedding matrix.\n",
    "param_grid_pre = {}\n",
    "param_grid_pre[\"layer\"] = [[]] # the layer structure is not tuned and is fixed.\n",
    "param_grid_pre[\"embedding_dim\"] = [300] # the \"embedding_dim\" is not tuned and is fixed to 300.\n",
    "param_grid_pre[\"learning_rate\"] = [0.0008, 0.002]\n",
    "param_grid_pre[\"dropout_rate\"] = [0.2, 0.5] \n",
    "param_grid_pre[\"epoch\"] = [30, 80]"
   ]
  },
  {
   "cell_type": "code",
   "execution_count": 45,
   "metadata": {
    "scrolled": false
   },
   "outputs": [
    {
     "name": "stdout",
     "output_type": "stream",
     "text": [
      "----------------------------------------------------------------------------------\n",
      "Hyperparameters combination and corresponding accuracy: \n",
      "learning rate = 0.000800, dropout rate = 0.2, epoch =  30, embedding dim = 300, layer structure = []\n",
      "training accuracy = 0.885417, validation accuracy = 0.913333, validation F-1 score = 0.913795\n",
      " \n"
     ]
    },
    {
     "data": {
      "image/png": "[encoded data removed]",
      "text/plain": [
       "<Figure size 432x288 with 1 Axes>"
      ]
     },
     "metadata": {
      "needs_background": "light"
     },
     "output_type": "display_data"
    },
    {
     "name": "stdout",
     "output_type": "stream",
     "text": [
      "----------------------------------------------------------------------------------\n",
      "Hyperparameters combination and corresponding accuracy: \n",
      "learning rate = 0.000800, dropout rate = 0.2, epoch =  80, embedding dim = 300, layer structure = []\n",
      "training accuracy = 0.899167, validation accuracy = 0.933333, validation F-1 score = 0.933543\n",
      " \n"
     ]
    },
    {
     "data": {
      "image/png": "[encoded data removed]",
      "text/plain": [
       "<Figure size 432x288 with 1 Axes>"
      ]
     },
     "metadata": {
      "needs_background": "light"
     },
     "output_type": "display_data"
    },
    {
     "name": "stdout",
     "output_type": "stream",
     "text": [
      "----------------------------------------------------------------------------------\n",
      "Hyperparameters combination and corresponding accuracy: \n",
      "learning rate = 0.000800, dropout rate = 0.5, epoch =  30, embedding dim = 300, layer structure = []\n",
      "training accuracy = 0.882917, validation accuracy = 0.880000, validation F-1 score = 0.882043\n",
      " \n"
     ]
    },
    {
     "data": {
      "image/png": "[encoded data removed]",
      "text/plain": [
       "<Figure size 432x288 with 1 Axes>"
      ]
     },
     "metadata": {
      "needs_background": "light"
     },
     "output_type": "display_data"
    },
    {
     "name": "stdout",
     "output_type": "stream",
     "text": [
      "----------------------------------------------------------------------------------\n",
      "Hyperparameters combination and corresponding accuracy: \n",
      "learning rate = 0.000800, dropout rate = 0.5, epoch =  80, embedding dim = 300, layer structure = []\n",
      "training accuracy = 0.887917, validation accuracy = 0.913333, validation F-1 score = 0.913865\n",
      " \n"
     ]
    },
    {
     "data": {
      "image/png": "[encoded data removed]",
      "text/plain": [
       "<Figure size 432x288 with 1 Axes>"
      ]
     },
     "metadata": {
      "needs_background": "light"
     },
     "output_type": "display_data"
    },
    {
     "name": "stdout",
     "output_type": "stream",
     "text": [
      "----------------------------------------------------------------------------------\n",
      "Hyperparameters combination and corresponding accuracy: \n",
      "learning rate = 0.002000, dropout rate = 0.2, epoch =  30, embedding dim = 300, layer structure = []\n",
      "training accuracy = 0.895833, validation accuracy = 0.933333, validation F-1 score = 0.933543\n",
      " \n"
     ]
    },
    {
     "data": {
      "image/png": "[encoded data removed]",
      "text/plain": [
       "<Figure size 432x288 with 1 Axes>"
      ]
     },
     "metadata": {
      "needs_background": "light"
     },
     "output_type": "display_data"
    },
    {
     "name": "stdout",
     "output_type": "stream",
     "text": [
      "----------------------------------------------------------------------------------\n",
      "Hyperparameters combination and corresponding accuracy: \n",
      "learning rate = 0.002000, dropout rate = 0.2, epoch =  80, embedding dim = 300, layer structure = []\n",
      "training accuracy = 0.898333, validation accuracy = 0.933333, validation F-1 score = 0.933543\n",
      " \n"
     ]
    },
    {
     "data": {
      "image/png": "[encoded data removed]",
      "text/plain": [
       "<Figure size 432x288 with 1 Axes>"
      ]
     },
     "metadata": {
      "needs_background": "light"
     },
     "output_type": "display_data"
    },
    {
     "name": "stdout",
     "output_type": "stream",
     "text": [
      "----------------------------------------------------------------------------------\n",
      "Hyperparameters combination and corresponding accuracy: \n",
      "learning rate = 0.002000, dropout rate = 0.5, epoch =  30, embedding dim = 300, layer structure = []\n",
      "training accuracy = 0.892083, validation accuracy = 0.920000, validation F-1 score = 0.920602\n",
      " \n"
     ]
    },
    {
     "data": {
      "image/png": "[encoded data removed]",
      "text/plain": [
       "<Figure size 432x288 with 1 Axes>"
      ]
     },
     "metadata": {
      "needs_background": "light"
     },
     "output_type": "display_data"
    },
    {
     "name": "stdout",
     "output_type": "stream",
     "text": [
      "----------------------------------------------------------------------------------\n",
      "Hyperparameters combination and corresponding accuracy: \n",
      "learning rate = 0.002000, dropout rate = 0.5, epoch =  80, embedding dim = 300, layer structure = []\n",
      "training accuracy = 0.892083, validation accuracy = 0.920000, validation F-1 score = 0.920602\n",
      " \n"
     ]
    },
    {
     "data": {
      "image/png": "[encoded data removed]",
      "text/plain": [
       "<Figure size 432x288 with 1 Axes>"
      ]
     },
     "metadata": {
      "needs_background": "light"
     },
     "output_type": "display_data"
    }
   ],
   "source": [
    "# call the \"param_tuning\" function to choose the best hyperparameters from the candidate combinations.\n",
    "# Note, now the flag \"freeze_emb\" change to True because the embedding matrix is pre-trained and we don't update it\n",
    "# argument w_glove = w_glove now.\n",
    "best_param_pre = param_tuning(X_tr = train_indices, Y_tr = train_label_oh,\n",
    "                                 X_dev = dev_indices, Y_dev = dev_label_oh,\n",
    "                                 param_grid = param_grid_pre,\n",
    "                                 freeze_emb = True,\n",
    "                                 w_glove = w_glove)"
   ]
  },
  {
   "cell_type": "code",
   "execution_count": 46,
   "metadata": {},
   "outputs": [
    {
     "name": "stdout",
     "output_type": "stream",
     "text": [
      "{'learning_rate': 0.002, 'dropout_rate': 0.2, 'embedding_dim': 300, 'layer': [], 'epoch': 30}\n"
     ]
    }
   ],
   "source": [
    "# display the best hyperparameters for shallow network with pre-trained average embedding matrix:\n",
    "print(best_param_pre)"
   ]
  },
  {
   "cell_type": "markdown",
   "metadata": {},
   "source": [
    "## Train our shallow network with pre-trained average embedding matrix by the best hyperparameters (chosen from previous parameters tuning part)"
   ]
  },
  {
   "cell_type": "markdown",
   "metadata": {},
   "source": [
    "Now, we have gotten the best hyperparamters for the shallow network with pre-trained average embedding matrix. We could use the best parameters to train our network.\n",
    "\n",
    "First, initialise the weights of your network using the `network_weights` function. Second, replace the weigths of the embedding matrix with `w_glove`. Finally, train the network by freezing the embedding weights: "
   ]
  },
  {
   "cell_type": "markdown",
   "metadata": {},
   "source": [
    "Similarly, here, we will mannually pass the best parameters to the shallow network with pre-trained embedding matrix like `lr` = `0.002`, `dropout` = `0.2`, and `epoch` = `30`, but not programmatically as `lr` = `best_param_pre[\"learning_rate\"]`, `dropout` = `best_param_pre[\"dropout_rate\"]`, and `epoch` = `best_param_pre[\"epoch\"]`.\n",
    "\n",
    "In this way, you could run the best model with best parameters I found without running the above parameter tuning part. It will save you time when you run my code and count time."
   ]
  },
  {
   "cell_type": "code",
   "execution_count": 47,
   "metadata": {},
   "outputs": [],
   "source": [
    "# used to record running time (not include the parameters tuning part and pre-trained embedding matrix loading part)\n",
    "time_3rd_start = time.time()"
   ]
  },
  {
   "cell_type": "code",
   "execution_count": 48,
   "metadata": {
    "ExecuteTime": {
     "end_time": "2020-04-02T14:30:11.121198Z",
     "start_time": "2020-04-02T14:29:24.946124Z"
    },
    "scrolled": false
   },
   "outputs": [],
   "source": [
    "# set the random seed\n",
    "random.seed(2022)\n",
    "np.random.seed(2022)\n",
    "\n",
    "# initialize the weights of my network with pre-trained embedding matrix by using \"network_weights\" function:\n",
    "W_pre = network_weights(vocab_size = len(vocab), embedding_dim = 300,\n",
    "                        hidden_dim = [], num_classes = 3)\n",
    "\n",
    "# replace the weights of the embedding matrix with w_glove\n",
    "W_pre[0] = w_glove\n"
   ]
  },
  {
   "cell_type": "code",
   "execution_count": 49,
   "metadata": {},
   "outputs": [
    {
     "name": "stdout",
     "output_type": "stream",
     "text": [
      "Epoch   1: training loss: 0.904864, validation loss: 0.906097\n",
      "Epoch   2: training loss: 0.789560, validation loss: 0.793446\n",
      "Epoch   3: training loss: 0.711455, validation loss: 0.716485\n",
      "Epoch   4: training loss: 0.648346, validation loss: 0.649796\n",
      "Epoch   5: training loss: 0.601042, validation loss: 0.597986\n",
      "Epoch   6: training loss: 0.566752, validation loss: 0.558188\n",
      "Epoch   7: training loss: 0.535612, validation loss: 0.523566\n",
      "Epoch   8: training loss: 0.512806, validation loss: 0.493015\n",
      "Epoch   9: training loss: 0.491564, validation loss: 0.468121\n",
      "Epoch  10: training loss: 0.477063, validation loss: 0.450488\n",
      "Epoch  11: training loss: 0.461812, validation loss: 0.432949\n",
      "Epoch  12: training loss: 0.450066, validation loss: 0.413882\n",
      "Epoch  13: training loss: 0.437874, validation loss: 0.398378\n",
      "Epoch  14: training loss: 0.428572, validation loss: 0.390811\n",
      "Epoch  15: training loss: 0.421135, validation loss: 0.374651\n",
      "Epoch  16: training loss: 0.413554, validation loss: 0.367929\n",
      "Epoch  17: training loss: 0.407141, validation loss: 0.356747\n",
      "Epoch  18: training loss: 0.400869, validation loss: 0.346135\n",
      "Epoch  19: training loss: 0.395744, validation loss: 0.338972\n",
      "Epoch  20: training loss: 0.389581, validation loss: 0.332469\n",
      "Epoch  21: training loss: 0.386976, validation loss: 0.326159\n",
      "Epoch  22: training loss: 0.381740, validation loss: 0.318891\n",
      "Epoch  23: training loss: 0.378610, validation loss: 0.314436\n",
      "Epoch  24: training loss: 0.374092, validation loss: 0.308960\n",
      "Epoch  25: training loss: 0.370152, validation loss: 0.302783\n",
      "Epoch  26: training loss: 0.368268, validation loss: 0.295972\n",
      "Epoch  27: training loss: 0.365202, validation loss: 0.291179\n",
      "Epoch  28: training loss: 0.362562, validation loss: 0.289598\n",
      "Epoch  29: training loss: 0.360659, validation loss: 0.285636\n",
      "Epoch  30: training loss: 0.356985, validation loss: 0.281532\n"
     ]
    }
   ],
   "source": [
    "# train the new network and freeze the update of embedding weights\n",
    "W_pre, tr_loss_pre, val_loss_pre = SGD(train_indices, train_label_oh,\n",
    "                                       W_pre,\n",
    "                                       X_dev = dev_indices, Y_dev = dev_label_oh,\n",
    "                                       lr=0.002, \n",
    "                                       dropout=0.2,\n",
    "                                       freeze_emb=True,\n",
    "                                       tolerance=0.0,\n",
    "                                       epochs=30)\n"
   ]
  },
  {
   "cell_type": "code",
   "execution_count": 50,
   "metadata": {},
   "outputs": [
    {
     "data": {
      "image/png": "[encoded data removed]",
      "text/plain": [
       "<Figure size 432x288 with 1 Axes>"
      ]
     },
     "metadata": {
      "needs_background": "light"
     },
     "output_type": "display_data"
    }
   ],
   "source": [
    "# plot the training loss and validation loss in the training process for shallow network with \n",
    "# pre-trained emb matrix.\n",
    "\n",
    "plot_loss_history(tr_loss_pre, val_loss_pre, \"shallow network with pre-trained emb matrix\")"
   ]
  },
  {
   "cell_type": "markdown",
   "metadata": {},
   "source": [
    "report the training accuracy and validation accuracy of the shallow network model (with pre-trained embedding matrix) trained by the best parameters I chose."
   ]
  },
  {
   "cell_type": "code",
   "execution_count": 51,
   "metadata": {},
   "outputs": [
    {
     "name": "stdout",
     "output_type": "stream",
     "text": [
      "Training Accuracy: 0.8958333333333334\n",
      "Validation Accuracy: 0.9333333333333333\n"
     ]
    }
   ],
   "source": [
    "# predictions of training data\n",
    "preds_tr_pre = [np.argmax(forward_pass(x, W_pre, dropout_rate=0.0)['prediction_vec']) \n",
    "                for x in train_indices]\n",
    "# predictions of validation data\n",
    "preds_val_pre = [np.argmax(forward_pass(x, W_pre, dropout_rate=0.0)['prediction_vec']) \n",
    "                for x in dev_indices]\n",
    "\n",
    "# print out the training and validation accuracy\n",
    "print('Training Accuracy:', accuracy_score(train_label, preds_tr_pre))\n",
    "print('Validation Accuracy:', accuracy_score(dev_label, preds_val_pre))"
   ]
  },
  {
   "cell_type": "code",
   "execution_count": 52,
   "metadata": {
    "ExecuteTime": {
     "end_time": "2020-04-02T15:12:00.815184Z",
     "start_time": "2020-04-02T15:12:00.812563Z"
    },
    "scrolled": true
   },
   "outputs": [
    {
     "name": "stdout",
     "output_type": "stream",
     "text": [
      "Test Accuracy: 0.8888888888888888\n",
      "Test Precision: 0.8892728214496124\n",
      "Test Recall: 0.888888888888889\n",
      "Test F1-Score: 0.8889541866971521\n"
     ]
    }
   ],
   "source": [
    "preds_te_pre = [np.argmax(forward_pass(x, W_pre, dropout_rate=0.0)['prediction_vec']) \n",
    "                for x in test_indices]\n",
    "\n",
    "print('Test Accuracy:', accuracy_score(test_label, preds_te_pre))\n",
    "print('Test Precision:', precision_score(test_label, preds_te_pre, average='macro'))\n",
    "print('Test Recall:', recall_score(test_label, preds_te_pre, average='macro'))\n",
    "print('Test F1-Score:', f1_score(test_label, preds_te_pre, average='macro'))"
   ]
  },
  {
   "cell_type": "markdown",
   "metadata": {},
   "source": [
    "### Discuss the training performance of the model with best parameters"
   ]
  },
  {
   "cell_type": "markdown",
   "metadata": {},
   "source": [
    "Through observing above epoch-loss learning process figure, and the training, validation, and test accuracy, I think the shallow network with pretrained embedding weights is trained well.\n",
    "\n",
    "1. The model is not underfitted. By checking the figure above, we could find both the final training loss (0.357) and validation loss (0.2815) are low enough at the end of training, and the validation loss curve begins to be flat at the end of training. It means the model has been trained enough and it could do a good job in classification. Both validation accuracy (93.33%) and test accuracy (88.89%) are high enough.\n",
    "\n",
    "2. The model is not overfitted. By checking the figure above, we could find at the end of training, the validation loss (0.2815) is even lower than the training loss (0.357), and the validation accuracy (93.33%) is even higher than the training accuracy (89.58%). This proves that the model doesn't only learn how to classify the texts in the training dataset. The model also learn well how to classify those unseen texts in validation dataset and test dataset (test accuracy is 88.89% and is very close to training accuracy).\n",
    "\n",
    "Therefore, the model is not overfitted and underfitted. It is trained pretty well."
   ]
  },
  {
   "cell_type": "markdown",
   "metadata": {},
   "source": [
    "### Discuss how did you choose model hyperparameters ? "
   ]
  },
  {
   "cell_type": "markdown",
   "metadata": {
    "scrolled": true
   },
   "source": [
    "The process to choose model's best hyperparameters is similary to previous process for shallow network without pre-trained embedding weights. The main difference is current model will use a pre-trained embedding weights matrix and this matrix has a fixed dimension (300). Therefore, I will not tune the hyperparameter `embedding_dim` this time, I will tune `learning rate`, `dropout rate`, and `epoch`.\n",
    "\n",
    "Through calling function `\"param_tuning\"`, we could get our best parameters combination which could help model reach the highest validation accuracy (if there is a tie in validation accuracy, we will compare their validation F-1 score. If both accuracy and F-1 score are the same, we will randomly choose one set of parameters from them as the best.\n",
    "\n",
    "Here is a table to display the parameters combinations and corresponding performances:\n",
    "\n",
    "| index | learning rate | dropout rate  | embedding dim  | epoch  | layer structure | training accuracy | validation accuracy | validation F-1 score |\n",
    "|:-:|:-:|:-:|:-:|:-:|:-:|:-:|:-:|:-:|\n",
    "|1| 0.0008  | 0.2  | 300  | 30  |  [] | 0.8854  |  0.9133 | 0.9138  |\n",
    "|2| 0.0008  | 0.2  | 300  | 80  |  [] | 0.8992  | 0.9333  | 0.9335  |\n",
    "|3| 0.0008  | 0.5  | 300  | 30  |  [] | 0.8829  |  0.88 |  0.882 |\n",
    "|4| 0.0008  | 0.5  | 300  | 80  |  [] |  0.8879 |  0.9133 | 0.9139  |\n",
    "|5| 0.002  | 0.2  | 300  | 30  |  [] | 0.8958  |  0.9333 |  0.9335 |\n",
    "|6| 0.002  | 0.2  | 300  | 80  |  [] | 0.8983  | 0.9333  | 0.9335 |\n",
    "|7| 0.002  | 0.5  | 300  | 30  |  [] |  0.8921 | 0.92  |  0.9201 |\n",
    "|8| 0.002  | 0.5  | 300  | 80  |  [] |  0.8921 | 0.92  | 0.9201  |\n",
    "\n",
    "\n",
    "From observing above table, we could find the 2th, 5th, and 6th parameters combinations have the highest validation accuracies (93.33%) and all their validation accuracies and validation F-1 scores are the same. Therefore, I randomly chose a set of parameters from them three as the best parameters."
   ]
  },
  {
   "cell_type": "markdown",
   "metadata": {},
   "source": [
    "### Do I get a better performance when using pre-trained embedding matrix?"
   ]
  },
  {
   "cell_type": "markdown",
   "metadata": {},
   "source": [
    "The answer is YES. \n",
    "\n",
    "Compared to the previous shallow network without pre-trained embedding matrix, the shallow network with a pre-trained embedding matrix could reach a higher validation accuracy and test accuracy. \n",
    "\n",
    "Here is a table to display the performances of shallow network with and without pre-trained embedding matrix. Both models are trained by using the best parameters I found by parameter tuning.\n",
    "\n",
    "| Model | test accuracy |\n",
    "|:-:|:-:|\n",
    "|shallow network (without pre-trained)| 85.22%  |\n",
    "|shallow network (with pre-trained| 88.89%  |\n",
    "\n",
    "From the table, we could see using pre-trained embedding matrix could improve the performance of network. I will analyze and discuss the reason at the end of the report."
   ]
  },
  {
   "cell_type": "code",
   "execution_count": 53,
   "metadata": {},
   "outputs": [],
   "source": [
    "# used to record running time (not include the parameters tuning part and pre-trained embedding matrix loading part)\n",
    "time_3rd_end = time.time()"
   ]
  },
  {
   "cell_type": "markdown",
   "metadata": {},
   "source": [
    "# Extend to support deeper architectures \n",
    "\n",
    "Extend the network to support back-propagation for more hidden layers. You need to modify the `backward_pass` function above to compute gradients and update the weights between intermediate hidden layers. Finally, train and evaluate a network with a deeper architecture. Do deeper architectures increase performance?"
   ]
  },
  {
   "cell_type": "markdown",
   "metadata": {},
   "source": [
    "## Tuning hyperparameters for deeper network with middle hidden layers (with pre-trained embedding matrix)"
   ]
  },
  {
   "cell_type": "markdown",
   "metadata": {},
   "source": [
    "## ( Because this part belongs to parameter tuning part, its running time will not be counted in whole running time)"
   ]
  },
  {
   "cell_type": "markdown",
   "metadata": {},
   "source": [
    "Because we use the pre-trained average embedding matrix and this matrix's dimension is fixed, we are not going to tune the parameter \"embedding_dim\". Here, we will tune a new parameter which was not tuned before - \"layer structure\". \n",
    "\n",
    "To save time, I will fix the parameter \"epoch\" and only tune the parameter \"layer structure\", \"learning rate\", and \"dropout_rate\"."
   ]
  },
  {
   "cell_type": "code",
   "execution_count": 54,
   "metadata": {},
   "outputs": [],
   "source": [
    "# design the parameter grid for deeper newtork with middle hidden layers and pre-trained embedding matrix.\n",
    "param_grid_deep = {}\n",
    "param_grid_deep[\"epoch\"] = [20] # fix \"epoch\" and do not tune it\n",
    "param_grid_deep[\"embedding_dim\"] = [300] # \"embedding_dim\" is fixed by w_glove and can not be tuned.\n",
    "param_grid_deep[\"learning_rate\"] = [0.0004, 0.0008]\n",
    "param_grid_deep[\"dropout_rate\"] = [0.1, 0.3]\n",
    "param_grid_deep[\"layer\"] = [[200, 100], [200]] # two different candidates for parameter \"layer_structure\""
   ]
  },
  {
   "cell_type": "code",
   "execution_count": 55,
   "metadata": {},
   "outputs": [
    {
     "name": "stdout",
     "output_type": "stream",
     "text": [
      "----------------------------------------------------------------------------------\n",
      "Hyperparameters combination and corresponding accuracy: \n",
      "learning rate = 0.000400, dropout rate = 0.1, epoch =  20, embedding dim = 300, layer structure = [200, 100]\n",
      "training accuracy = 0.899167, validation accuracy = 0.906667, validation F-1 score = 0.907085\n",
      " \n"
     ]
    },
    {
     "data": {
      "image/png": "[encoded data removed]",
      "text/plain": [
       "<Figure size 432x288 with 1 Axes>"
      ]
     },
     "metadata": {
      "needs_background": "light"
     },
     "output_type": "display_data"
    },
    {
     "name": "stdout",
     "output_type": "stream",
     "text": [
      "----------------------------------------------------------------------------------\n",
      "Hyperparameters combination and corresponding accuracy: \n",
      "learning rate = 0.000400, dropout rate = 0.3, epoch =  20, embedding dim = 300, layer structure = [200, 100]\n",
      "training accuracy = 0.868750, validation accuracy = 0.860000, validation F-1 score = 0.863057\n",
      " \n"
     ]
    },
    {
     "data": {
      "image/png": "[encoded data removed]",
      "text/plain": [
       "<Figure size 432x288 with 1 Axes>"
      ]
     },
     "metadata": {
      "needs_background": "light"
     },
     "output_type": "display_data"
    },
    {
     "name": "stdout",
     "output_type": "stream",
     "text": [
      "----------------------------------------------------------------------------------\n",
      "Hyperparameters combination and corresponding accuracy: \n",
      "learning rate = 0.000800, dropout rate = 0.1, epoch =  20, embedding dim = 300, layer structure = [200, 100]\n",
      "training accuracy = 0.902917, validation accuracy = 0.920000, validation F-1 score = 0.920169\n",
      " \n"
     ]
    },
    {
     "data": {
      "image/png": "[encoded data removed]",
      "text/plain": [
       "<Figure size 432x288 with 1 Axes>"
      ]
     },
     "metadata": {
      "needs_background": "light"
     },
     "output_type": "display_data"
    },
    {
     "name": "stdout",
     "output_type": "stream",
     "text": [
      "----------------------------------------------------------------------------------\n",
      "Hyperparameters combination and corresponding accuracy: \n",
      "learning rate = 0.000800, dropout rate = 0.3, epoch =  20, embedding dim = 300, layer structure = [200, 100]\n",
      "training accuracy = 0.885417, validation accuracy = 0.913333, validation F-1 score = 0.914015\n",
      " \n"
     ]
    },
    {
     "data": {
      "image/png": "[encoded data removed]",
      "text/plain": [
       "<Figure size 432x288 with 1 Axes>"
      ]
     },
     "metadata": {
      "needs_background": "light"
     },
     "output_type": "display_data"
    },
    {
     "name": "stdout",
     "output_type": "stream",
     "text": [
      "----------------------------------------------------------------------------------\n",
      "Hyperparameters combination and corresponding accuracy: \n",
      "learning rate = 0.000400, dropout rate = 0.1, epoch =  20, embedding dim = 300, layer structure = [200]\n",
      "training accuracy = 0.888333, validation accuracy = 0.913333, validation F-1 score = 0.913044\n",
      " \n"
     ]
    },
    {
     "data": {
      "image/png": "[encoded data removed]",
      "text/plain": [
       "<Figure size 432x288 with 1 Axes>"
      ]
     },
     "metadata": {
      "needs_background": "light"
     },
     "output_type": "display_data"
    },
    {
     "name": "stdout",
     "output_type": "stream",
     "text": [
      "----------------------------------------------------------------------------------\n",
      "Hyperparameters combination and corresponding accuracy: \n",
      "learning rate = 0.000400, dropout rate = 0.3, epoch =  20, embedding dim = 300, layer structure = [200]\n",
      "training accuracy = 0.875417, validation accuracy = 0.880000, validation F-1 score = 0.880819\n",
      " \n"
     ]
    },
    {
     "data": {
      "image/png": "[encoded data removed]",
      "text/plain": [
       "<Figure size 432x288 with 1 Axes>"
      ]
     },
     "metadata": {
      "needs_background": "light"
     },
     "output_type": "display_data"
    },
    {
     "name": "stdout",
     "output_type": "stream",
     "text": [
      "----------------------------------------------------------------------------------\n",
      "Hyperparameters combination and corresponding accuracy: \n",
      "learning rate = 0.000800, dropout rate = 0.1, epoch =  20, embedding dim = 300, layer structure = [200]\n",
      "training accuracy = 0.899167, validation accuracy = 0.913333, validation F-1 score = 0.914057\n",
      " \n"
     ]
    },
    {
     "data": {
      "image/png": "[encoded data removed]",
      "text/plain": [
       "<Figure size 432x288 with 1 Axes>"
      ]
     },
     "metadata": {
      "needs_background": "light"
     },
     "output_type": "display_data"
    },
    {
     "name": "stdout",
     "output_type": "stream",
     "text": [
      "----------------------------------------------------------------------------------\n",
      "Hyperparameters combination and corresponding accuracy: \n",
      "learning rate = 0.000800, dropout rate = 0.3, epoch =  20, embedding dim = 300, layer structure = [200]\n",
      "training accuracy = 0.880000, validation accuracy = 0.886667, validation F-1 score = 0.887345\n",
      " \n"
     ]
    },
    {
     "data": {
      "image/png": "[encoded data removed]",
      "text/plain": [
       "<Figure size 432x288 with 1 Axes>"
      ]
     },
     "metadata": {
      "needs_background": "light"
     },
     "output_type": "display_data"
    }
   ],
   "source": [
    "# calling the function \"param_tuning\" to choose the best hyperparameters from candidate combinations.\n",
    "# Note, the flag \"freeze_emb\" is True now, because we use a pre-trained embedding matrix and will not update it.\n",
    "# argument w_glove = w_glove(pre_trained embedding matrix) now\n",
    "best_param_deep = param_tuning(X_tr = train_indices, Y_tr = train_label_oh,\n",
    "                                 X_dev = dev_indices, Y_dev = dev_label_oh,\n",
    "                                 param_grid = param_grid_deep,\n",
    "                                 freeze_emb = True,\n",
    "                                 w_glove = w_glove)\n"
   ]
  },
  {
   "cell_type": "code",
   "execution_count": 56,
   "metadata": {},
   "outputs": [
    {
     "name": "stdout",
     "output_type": "stream",
     "text": [
      "{'learning_rate': 0.0008, 'dropout_rate': 0.1, 'embedding_dim': 300, 'layer': [200, 100], 'epoch': 20}\n"
     ]
    }
   ],
   "source": [
    "# display the best hyperparameters for deep network with middle hidden layer and pre-trained embedding matrix:\n",
    "print(best_param_deep)"
   ]
  },
  {
   "cell_type": "markdown",
   "metadata": {},
   "source": [
    "## Train our deep network with middle hidden layer and pre-trained average embedding matrix by the best hyperparameters (chosen from previous parameters tuning part)"
   ]
  },
  {
   "cell_type": "markdown",
   "metadata": {},
   "source": [
    "Similarly, I will mannually pass the best parameters I found to the deep network model (with middle hidden layers anc pre-trained embedding matrix) as following: `hidden_dim` = `[200, 100]`, `dropout` = `0.1`, and `learning rate` = `0.0008`.\n",
    "\n",
    "I could have use programmatically way like `hidden_dim` = `best_param_deep[\"layer\"]`, `lr` = `best_param_deep[\"learning_rate\"]`, and `dropout` = `best_param_deep[\"dropout_rate\"]`. But by passing best parameters mannually, you don't have to run the parameter tuning part when you check my code and this will save your time."
   ]
  },
  {
   "cell_type": "code",
   "execution_count": 57,
   "metadata": {},
   "outputs": [],
   "source": [
    "# used to record running time (not include the parameters tuning part and pre-trained embedding matrix loading part)\n",
    "time_4th_start = time.time()"
   ]
  },
  {
   "cell_type": "code",
   "execution_count": 58,
   "metadata": {
    "ExecuteTime": {
     "end_time": "2020-04-02T14:58:51.764619Z",
     "start_time": "2020-04-02T14:58:47.483690Z"
    },
    "scrolled": false
   },
   "outputs": [],
   "source": [
    "# set the random seed\n",
    "random.seed(2022)\n",
    "np.random.seed(2022)\n",
    "\n",
    "# initialize the weights for network with more intermediate hidden layers:\n",
    "W_deep = network_weights(vocab_size = len(vocab), embedding_dim = 300,\n",
    "                         hidden_dim = [200, 100], num_classes = 3)\n",
    "\n",
    "# replace the weights of embedding layer with pre-trained w_glove\n",
    "W_deep[0] = w_glove\n",
    "\n"
   ]
  },
  {
   "cell_type": "code",
   "execution_count": 59,
   "metadata": {},
   "outputs": [
    {
     "name": "stdout",
     "output_type": "stream",
     "text": [
      "Epoch   1: training loss: 0.925888, validation loss: 0.941678\n",
      "Epoch   2: training loss: 0.748173, validation loss: 0.773648\n",
      "Epoch   3: training loss: 0.587603, validation loss: 0.600628\n",
      "Epoch   4: training loss: 0.482123, validation loss: 0.459505\n",
      "Epoch   5: training loss: 0.414765, validation loss: 0.363832\n",
      "Epoch   6: training loss: 0.386464, validation loss: 0.318791\n",
      "Epoch   7: training loss: 0.368240, validation loss: 0.267435\n",
      "Epoch   8: training loss: 0.348160, validation loss: 0.259750\n",
      "Epoch   9: training loss: 0.339473, validation loss: 0.244056\n",
      "Epoch  10: training loss: 0.337654, validation loss: 0.203346\n",
      "Epoch  11: training loss: 0.338584, validation loss: 0.201629\n",
      "Epoch  12: training loss: 0.328694, validation loss: 0.186280\n",
      "Epoch  13: training loss: 0.332665, validation loss: 0.214209\n"
     ]
    }
   ],
   "source": [
    "# train the new deeper (with middle hiden layers) network by freezing the update of embedding weights matrix\n",
    "W_deep, tr_loss_deep, val_loss_deep = SGD(train_indices, train_label_oh,\n",
    "                                          W_deep,\n",
    "                                          X_dev = dev_indices, Y_dev = dev_label_oh,\n",
    "                                          lr=0.0008, \n",
    "                                          dropout=0.1,\n",
    "                                          freeze_emb=True,\n",
    "                                          tolerance=0.0001,\n",
    "                                          epochs=20)"
   ]
  },
  {
   "cell_type": "code",
   "execution_count": 60,
   "metadata": {},
   "outputs": [
    {
     "data": {
      "image/png": "[encoded data removed]",
      "text/plain": [
       "<Figure size 432x288 with 1 Axes>"
      ]
     },
     "metadata": {
      "needs_background": "light"
     },
     "output_type": "display_data"
    }
   ],
   "source": [
    "# plot the learning process for deep network (with middle hidden layers and with pre-trained embedding matrix)\n",
    "plot_loss_history(tr_loss_deep, val_loss_deep, \"deep network with pre-trained emb matrix\")"
   ]
  },
  {
   "cell_type": "markdown",
   "metadata": {},
   "source": [
    "Report the training accuracy, validation accuracy, and test performance for the deep network trained by best parameters I found."
   ]
  },
  {
   "cell_type": "code",
   "execution_count": 61,
   "metadata": {},
   "outputs": [
    {
     "name": "stdout",
     "output_type": "stream",
     "text": [
      "Training Accuracy: 0.9029166666666667\n",
      "Validation Accuracy: 0.92\n"
     ]
    }
   ],
   "source": [
    "# predictions of training dataset and validation dataset:\n",
    "preds_tr_deep = [np.argmax(forward_pass(x, W_deep, dropout_rate=0.0)['prediction_vec']) \n",
    "            for x in train_indices]\n",
    "preds_val_deep = [np.argmax(forward_pass(x, W_deep, dropout_rate=0.0)['prediction_vec']) \n",
    "            for x in dev_indices]\n",
    "                  \n",
    "# print out the training and validation accuracy:\n",
    "print('Training Accuracy:', accuracy_score(train_label ,preds_tr_deep))\n",
    "print('Validation Accuracy:', accuracy_score(dev_label ,preds_val_deep))"
   ]
  },
  {
   "cell_type": "code",
   "execution_count": 62,
   "metadata": {
    "ExecuteTime": {
     "end_time": "2020-04-02T15:11:51.994986Z",
     "start_time": "2020-04-02T15:11:51.992563Z"
    },
    "scrolled": true
   },
   "outputs": [
    {
     "name": "stdout",
     "output_type": "stream",
     "text": [
      "Test Accuracy: 0.8977777777777778\n",
      "Test Precision: 0.8973386703133639\n",
      "Test Recall: 0.8977777777777778\n",
      "Test F1-Score: 0.8973061106626963\n"
     ]
    }
   ],
   "source": [
    "# preidction results of test dataset for deep network trained by best parameters\n",
    "preds_te_deep = [np.argmax(forward_pass(x, W_deep, dropout_rate=0.0)['prediction_vec']) \n",
    "            for x in test_indices]\n",
    "\n",
    "print('Test Accuracy:', accuracy_score(test_label ,preds_te_deep))\n",
    "print('Test Precision:', precision_score(test_label,preds_te_deep,average='macro'))\n",
    "print('Test Recall:', recall_score(test_label,preds_te_deep,average='macro'))\n",
    "print('Test F1-Score:', f1_score(test_label,preds_te_deep,average='macro'))"
   ]
  },
  {
   "cell_type": "markdown",
   "metadata": {},
   "source": [
    "### Discuss the training performance of deep network (with pre-trained embedding matrix and with middle hidden layers)"
   ]
  },
  {
   "cell_type": "markdown",
   "metadata": {},
   "source": [
    "By observing above figure and training, validation, and test accuracy, I think my deep network trained by best parameters is trained well.\n",
    "\n",
    "1. It is not underfitted. From figure above, we could find both the validation loss (0.2142) and training loss (0.3327) are low enough at the end of training. And both curves begin to be flat. It means the model is trained enough and the weights (which need to be optimized) are optimized enough. They have the ability to classify texts into right classes with a very high accuracy - training accuracy is 90.29%, validation accuracy is 92%, and test accuracy is 89.78%.\n",
    "\n",
    "2. This model is also not overfitted. The training accuracy (90.29%), validation accuracy (92%), and test accuracy(89.78%) are very close - almost same. It means the model learned lots of generalized features which could not only help model classify the texts in training dataset, but also help model accurately classify the unseen texts in validation and test dataset. In addition, from the figure, we could see that at the end of training, the validation loss(0.2142) and training loss(0.3327) are very close, too.\n",
    "\n",
    "So, we could confirm the model is trained very well."
   ]
  },
  {
   "cell_type": "markdown",
   "metadata": {},
   "source": [
    "### Discuss how did you choose model hyperparameters for deep network (with pre-trained embedding matrix and middle hidden layers)? "
   ]
  },
  {
   "cell_type": "markdown",
   "metadata": {},
   "source": [
    "For the hyperparameter choosing for the deep model, the main difference is that we need to tune a new hyperparameter which is not tuned before. It is `layer_structure`. We need to tune different `layer structures` to find the best one. \n",
    "\n",
    "Here, we tune the parameters: `layer`(layer structure), `learning rate`, and `dropout rate`.\n",
    "\n",
    "The detailed process is similary to previous two models. We call the function `\"param_tuning\"` to find the best parameters combination from a parameter grid (contain several parameters combinations as candidates).\n",
    "\n",
    "The parameters combination that could help the model receive highest validation accuracy (if there is a tie in accuracy, then compare the validation F-1 score. If both accuracy and F-1 score are the same, I will randomly choose one from them) is the best parameters combination.\n",
    "\n",
    "Here is a table to display the parameters combinations and corresponding model performances:\n",
    "\n",
    "| index | learning rate | dropout rate  | embedding dim  | epoch  | layer structure | training accuracy | validation accuracy | validation F-1 score |\n",
    "|:-:|:-:|:-:|:-:|:-:|:-:|:-:|:-:|:-:|\n",
    "|1| 0.0004  | 0.1  | 300  | 20  |  [200, 100] | 0.8992  |  0.9067 | 0.9071  |\n",
    "|2| 0.0004  | 0.3  | 300  | 20  |  [200, 100] | 0.8688  | 0.86  | 0.8631 |\n",
    "|3| 0.0008  | 0.1  | 300  | 20  |  [200, 100] | 0.9029  |  0.92 |  0.9202 |\n",
    "|4| 0.0008  | 0.3  | 300  | 20  |  [200, 100] |  0.8854 |  0.9133 | 0.914  |\n",
    "|5| 0.0004  | 0.1  | 300  | 20  |  [200] | 0.8883  |  0.9133 |  0.913 |\n",
    "|6| 0.0004  | 0.3  | 300  | 20  |  [200] | 0.8754  | 0.88  | 0.8808 |\n",
    "|7| 0.0008  | 0.1  | 300  | 20  |  [200] |  0.8992 | 0.9133  |  0.9141 |\n",
    "|8| 0.0008  | 0.3  | 300  | 20  |  [200] |  0.88 | 0.8867  | 0.8873  |\n",
    "\n",
    "\n",
    "From above table, we could find the 3rd parameters combination is the best one. Because this combination could help the deep model get the highest validation accuracy (92%). No more combination could help model reach such a high validation accuracy.\n"
   ]
  },
  {
   "cell_type": "markdown",
   "metadata": {},
   "source": [
    "### How does the deeper structure influence performance?"
   ]
  },
  {
   "cell_type": "markdown",
   "metadata": {},
   "source": [
    "For my own assignment, when I add middle hidden layers to network, the model get a better performance on test data for classification. We could see in below table:\n",
    "\n",
    "| Model | test accuracy |\n",
    "|:-:|:-:|\n",
    "|shallow network (with pre-trained)| 88.89%  |\n",
    "|deeper network (with pre-trained| 89.78%  |\n",
    "\n",
    "Above table displays the test accuracy for the deeper network model (with middle hidden layers) and shallow network model (without extra middel hidden layers). Both models are trained by their corresponding best parameters combination which is found by parameter tuning process and both models use a pre-trained embedding matrix.\n",
    "\n",
    "I will analyze and discuss why deeper network improves performance at the end of the report."
   ]
  },
  {
   "cell_type": "code",
   "execution_count": 63,
   "metadata": {},
   "outputs": [],
   "source": [
    "# used to record running time (not include the parameters tuning part and pre-trained embedding matrix loading part)\n",
    "time_4th_end = time.time()"
   ]
  },
  {
   "cell_type": "markdown",
   "metadata": {},
   "source": [
    "## Full Results\n",
    "\n",
    "Add your final results here:\n",
    "\n",
    "| Model | Precision  | Recall  | F1-Score  | Accuracy\n",
    "|:-:|:-:|:-:|:-:|:-:|\n",
    "| Average Embedding  | 0.855  |  0.8522 | 0.852  | 0.8522  |\n",
    "| Average Embedding (Pre-trained)  | 0.8893  | 0.8889  | 0.889  | 0.8889  |\n",
    "| Average Embedding (Pre-trained) + X hidden layers    | 0.8973  | 0.8978  | 0.8973  | 0.8978  |\n",
    "\n",
    "\n",
    "### Please discuss why your best performing model is better than the rest."
   ]
  },
  {
   "cell_type": "markdown",
   "metadata": {
    "scrolled": true
   },
   "source": [
    "In my assignment, the best performing model is the `last model (network with pre-trained embedding matrix + [200, 100] middle layers)`.\n",
    "\n",
    "The reason consists of two parts:\n",
    "\n",
    "`First part (pre-trained embedding matrix):`\n",
    "\n",
    "3rd model (pre-trained + [200, 100] hidden layers model) use a pre-trained embedding weights matrix. The \"Glove\" matrix is trained by a very large dataset with sophisticated skills. It means the weights in \"Glove\" matrix extract the features of the words in our training dataset well, and these weights in \"Glove\" matrix could represent these words in our training data well. \n",
    "\n",
    "Using this pre-trained embedding weights matrix is much better than randomly initializing and training an embedding weights by our current training data from the scratch. Compared to the dataset which is used to train the pre-trained \"Glove\" weights matrix, our dataset is very small. \n",
    "\n",
    "Therefore, the embedding matrix trained by ourselves can not be as good as the pre-trained one. That is the main reason why both 2nd and 3rd models have a better performance than the 1st model(which is not only shallow, but also without pre-trained embedding matrix)\n",
    "\n",
    "`Second part (more hidden layers):`\n",
    "\n",
    "Comparing the 2nd model (shallow and with pre-trained embedding matrix) and 3rd model (deep and with pre-trained embedding matrix), the reason why the 3rd one is better than 2nd one is the 3rd model has more hidden layers.\n",
    "\n",
    "It means: \n",
    "\n",
    "(i) The 3rd model have more weights (roughly $length(vocab)*300 + 300*200 + 200*100 + 100*3$) than the 2nd model (roughly has $length(vocab)*300 + 300*3$ weights). Typically, when the model has more weights, it will have stronger ability to represent the mapping relationship between input (text) and output (class). \n",
    "\n",
    "(ii) The 3rd model will have stronger nonlinearity. We use a nonlinear activation function (ReLU) in our network model. When we add more hidden layers, the nonlinearity of deeper network will be stronger than the shallow model. Therefore, the 3rd model (deeper network) could learn more complex mapping relationship between input (text) and output (class) than the shallow models (1st, and 2nd models).\n",
    "\n",
    "Here is the reason for why the 3rd model (deep network with pre-trained embedding matrix) has the best performance. And why the 2nd model using pretrained matrix is better than the 1st shallow model (without pretrained matrix).\n"
   ]
  },
  {
   "cell_type": "markdown",
   "metadata": {},
   "source": [
    "### A brief discussion about text processing choices."
   ]
  },
  {
   "cell_type": "markdown",
   "metadata": {},
   "source": [
    "In this assignment, when I extract tokens from a single texts. I choose to remove all punctuations and numbers and only extract those words composed of English letters(a-zA-Z). Then, I use a simple stopword list to remove stopwords from extracted words because I think these words are so common and not informative that these words are not helpful to our model training.\n",
    "\n",
    "Then, for the size of `vocab`(a python set containing all words used as training features), I decide to set `min_df` to 0 and keep all words extracted from raw texts except those stopwords. Therefore, the `vocab`, dictionary `df`, and dictionary `ngrams_count` have the same size."
   ]
  },
  {
   "cell_type": "markdown",
   "metadata": {},
   "source": [
    "### running time (not include hyperparameters tuning and pre-trained matrix loading)"
   ]
  },
  {
   "cell_type": "code",
   "execution_count": 64,
   "metadata": {},
   "outputs": [
    {
     "name": "stdout",
     "output_type": "stream",
     "text": [
      "The running time on my laptop (Intel Core i7 CPU and 16GB RAM) is 191.765449 seconds\n"
     ]
    }
   ],
   "source": [
    "running_time = (time_1st_end - time_1st_start) + (time_2nd_end - time_2nd_start) + \\\n",
    "               (time_3rd_end - time_3rd_start) + (time_4th_end - time_4th_start)\n",
    "\n",
    "print(\"The running time on my laptop (Intel Core i7 CPU and 16GB RAM) is {:.6f} seconds\".format(running_time))"
   ]
  }
 ],
 "metadata": {
  "kernelspec": {
   "display_name": "Python 3",
   "language": "python",
   "name": "python3"
  },
  "language_info": {
   "codemirror_mode": {
    "name": "ipython",
    "version": 3
   },
   "file_extension": ".py",
   "mimetype": "text/x-python",
   "name": "python",
   "nbconvert_exporter": "python",
   "pygments_lexer": "ipython3",
   "version": "3.7.4"
  }
 },
 "nbformat": 4,
 "nbformat_minor": 2
}
