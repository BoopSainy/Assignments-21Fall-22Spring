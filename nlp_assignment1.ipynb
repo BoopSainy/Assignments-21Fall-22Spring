{
 "cells": [
  {
   "cell_type": "markdown",
   "metadata": {},
   "source": [
    "# [COM6513] Assignment 1: Sentiment Analysis with Logistic Regression\n",
    "\n",
    "### Instructor: Nikos Aletras\n",
    "\n",
    "\n",
    "The goal of this assignment is to develop and test a **text classification** system for **sentiment analysis**, in particular to predict the sentiment of movie reviews, i.e. positive or negative (binary classification).\n",
    "\n",
    "\n",
    "\n",
    "For that purpose, you will implement:\n",
    "\n",
    "\n",
    "- Text processing methods for extracting Bag-Of-Word features, using \n",
    "    - n-grams (BOW), i.e. unigrams, bigrams and trigrams to obtain vector representations of documents where n=1,2,3 respectively. Two vector weighting schemes should be tested: (1) raw frequencies (**1 mark**); (2) tf.idf (**1 mark**). \n",
    "    - character n-grams (BOCN). A character n-gram is a contiguous sequence of characters given a word, e.g. for n=2, 'coffee' is split into {'co', 'of', 'ff', 'fe', 'ee'}. Two vector weighting schemes should be tested: (1) raw frequencies (**1 mark**); (2) tf.idf (**1 mark**). **Tip: Note the large vocabulary size!** \n",
    "    - a combination of the two vector spaces (n-grams and character n-grams) choosing your best performing wighting respectively (i.e. raw or tfidf). (**1 mark**) **Tip: you should merge the two representations**\n",
    "\n",
    "\n",
    "\n",
    "- Binary Logistic Regression (LR) classifiers that will be able to accurately classify movie reviews trained with: \n",
    "    - (1) BOW-count (raw frequencies) \n",
    "    - (2) BOW-tfidf (tf.idf weighted)\n",
    "    - (3) BOCN-count\n",
    "    - (4) BOCN-tfidf\n",
    "    - (5) BOW+BOCN (best performing weighting; raw or tfidf)\n",
    "\n",
    "\n",
    "\n",
    "- The Stochastic Gradient Descent (SGD) algorithm to estimate the parameters of your Logistic Regression models. Your SGD algorithm should:\n",
    "    - Minimise the Binary Cross-entropy loss function (**1 mark**)\n",
    "    - Use L2 regularisation (**1 mark**)\n",
    "    - Perform multiple passes (epochs) over the training data (**1 mark**)\n",
    "    - Randomise the order of training data after each pass (**1 mark**)\n",
    "    - Stop training if the difference between the current and previous development loss is smaller than a threshold (**1 mark**)\n",
    "    - After each epoch print the training and development loss (**1 mark**)\n",
    "\n",
    "\n",
    "\n",
    "- Discuss how did you choose hyperparameters (e.g. learning rate and regularisation strength) for each LR model? You should use a table showing model performance using different set of hyperparameter values. (**2 marks). **Tip: Instead of using all possible combinations, you could perform a random sampling of combinations.**\n",
    "\n",
    "\n",
    "- After training each LR model, plot the learning process (i.e. training and validation loss in each epoch) using a line plot. Does your model underfit, overfit or is it about right? Explain why. (**1 mark**). \n",
    "\n",
    "\n",
    "- Identify and show the most important features (model interpretability) for each class (i.e. top-10 most positive and top-10 negative weights). Give the top 10 for each class and comment on whether they make sense (if they don't you might have a bug!). If you were to apply the classifier into a different domain such laptop reviews or restaurant reviews, do you think these features would generalise well? Can you propose what features the classifier could pick up as important in the new domain? (**2 marks**)\n",
    "\n",
    "\n",
    "- Provide well documented and commented code describing all of your choices. In general, you are free to make decisions about text processing (e.g. punctuation, numbers, vocabulary size) and hyperparameter values. We expect to see justifications and discussion for all of your choices (**2 marks**). \n",
    "\n",
    "\n",
    "- Provide efficient solutions by using Numpy arrays when possible (you can find tips in Lab 1 sheet). Executing the whole notebook with your code should not take more than 5 minutes on a any standard computer (e.g. Intel Core i5 CPU, 8 or 16GB RAM) excluding hyperparameter tuning runs (**2 marks**). \n",
    "\n",
    "\n",
    "\n",
    "\n",
    "\n",
    "\n",
    "### Data \n",
    "\n",
    "The data you will use are taken from here: [http://www.cs.cornell.edu/people/pabo/movie-review-data/](http://www.cs.cornell.edu/people/pabo/movie-review-data/) and you can find it in the `./data_sentiment` folder in CSV format:\n",
    "\n",
    "- `data_sentiment/train.csv`: contains 1,400 reviews, 700 positive (label: 1) and 700 negative (label: 0) to be used for training.\n",
    "- `data_sentiment/dev.csv`: contains 200 reviews, 100 positive and 100 negative to be used for hyperparameter selection and monitoring the training process.\n",
    "- `data_sentiment/test.csv`: contains 400 reviews, 200 positive and 200 negative to be used for testing.\n",
    "\n",
    "\n",
    "\n",
    "\n",
    "### Submission Instructions\n",
    "\n",
    "You should submit a Jupyter Notebook file (assignment1.ipynb) and an exported PDF version (you can do it from Jupyter: `File->Download as->PDF via Latex` or you can print it as PDF using your browser).\n",
    "\n",
    "You are advised to follow the code structure given in this notebook by completing all given funtions. You can also write any auxilliary/helper functions (and arguments for the functions) that you might need but note that you can provide a full solution without any such functions. Similarly, you can just use only the packages imported below but you are free to use any functionality from the [Python Standard Library](https://docs.python.org/2/library/index.html), NumPy, SciPy (excluding built-in softmax funtcions) and Pandas. You are not allowed to use any third-party library such as Scikit-learn (apart from metric functions already provided), NLTK, Spacy, Keras etc.. \n",
    "\n",
    "There is no single correct answer on what your accuracy should be, but correct implementations usually achieve F1-scores around 80\\% or higher. The quality of the analysis of the results is as important as the accuracy itself. \n",
    "\n",
    "This assignment will be marked out of 20. It is worth 20\\% of your final grade in the module.\n",
    "\n",
    "The deadline for this assignment is **23:59 on Mon, 14 Mar 2022** and it needs to be submitted via Blackboard. Standard departmental penalties for lateness will be applied. We use a range of strategies to **detect [unfair means](https://www.sheffield.ac.uk/ssid/unfair-means/index)**, including Turnitin which helps detect plagiarism. Use of unfair means would result in getting a failing grade.\n",
    "\n"
   ]
  },
  {
   "cell_type": "code",
   "execution_count": 1,
   "metadata": {
    "ExecuteTime": {
     "end_time": "2020-03-27T13:41:17.642162Z",
     "start_time": "2020-03-27T13:41:16.891940Z"
    }
   },
   "outputs": [],
   "source": [
    "import pandas as pd\n",
    "import numpy as np\n",
    "from collections import Counter\n",
    "import re\n",
    "import matplotlib.pyplot as plt\n",
    "from sklearn.metrics import accuracy_score, precision_score, recall_score, f1_score\n",
    "import random\n",
    "\n",
    "\n",
    "# fixing random seed for reproducibility\n",
    "random.seed(123)\n",
    "np.random.seed(123)\n"
   ]
  },
  {
   "cell_type": "markdown",
   "metadata": {},
   "source": [
    "Note: the whole running time except the five hyperparameters tunning parts is about 130-140s."
   ]
  },
  {
   "cell_type": "markdown",
   "metadata": {},
   "source": [
    "## Load Raw texts and labels into arrays\n",
    "\n",
    "First, you need to load the training, development and test sets from their corresponding CSV files (tip: you can use Pandas dataframes)."
   ]
  },
  {
   "cell_type": "code",
   "execution_count": 2,
   "metadata": {
    "ExecuteTime": {
     "end_time": "2020-02-15T14:17:28.145788Z",
     "start_time": "2020-02-15T14:17:28.066100Z"
    }
   },
   "outputs": [],
   "source": [
    "# use Pandas to load original training, development, and test datasets from 'csv' file.\n",
    "\n",
    "train_ori = pd.read_csv('data_sentiment/train.csv', header = None)\n",
    "dev_ori = pd.read_csv('data_sentiment/dev.csv', header = None)\n",
    "test_ori = pd.read_csv('data_sentiment/test.csv', header = None)"
   ]
  },
  {
   "cell_type": "markdown",
   "metadata": {},
   "source": [
    "If you use Pandas you can see a sample of the data."
   ]
  },
  {
   "cell_type": "code",
   "execution_count": 3,
   "metadata": {
    "ExecuteTime": {
     "end_time": "2020-02-15T14:17:28.900892Z",
     "start_time": "2020-02-15T14:17:28.891221Z"
    }
   },
   "outputs": [
    {
     "name": "stdout",
     "output_type": "stream",
     "text": [
      "check first five samples from training dataset\n",
      "                                                   0  1\n",
      "0  note : some may consider portions of the follo...  1\n",
      "1  note : some may consider portions of the follo...  1\n",
      "2  every once in a while you see a film that is s...  1\n",
      "3  when i was growing up in 1970s , boys in my sc...  1\n",
      "4  the muppet movie is the first , and the best m...  1\n",
      "\n",
      "\n",
      "check first five samples from development dataset\n",
      "                                                   0  1\n",
      "0  if he doesn=92t watch out , mel gibson is in d...  1\n",
      "1  wong kar-wei's \" fallen angels \" is , on a pur...  1\n",
      "2  there is nothing like american history x in th...  1\n",
      "3  an unhappy italian housewife , a lonely waiter...  1\n",
      "4  when people are talking about good old times ,...  1\n",
      "\n",
      "\n",
      "check first five samples from test dataset\n",
      "                                                   0  1\n",
      "0  wild things is a suspenseful thriller starring...  1\n",
      "1  i know it already opened in december , but i f...  1\n",
      "2  what's shocking about \" carlito's way \" is how...  1\n",
      "3  uncompromising french director robert bresson'...  1\n",
      "4  aggressive , bleak , and unrelenting film abou...  1\n",
      "\n",
      "\n"
     ]
    }
   ],
   "source": [
    "# check the loaded data\n",
    "\n",
    "print('check first five samples from training dataset')\n",
    "print(train_ori.iloc[0:5])\n",
    "print('\\n')\n",
    "\n",
    "print('check first five samples from development dataset')\n",
    "print(dev_ori.iloc[0:5])\n",
    "print('\\n')\n",
    "\n",
    "print('check first five samples from test dataset')\n",
    "print(test_ori.iloc[0:5])\n",
    "print('\\n')\n"
   ]
  },
  {
   "cell_type": "markdown",
   "metadata": {},
   "source": [
    "The next step is to put the raw texts into Python lists and their corresponding labels into NumPy arrays:\n"
   ]
  },
  {
   "cell_type": "code",
   "execution_count": 4,
   "metadata": {
    "ExecuteTime": {
     "end_time": "2020-02-15T14:17:31.115577Z",
     "start_time": "2020-02-15T14:17:31.108038Z"
    }
   },
   "outputs": [],
   "source": [
    "# put the raw texts into list and corresponding labels into NumPy arrays\n",
    "\n",
    "train_text = [train_ori.iloc[i, 0] for i in range(train_ori.shape[0])]\n",
    "train_label = np.array([train_ori.iloc[i, 1] for i in range(train_ori.shape[0])]) # train_label's shape is (1400, )\n",
    "\n",
    "dev_text = [dev_ori.iloc[i, 0] for i in range(dev_ori.shape[0])]\n",
    "dev_label = np.array([dev_ori.iloc[i, 1] for i in range(dev_ori.shape[0])]) # dev_label's shape is (200, )\n",
    "\n",
    "test_text = [test_ori.iloc[i, 0] for i in range(test_ori.shape[0])]\n",
    "test_label = np.array([test_ori.iloc[i, 1] for i in range(test_ori.shape[0])]) # test_label's shape is (400, )"
   ]
  },
  {
   "cell_type": "markdown",
   "metadata": {},
   "source": [
    "# Vector Representations of Text \n",
    "\n",
    "\n",
    "To train and test Logisitc Regression models, you first need to obtain vector representations for all documents given a vocabulary of features (unigrams, bigrams, trigrams).\n",
    "\n",
    "\n",
    "## Text Pre-Processing Pipeline\n",
    "\n",
    "To obtain a vocabulary of features, you should: \n",
    "- tokenise all texts into a list of unigrams (tip: using a regular expression) \n",
    "- remove stop words (using the one provided or one of your preference) \n",
    "- compute bigrams, trigrams given the remaining unigrams (or character ngrams from the unigrams)\n",
    "- remove ngrams appearing in less than K documents\n",
    "- use the remaining to create a vocabulary of unigrams, bigrams and trigrams (or character n-grams). You can keep top N if you encounter memory issues.\n"
   ]
  },
  {
   "cell_type": "code",
   "execution_count": 5,
   "metadata": {
    "ExecuteTime": {
     "end_time": "2020-02-15T14:17:31.860420Z",
     "start_time": "2020-02-15T14:17:31.855439Z"
    }
   },
   "outputs": [],
   "source": [
    "# I add 'am', 'll', 'also', 'why', 'would', 'should', 'their', 'might', 'there', 'where', 'him' to the \n",
    "# stop_words list, because these words are not useful to sentiment classification task.\n",
    "\n",
    "stop_words = ['a','am','in','ll','on','at','and','or', \"also\", \"why\", \"would\", \"should\", \"their\", \"might\",\n",
    "              'to', 'the', 'of', 'an', 'by', \"there\", \"where\", \"him\",\n",
    "              'as', 'is', 'was', 'were', 'been', 'be',\n",
    "              'are','for', 'this', 'that', 'these', 'those', 'you', 'i',\n",
    "             'it', 'he', 'she', 'we', 'they', 'will', 'have', 'has',\n",
    "              'do', 'did', 'can', 'could', 'who', 'which', 'what', \n",
    "             'his', 'her', 'they', 'them', 'from', 'with', 'its']"
   ]
  },
  {
   "cell_type": "markdown",
   "metadata": {},
   "source": [
    "### N-gram extraction from a document\n",
    "\n",
    "You first need to implement the `extract_ngrams` function. It takes as input:\n",
    "- `x_raw`: a string corresponding to the raw text of a document\n",
    "- `ngram_range`: a tuple of two integers denoting the type of ngrams you want to extract, e.g. (1,2) denotes extracting unigrams and bigrams.\n",
    "- `token_pattern`: a string to be used within a regular expression to extract all tokens. Note that data is already tokenised so you could opt for a simple white space tokenisation.\n",
    "- `stop_words`: a list of stop words\n",
    "- `vocab`: a given vocabulary. It should be used to extract specific features.\n",
    "- `char_ngrams`: boolean. If true the function extracts character n-grams\n",
    "\n",
    "and returns:\n",
    "\n",
    "- `x': a list of all extracted features.\n",
    "\n",
    "See the examples below to see how this function should work."
   ]
  },
  {
   "cell_type": "code",
   "execution_count": 6,
   "metadata": {
    "ExecuteTime": {
     "end_time": "2020-02-15T14:17:33.169090Z",
     "start_time": "2020-02-15T14:17:33.161268Z"
    }
   },
   "outputs": [],
   "source": [
    "def extract_ngrams(x_raw, ngram_range=(1,3), token_pattern=r'', \n",
    "                   stop_words=[], vocab=set(), char_ngrams=False):\n",
    "    \"\"\"\n",
    "        We are going to convert the tokens to lowercase, removes the stopwords and punctuations before \n",
    "        generating bigrams or trigrams.\n",
    "    \"\"\"\n",
    "    # The original texts has been converted to lowercase\n",
    "    \n",
    "    # remove all punctuations, remove all numbers\n",
    "    # find those words containing two or more than two letters, remove simple words such as \"a\", \"I\"...\n",
    "    # drop all numbers\n",
    "    # list_word = re.split(r'[^\\w]+', x_raw) \n",
    "    \n",
    "    list_word = re.findall(r\"(?u)\\b\\w\\w+\\b\", x_raw) \n",
    "        \n",
    "    # Remove the stopwords\n",
    "    for word in stop_words:\n",
    "        occ = list_word.count(word)\n",
    "        for i in range(occ):\n",
    "            list_word.remove(word)\n",
    "    \n",
    "    #     Get the n_grams features for x_raw based on flag char_ngrams, if char_ngrams is False, then pick up words \n",
    "    # features. If char_ngrams is True, then pick up characters features.\n",
    "    \n",
    "    if char_ngrams == False:\n",
    "        list_ngrams = [] # initialize the list of ngrams\n",
    "        \n",
    "        # obtain unigrams, bigrams, or trigrams according to argument - 'ngram_range'.\n",
    "        for i in range(ngram_range[0], ngram_range[1] + 1):\n",
    "            if i == 1: # get the list of unigrams for x_raw\n",
    "                list_unigrams = list_word\n",
    "                list_ngrams += list_unigrams\n",
    "            elif i == 2:\n",
    "                list_bigrams = []\n",
    "                for j in range(len(list_word) - 1):\n",
    "                    list_bigrams.append(list_word[j] + ' ' + list_word[j + 1])\n",
    "                    \n",
    "                list_ngrams += list_bigrams\n",
    "            else:\n",
    "                list_trigrams = []\n",
    "                for j in range(len(list_word) - 2):\n",
    "                    list_trigrams.append(list_word[j] + ' ' + list_word[j + 1] \n",
    "                                         + ' ' + list_word[j + 2])\n",
    "                \n",
    "                list_ngrams += list_trigrams\n",
    "    \n",
    "        list_extracted_feature = list_ngrams\n",
    "    \n",
    "    # Get the char_n_grams features\n",
    "    \n",
    "    else:\n",
    "        list_char_ngrams = [] # initialize the list of character ngrams\n",
    "        whole_string = \"\".join(list_word)\n",
    "        \n",
    "        # obtain char-unigrams, char-bigrams, or char-bigrams according to argument - \n",
    "        # 'ngram_range'\n",
    "        for i in range(ngram_range[0], ngram_range[1] + 1):\n",
    "            list_char_temp = []\n",
    "            for j in range(len(whole_string) - i + 1):\n",
    "                list_char_temp.append(whole_string[j:j+i])\n",
    "            list_char_ngrams += list_char_temp\n",
    "        \n",
    "        list_extracted_feature = list_char_ngrams\n",
    "    \n",
    "    # Get specific features if 'vocab' argument is given\n",
    "    \n",
    "    if len(vocab) != 0:\n",
    "        list_specific_feature = []\n",
    "        for feature in list_extracted_feature:\n",
    "            if feature in vocab:\n",
    "                list_specific_feature.append(feature)\n",
    "        \n",
    "        list_extracted_feature = list_specific_feature\n",
    "        \n",
    "    \n",
    "    return list_extracted_feature\n",
    "\n",
    "\n"
   ]
  },
  {
   "cell_type": "markdown",
   "metadata": {},
   "source": [
    "Note that it is OK to represent n-grams using lists instead of tuples: e.g. `['great', ['great', 'movie']]`"
   ]
  },
  {
   "cell_type": "markdown",
   "metadata": {},
   "source": [
    "For extracting character n-grams the function should work as follows:"
   ]
  },
  {
   "cell_type": "code",
   "execution_count": 7,
   "metadata": {},
   "outputs": [
    {
     "data": {
      "text/plain": [
       "['Son',\n",
       " 'ong',\n",
       " 'ngy',\n",
       " 'gya',\n",
       " 'yan',\n",
       " 'ang',\n",
       " 'ngL',\n",
       " 'gLi',\n",
       " 'Song',\n",
       " 'ongy',\n",
       " 'ngya',\n",
       " 'gyan',\n",
       " 'yang',\n",
       " 'angL',\n",
       " 'ngLi',\n",
       " 'Songy',\n",
       " 'ongya',\n",
       " 'ngyan',\n",
       " 'gyang',\n",
       " 'yangL',\n",
       " 'angLi',\n",
       " 'Songya',\n",
       " 'ongyan',\n",
       " 'ngyang',\n",
       " 'gyangL',\n",
       " 'yangLi']"
      ]
     },
     "execution_count": 7,
     "metadata": {},
     "output_type": "execute_result"
    }
   ],
   "source": [
    "# Test the extract_ngrams function.\n",
    "extract_ngrams('Song yang Li', \n",
    "               ngram_range=(3, 6), \n",
    "               stop_words=stop_words,\n",
    "               char_ngrams=True)"
   ]
  },
  {
   "cell_type": "markdown",
   "metadata": {},
   "source": [
    "### Create a vocabulary \n",
    "\n",
    "The `get_vocab` function will be used to (1) create a vocabulary of ngrams; (2) count the document frequencies of ngrams; (3) their raw frequency. It takes as input:\n",
    "- `X_raw`: a list of strings each corresponding to the raw text of a document\n",
    "- `ngram_range`: a tuple of two integers denoting the type of ngrams you want to extract, e.g. (1,2) denotes extracting unigrams and bigrams.\n",
    "- `token_pattern`: a string to be used within a regular expression to extract all tokens. Note that data is already tokenised so you could opt for a simple white space tokenisation.\n",
    "- `stop_words`: a list of stop words\n",
    "- `min_df`: keep ngrams with a minimum document frequency.\n",
    "- `keep_topN`: keep top-N more frequent ngrams.\n",
    "\n",
    "and returns:\n",
    "\n",
    "- `vocab`: a set of the n-grams that will be used as features.\n",
    "- `df`: a Counter (or dict) that contains ngrams as keys and their corresponding document frequency as values.\n",
    "- `ngram_counts`: counts of each ngram in vocab\n",
    "\n",
    "Hint: it should make use of the `extract_ngrams` function."
   ]
  },
  {
   "cell_type": "code",
   "execution_count": 8,
   "metadata": {
    "ExecuteTime": {
     "end_time": "2020-02-15T14:17:35.821240Z",
     "start_time": "2020-02-15T14:17:35.814722Z"
    }
   },
   "outputs": [],
   "source": [
    "def get_vocab(X_raw, ngram_range=(1,3), token_pattern=r'', \n",
    "              min_df=0, keep_topN=None, \n",
    "              stop_words=[],char_ngrams=False):\n",
    "    \n",
    "    # initialize a set to contain ngrams that will be used as features\n",
    "    vocab = set()\n",
    "    \n",
    "    # initialize the dictionary to contain ngrams as keys and their corresponding document\n",
    "    # frequency as values\n",
    "    df = dict()\n",
    "    \n",
    "    # initialize the dictionary to contain ngrams as keys and their corresponding counts in\n",
    "    # vocab as values\n",
    "    ngram_counts = dict()\n",
    "    \n",
    "    # extract features for each documents in X_raw\n",
    "    for x_raw in X_raw:\n",
    "        extracted_feature = extract_ngrams(x_raw = x_raw, ngram_range = ngram_range, \n",
    "                                          stop_words = stop_words, char_ngrams = char_ngrams)\n",
    "        \n",
    "        # get the dictionary for term frequency\n",
    "        for feature in extracted_feature:\n",
    "            if feature not in ngram_counts:\n",
    "                ngram_counts[feature] = 1\n",
    "            else:\n",
    "                ngram_counts[feature] += 1\n",
    "        \n",
    "        # get the dictionary for document frequency\n",
    "        for feature in set(extracted_feature):\n",
    "            if feature not in df:\n",
    "                df[feature] = 1\n",
    "            else:\n",
    "                df[feature] += 1\n",
    "                \n",
    "                \n",
    "    \n",
    "    \"\"\"\n",
    "            When build the vocabulary, we need to consider two arguments \"keep_topN\" and \"min_df\".\n",
    "            If \"keep_topN\" is None, then we only need to consider the condition of \"min_df\". We will ignore those \n",
    "        words with document frequencies lower than \"min_df\".\n",
    "            However, it \"keep_topN\" is not None but an integer. Then we should also consider the value of \"min_df\".\n",
    "        In this case, we will keep top \"keep_topN\" words based on their frequencies in the whole collection, \n",
    "        and meanwhile, these words' document frequencies should be higher than \"min_df\".\n",
    "    \"\"\"\n",
    "    if keep_topN == None:\n",
    "        if min_df == 0:\n",
    "            for feature in df:\n",
    "                vocab.add(feature)\n",
    "        else:\n",
    "            for feature in df:\n",
    "                if df[feature] >= min_df:\n",
    "                    vocab.add(feature)\n",
    "    else:\n",
    "        # sort the ngrams based on their corresponding counts, from greater to lower.\n",
    "        sorted_ngram_counts = dict(sorted(ngram_counts.items(),\n",
    "                                         key = lambda item: item[1], reverse = True))\n",
    "        sorted_ngram_counts = list(sorted_ngram_counts.keys())\n",
    "        \n",
    "        if min_df == 0:\n",
    "            for i in range(keep_topN):\n",
    "                vocab.add(sorted_ngram_counts[i])\n",
    "        else:\n",
    "            i = 0\n",
    "            while(len(vocab) < keep_topN):\n",
    "                if df[sorted_ngram_counts[i]] >= min_df:\n",
    "                    vocab.add(sorted_ngram_counts[i])\n",
    "                i += 1\n",
    "    \n",
    "    return vocab, df, ngram_counts"
   ]
  },
  {
   "cell_type": "markdown",
   "metadata": {},
   "source": [
    "Now you should use `get_vocab` to create your vocabulary and get document and raw frequencies of n-grams:"
   ]
  },
  {
   "cell_type": "code",
   "execution_count": 9,
   "metadata": {
    "ExecuteTime": {
     "end_time": "2020-02-15T14:17:39.319793Z",
     "start_time": "2020-02-15T14:17:36.836545Z"
    }
   },
   "outputs": [],
   "source": [
    "# create a vocabulary, and get document and raw frequencies of n-grams.\n",
    "# set I need unigrams, bigrams, and trigrams with a document frequencies higher than 20\n",
    "\n",
    "vocab_bow, df_bow, ngram_counts_bow = get_vocab(X_raw = train_text, ngram_range = (1, 3), min_df = 20, \n",
    "                                    stop_words = stop_words, char_ngrams = False)\n"
   ]
  },
  {
   "cell_type": "markdown",
   "metadata": {},
   "source": [
    "Then, you need to create 2 dictionaries: (1) vocabulary id -> word; and  (2) word -> vocabulary id so you can use them for reference:"
   ]
  },
  {
   "cell_type": "code",
   "execution_count": 10,
   "metadata": {
    "ExecuteTime": {
     "end_time": "2020-02-15T14:17:39.326811Z",
     "start_time": "2020-02-15T14:17:39.322256Z"
    }
   },
   "outputs": [],
   "source": [
    "#     create 2 dictionaries: (1) id2word_bow: keys = vocabulary ids, values = words (2) word2id_bow: keys = words, \n",
    "# values = vocabulary ids\n",
    "\n",
    "id2word_bow = dict()\n",
    "word2id_bow = dict()\n",
    "\n",
    "for i in range(len(vocab_bow)):\n",
    "    id2word_bow[i] = list(vocab_bow)[i]\n",
    "    word2id_bow[list(vocab_bow)[i]] = i"
   ]
  },
  {
   "cell_type": "markdown",
   "metadata": {},
   "source": [
    "Now you should be able to extract n-grams for each text in the training, development and test sets:"
   ]
  },
  {
   "cell_type": "code",
   "execution_count": 11,
   "metadata": {
    "ExecuteTime": {
     "end_time": "2020-02-15T14:17:40.213253Z",
     "start_time": "2020-02-15T14:17:39.329147Z"
    }
   },
   "outputs": [],
   "source": [
    "# initialize three list for training texts, development texts, and test texts\n",
    "train_extracted_ngrams = []\n",
    "dev_extracted_ngrams = []\n",
    "test_extracted_ngrams = []\n",
    "\n",
    "# extract ngrams for training set\n",
    "for i in range(len(train_text)):\n",
    "    temp = extract_ngrams(x_raw = train_text[i], ngram_range = (1, 3), \n",
    "                          stop_words = stop_words, char_ngrams = False)\n",
    "    train_extracted_ngrams.append(temp)\n",
    "\n",
    "# extract ngrams for development set\n",
    "for i in range(len(dev_text)):\n",
    "    temp = extract_ngrams(x_raw = dev_text[i], ngram_range = (1, 3),\n",
    "                         stop_words = stop_words, char_ngrams = False)\n",
    "    dev_extracted_ngrams.append(temp)\n",
    "\n",
    "# extract ngrams for test set\n",
    "for i in range(len(test_text)):\n",
    "    temp = extract_ngrams(x_raw = test_text[i], ngram_range = (1, 3),\n",
    "                         stop_words = stop_words, char_ngrams = False)\n",
    "    test_extracted_ngrams.append(temp)\n",
    "    "
   ]
  },
  {
   "cell_type": "markdown",
   "metadata": {},
   "source": [
    "## Vectorise documents "
   ]
  },
  {
   "cell_type": "markdown",
   "metadata": {},
   "source": [
    "Next, write a function `vectoriser` to obtain Bag-of-ngram representations for a list of documents. The function should take as input:\n",
    "- `X_ngram`: a list of texts (documents), where each text is represented as list of n-grams in the `vocab`\n",
    "- `vocab`: a set of n-grams to be used for representing the documents\n",
    "\n",
    "and return:\n",
    "- `X_vec`: an array with dimensionality Nx|vocab| where N is the number of documents and |vocab| is the size of the vocabulary. Each element of the array should represent the frequency of a given n-gram in a document.\n"
   ]
  },
  {
   "cell_type": "code",
   "execution_count": 12,
   "metadata": {
    "ExecuteTime": {
     "end_time": "2020-02-15T14:17:40.219201Z",
     "start_time": "2020-02-15T14:17:40.215129Z"
    }
   },
   "outputs": [],
   "source": [
    "# This function could vectorise word/char features of training documents to a feature value matrix.\n",
    "def vectorise(X_ngram, vocab, word2id):\n",
    "    # initialize a N x |vocab| array for X_vec\n",
    "    X_vec = np.zeros((len(X_ngram), len(vocab)))\n",
    "    \n",
    "    row = 0\n",
    "    for doc in X_ngram:\n",
    "        for ngram in doc:\n",
    "            if ngram in vocab:\n",
    "                X_vec[row, word2id[ngram]] += 1\n",
    "        \n",
    "        row += 1\n",
    "    \n",
    "    return X_vec"
   ]
  },
  {
   "cell_type": "markdown",
   "metadata": {},
   "source": [
    "Finally, use `vectorise` to obtain document vectors for each document in the train, development and test set. You should extract both count and tf.idf vectors respectively:"
   ]
  },
  {
   "cell_type": "markdown",
   "metadata": {},
   "source": [
    "#### Count vectors"
   ]
  },
  {
   "cell_type": "code",
   "execution_count": 13,
   "metadata": {
    "ExecuteTime": {
     "end_time": "2020-02-15T14:17:41.999574Z",
     "start_time": "2020-02-15T14:17:40.376534Z"
    }
   },
   "outputs": [],
   "source": [
    "# obtain count vectors for each document in the train, developemnt and test set\n",
    "train_count_mat = vectorise(train_extracted_ngrams, vocab_bow, word2id_bow)\n",
    "dev_count_mat = vectorise(dev_extracted_ngrams, vocab_bow, word2id_bow)\n",
    "test_count_mat = vectorise(test_extracted_ngrams, vocab_bow, word2id_bow)"
   ]
  },
  {
   "cell_type": "markdown",
   "metadata": {},
   "source": [
    "#### TF.IDF vectors\n",
    "\n",
    "First compute `idfs` an array containing inverted document frequencies (Note: its elements should correspond to your `vocab`)"
   ]
  },
  {
   "cell_type": "code",
   "execution_count": 14,
   "metadata": {
    "ExecuteTime": {
     "end_time": "2020-02-15T14:17:42.022692Z",
     "start_time": "2020-02-15T14:17:42.012315Z"
    }
   },
   "outputs": [],
   "source": [
    "# compute the inverted document frequencies values for words in vocab\n",
    "idfs_bow = np.zeros((1, len(vocab_bow)))\n",
    "\n",
    "for i in range(len(vocab_bow)):\n",
    "    idfs_bow[0, i] = np.log10(len(train_text)/df_bow[list(vocab_bow)[i]])"
   ]
  },
  {
   "cell_type": "markdown",
   "metadata": {},
   "source": [
    "Then transform your count vectors to tf.idf vectors:"
   ]
  },
  {
   "cell_type": "code",
   "execution_count": 15,
   "metadata": {
    "ExecuteTime": {
     "end_time": "2020-02-15T14:17:42.802265Z",
     "start_time": "2020-02-15T14:17:42.752448Z"
    }
   },
   "outputs": [],
   "source": [
    "# transform the count vectors to tf.idf vectors\n",
    "\n",
    "train_tfidf_mat = train_count_mat * idfs_bow\n",
    "dev_tfidf_mat = dev_count_mat * idfs_bow\n",
    "test_tfidf_mat = test_count_mat * idfs_bow"
   ]
  },
  {
   "cell_type": "markdown",
   "metadata": {},
   "source": [
    "# Binary Logistic Regression\n",
    "\n",
    "After obtaining vector representations of the data, now you are ready to implement Binary Logistic Regression for classifying sentiment."
   ]
  },
  {
   "cell_type": "markdown",
   "metadata": {},
   "source": [
    "First, you need to implement the `sigmoid` function. It takes as input:\n",
    "\n",
    "- `z`: a real number or an array of real numbers \n",
    "\n",
    "and returns:\n",
    "\n",
    "- `sig`: the sigmoid of `z`"
   ]
  },
  {
   "cell_type": "code",
   "execution_count": 16,
   "metadata": {
    "ExecuteTime": {
     "end_time": "2020-02-15T14:17:44.160661Z",
     "start_time": "2020-02-15T14:17:44.157902Z"
    }
   },
   "outputs": [],
   "source": [
    "def sigmoid(z):\n",
    "    # sigmoid of z\n",
    "    \n",
    "    sig = 1/(1 + np.exp(-z))\n",
    "    \n",
    "    return sig"
   ]
  },
  {
   "cell_type": "markdown",
   "metadata": {},
   "source": [
    "Then, implement the `predict_proba` function to obtain prediction probabilities. It takes as input:\n",
    "\n",
    "- `X`: an array of inputs, i.e. documents represented by bag-of-ngram vectors ($N \\times |vocab|$)\n",
    "- `weights`: a 1-D array of the model's weights $(1, |vocab|)$\n",
    "\n",
    "and returns:\n",
    "\n",
    "- `preds_proba`: the prediction probabilities of X given the weights"
   ]
  },
  {
   "cell_type": "code",
   "execution_count": 17,
   "metadata": {
    "ExecuteTime": {
     "end_time": "2020-02-15T14:17:44.718566Z",
     "start_time": "2020-02-15T14:17:44.715017Z"
    }
   },
   "outputs": [],
   "source": [
    "# function predict_proba will return a array with size N*1, where N is the documents number of input data.\n",
    "\n",
    "def predict_proba(X, weights):\n",
    "    \n",
    "    # weights should be reshaped to |vocab|*1 size\n",
    "    \n",
    "    weights = weights.reshape(-1, 1)\n",
    "    \n",
    "    \n",
    "    weighted_input = X @ weights\n",
    "    \n",
    "    preds_proba = sigmoid(weighted_input)\n",
    "    \n",
    "    \n",
    "    \n",
    "    return preds_proba"
   ]
  },
  {
   "cell_type": "markdown",
   "metadata": {},
   "source": [
    "Then, implement the `predict_class` function to obtain the most probable class for each vector in an array of input vectors. It takes as input:\n",
    "\n",
    "- `X`: an array of documents represented by bag-of-ngram vectors ($N \\times |vocab|$)\n",
    "- `weights`: a 1-D array of the model's weights $(1, |vocab|)$\n",
    "\n",
    "and returns:\n",
    "\n",
    "- `preds_class`: the predicted class for each x in X given the weights"
   ]
  },
  {
   "cell_type": "code",
   "execution_count": 18,
   "metadata": {
    "ExecuteTime": {
     "end_time": "2020-02-15T14:17:45.002125Z",
     "start_time": "2020-02-15T14:17:44.998668Z"
    }
   },
   "outputs": [],
   "source": [
    "def predict_class(X, weights):\n",
    "    \n",
    "    preds_proba = predict_proba(X, weights) # a N*1 shape array\n",
    "    \n",
    "    for row in range(preds_proba.shape[0]):\n",
    "        if (preds_proba[row, 0] >= 0.5):\n",
    "            preds_proba[row, 0] = 1\n",
    "        else:\n",
    "            preds_proba[row, 0] = 0\n",
    "    \n",
    "    preds_class = preds_proba\n",
    "    \n",
    "    \n",
    "    return preds_class"
   ]
  },
  {
   "cell_type": "markdown",
   "metadata": {},
   "source": [
    "To learn the weights from data, we need to minimise the binary cross-entropy loss. Implement `binary_loss` that takes as input:\n",
    "\n",
    "- `X`: input vectors\n",
    "- `Y`: labels\n",
    "- `weights`: model weights\n",
    "- `alpha`: regularisation strength\n",
    "\n",
    "and return:\n",
    "\n",
    "- `l`: the loss score"
   ]
  },
  {
   "cell_type": "code",
   "execution_count": 19,
   "metadata": {
    "ExecuteTime": {
     "end_time": "2020-02-15T14:17:45.455533Z",
     "start_time": "2020-02-15T14:17:45.451475Z"
    }
   },
   "outputs": [],
   "source": [
    "def binary_loss(X, Y, weights, alpha=0.00001):\n",
    "    '''\n",
    "    Binary Cross-entropy Loss\n",
    "\n",
    "    X:(len(X),len(vocab))\n",
    "    Y: array len(Y)\n",
    "    weights: array len(X)\n",
    "    '''\n",
    "    \n",
    "    # initialize the loss\n",
    "    l = 0\n",
    "    \n",
    "    # compute the binary entropy loss for all documents in X\n",
    "    \n",
    "    pred_proba = predict_proba(X, weights)\n",
    "    \n",
    "    # l = -Y*(log(P)) - (1 - Y)*log(1 - P) + regularization term\n",
    "    \n",
    "    l = -Y.reshape(1, -1) @ np.log(1e-15 + pred_proba) - \\\n",
    "        (1 - Y.reshape(1, -1)) @ np.log(1e-15 + 1 - pred_proba) + \\\n",
    "        1/2*alpha*(weights.reshape(1, -1) @ weights.reshape(-1, 1))\n",
    "    \n",
    "    l = l/X.shape[0]\n",
    "\n",
    "    return l\n",
    "    \n",
    "\n"
   ]
  },
  {
   "cell_type": "markdown",
   "metadata": {},
   "source": [
    "Now, you can implement Stochastic Gradient Descent to learn the weights of your sentiment classifier. The `SGD` function takes as input:\n",
    "\n",
    "- `X_tr`: array of training data (vectors)\n",
    "- `Y_tr`: labels of `X_tr`\n",
    "- `X_dev`: array of development (i.e. validation) data (vectors)\n",
    "- `Y_dev`: labels of `X_dev`\n",
    "- `lr`: learning rate\n",
    "- `alpha`: regularisation strength\n",
    "- `epochs`: number of full passes over the training data\n",
    "- `tolerance`: stop training if the difference between the current and previous validation loss is smaller than a threshold\n",
    "- `print_progress`: flag for printing the training progress (train/validation loss)\n",
    "\n",
    "\n",
    "and returns:\n",
    "\n",
    "- `weights`: the weights learned\n",
    "- `training_loss_history`: an array with the average losses of the whole training set after each epoch\n",
    "- `validation_loss_history`: an array with the average losses of the whole development set after each epoch"
   ]
  },
  {
   "cell_type": "code",
   "execution_count": 20,
   "metadata": {
    "ExecuteTime": {
     "end_time": "2020-02-15T14:17:45.968510Z",
     "start_time": "2020-02-15T14:17:45.958185Z"
    }
   },
   "outputs": [],
   "source": [
    "def SGD(X_tr, Y_tr, X_dev=[], Y_dev=[], lr=0.1, \n",
    "        alpha=0.00001, epochs=5, \n",
    "        tolerance=0.0001, print_progress=True):\n",
    "    \n",
    "        \n",
    "    # initialize the weights\n",
    "    weights = np.zeros((X_tr.shape[1], 1)) # size: |vocab|*1\n",
    "    \n",
    "    # merge the features and labels of training set and dev set into lists by zip(), it will be useful to \n",
    "    # randomize their orders before each epoch\n",
    "    \n",
    "    tr = list(zip(X_tr, Y_tr))\n",
    "    \n",
    "    # initialize training_loss_history and validation_loss_history\n",
    "    training_loss_history = []\n",
    "    training_loss_history.append(binary_loss(X_tr, Y_tr, weights, alpha = alpha)[0, 0])\n",
    "    validation_loss_history = []\n",
    "    validation_loss_history.append(binary_loss(X_dev, Y_dev, weights, alpha = alpha)[0, 0])\n",
    "    \n",
    "    \n",
    "    for epoch in range(epochs):\n",
    "        # randomise the training set at the beginning of each epoch\n",
    "        random.shuffle(tr)\n",
    "        \n",
    "        for x, y in tr:\n",
    "            # update the weights by following equation\n",
    "            \"\"\"\n",
    "            new_weights = old_weights - (learning rate) * (((p - y) * x) + (regularization term))  \n",
    "            \"\"\"\n",
    "            \n",
    "            weights = weights - lr*(((predict_proba(x, weights) - y)*x).reshape(-1, 1) + alpha*weights)\n",
    "            \n",
    "        \n",
    "        # update the training and validation loss by using updated weights\n",
    "        training_loss_history.append(binary_loss(X_tr, Y_tr, weights, alpha = alpha)[0, 0])\n",
    "        validation_loss_history.append(binary_loss(X_dev, Y_dev, weights, alpha = alpha)[0, 0])\n",
    "        \n",
    "        # print the training and validation loss if print_progress flag is True\n",
    "        if print_progress == True:\n",
    "            print(\"epoch {:3d}: training loss is {:.6f}, validation loss is {:.6f}.\"\\\n",
    "                  .format(epoch, \n",
    "                          training_loss_history[epoch + 1], \n",
    "                          validation_loss_history[epoch + 1]))\n",
    "        \n",
    "        # I use the absolute value of difference between previous validation loss and current validation loss.\n",
    "        # Because there might be slight rise and fall in validation loss in training period, but the overall tendency\n",
    "        # of validation loss is still falling.\n",
    "        \n",
    "        if abs(validation_loss_history[epoch] - validation_loss_history[epoch + 1]) <= tolerance:\n",
    "            break\n",
    "        \n",
    "            \n",
    "    \n",
    "    \n",
    "    \n",
    "\n",
    "    return weights, training_loss_history, validation_loss_history"
   ]
  },
  {
   "cell_type": "markdown",
   "metadata": {},
   "source": [
    "# Model 1: BOW-COUNT"
   ]
  },
  {
   "cell_type": "markdown",
   "metadata": {},
   "source": [
    "## Train and Evaluate Logistic Regression with Count vectors\n",
    "\n",
    "First train the model using SGD:\n",
    "\n",
    "Define a function to choose the best hyperparameters."
   ]
  },
  {
   "cell_type": "code",
   "execution_count": 21,
   "metadata": {},
   "outputs": [],
   "source": [
    "# By comparing the validation loss under different hyperparameter combinations, we could choose the best \n",
    "# hyperparameters with the lowest validation loss.\n",
    "\n",
    "# I choose to define a function to choose the hyperparameters\n",
    "\n",
    "def choose_hyper(X_tr, Y_tr, X_dev, Y_dev, lr_candidate = [], alpha_candidate = [], epoch_candidate = [], \n",
    "                 tolerance_candidate = []):\n",
    "    \n",
    "    \"\"\"\n",
    "    The arguments lr_candidate, alpha_candidate, epoch_candidate, and tolerance_candidate are the candidates for \n",
    "    the best hyperparameters.\n",
    "    \"\"\"\n",
    "    \n",
    "    \n",
    "    # initialize a validation loss\n",
    "    current_val_loss = 100000\n",
    "    \n",
    "    # compute different validation loss and validation accuracy under different hyperparameter combinations\n",
    "    \n",
    "    for lr in lr_candidate:\n",
    "        for alpha in alpha_candidate:\n",
    "            for epoch in epoch_candidate:\n",
    "                for tolerance in tolerance_candidate:\n",
    "                    weights, tr_loss, val_loss = SGD(X_tr, Y_tr, X_dev, Y_dev, lr = lr, alpha = alpha, \n",
    "                                                     epochs = epoch, tolerance = tolerance, print_progress = False)\n",
    "                    \n",
    "                    print(\"lr = {:.6f}, alpha = {:.6f}, epoch = {:3d}, tolerance = {:.6f}, val_loss = {:.6f}, val_acc = {:.6f}\"\\\n",
    "                         .format(lr, alpha, epoch, tolerance, val_loss[-1], \n",
    "                                 accuracy_score(Y_dev, predict_class(X_dev, weights))))\n",
    "                    \n",
    "                    print(\"\")\n",
    "                    \n",
    "                    if val_loss[-1] < current_val_loss:\n",
    "                        current_val_loss = val_loss[-1]\n",
    "                        best_lr = lr\n",
    "                        best_alpha = alpha\n",
    "                        best_epoch = epoch\n",
    "                        best_tolerance = tolerance\n",
    "    \n",
    "    \n",
    "    # return the best hyperparameters which could reach the best validation loss\n",
    "    best_parameter = [best_lr, best_alpha, best_epoch, best_tolerance]\n",
    "    \n",
    "    print(\"The best parameters are: lr = {}, alpha = {}, epoch = {}, tolerance = {}\".format(best_parameter[0], \n",
    "                                                                                           best_parameter[1],\n",
    "                                                                                           best_parameter[2],\n",
    "                                                                                           best_parameter[3]))\n",
    "    \n",
    "\n",
    "    \n",
    "    return best_parameter\n",
    "                    \n"
   ]
  },
  {
   "cell_type": "markdown",
   "metadata": {},
   "source": [
    "## Hyperparameters tuning for BOW-COUNT model. \n",
    "\n",
    "This part is not counted in time for grading.\n",
    "\n",
    "Choose the best hyperparameters with the lowest validation loss."
   ]
  },
  {
   "cell_type": "code",
   "execution_count": 22,
   "metadata": {
    "scrolled": true
   },
   "outputs": [
    {
     "name": "stdout",
     "output_type": "stream",
     "text": [
      "lr = 0.000001, alpha = 0.500000, epoch = 100, tolerance = 0.000100, val_loss = 0.650078, val_acc = 0.730000\n",
      "\n",
      "lr = 0.000001, alpha = 0.500000, epoch = 100, tolerance = 0.000010, val_loss = 0.650074, val_acc = 0.730000\n",
      "\n",
      "lr = 0.000001, alpha = 0.500000, epoch = 300, tolerance = 0.000100, val_loss = 0.603438, val_acc = 0.740000\n",
      "\n",
      "lr = 0.000001, alpha = 0.500000, epoch = 300, tolerance = 0.000010, val_loss = 0.603436, val_acc = 0.740000\n",
      "\n",
      "lr = 0.000001, alpha = 0.100000, epoch = 100, tolerance = 0.000100, val_loss = 0.649038, val_acc = 0.730000\n",
      "\n",
      "lr = 0.000001, alpha = 0.100000, epoch = 100, tolerance = 0.000010, val_loss = 0.649039, val_acc = 0.730000\n",
      "\n",
      "lr = 0.000001, alpha = 0.100000, epoch = 300, tolerance = 0.000100, val_loss = 0.597890, val_acc = 0.745000\n",
      "\n",
      "lr = 0.000001, alpha = 0.100000, epoch = 300, tolerance = 0.000010, val_loss = 0.597890, val_acc = 0.745000\n",
      "\n",
      "lr = 0.000010, alpha = 0.500000, epoch = 100, tolerance = 0.000100, val_loss = 0.543962, val_acc = 0.785000\n",
      "\n",
      "lr = 0.000010, alpha = 0.500000, epoch = 100, tolerance = 0.000010, val_loss = 0.544000, val_acc = 0.785000\n",
      "\n",
      "lr = 0.000010, alpha = 0.500000, epoch = 300, tolerance = 0.000100, val_loss = 0.526353, val_acc = 0.810000\n",
      "\n",
      "lr = 0.000010, alpha = 0.500000, epoch = 300, tolerance = 0.000010, val_loss = 0.523589, val_acc = 0.810000\n",
      "\n",
      "lr = 0.000010, alpha = 0.100000, epoch = 100, tolerance = 0.000100, val_loss = 0.520493, val_acc = 0.800000\n",
      "\n",
      "lr = 0.000010, alpha = 0.100000, epoch = 100, tolerance = 0.000010, val_loss = 0.520492, val_acc = 0.800000\n",
      "\n",
      "lr = 0.000010, alpha = 0.100000, epoch = 300, tolerance = 0.000100, val_loss = 0.456529, val_acc = 0.825000\n",
      "\n",
      "lr = 0.000010, alpha = 0.100000, epoch = 300, tolerance = 0.000010, val_loss = 0.456530, val_acc = 0.825000\n",
      "\n",
      "The best parameters are: lr = 1e-05, alpha = 0.1, epoch = 300, tolerance = 0.0001\n"
     ]
    }
   ],
   "source": [
    "# hyperparameter tuning\n",
    "# choose best hyperparameters by using defined function \"choose_hyper()\" for BOW-count features\n",
    "best_parameter_bow_c = choose_hyper(train_count_mat, train_label, dev_count_mat, dev_label, \n",
    "                              lr_candidate = [1e-6, 1e-5], alpha_candidate = [5*1e-1, 1e-1], \n",
    "                              epoch_candidate = [100, 300], tolerance_candidate = [1e-4, 1e-5])"
   ]
  },
  {
   "cell_type": "markdown",
   "metadata": {},
   "source": [
    "Hyperparameters tuning for BOW-COUNT model end."
   ]
  },
  {
   "cell_type": "markdown",
   "metadata": {},
   "source": [
    "## Train the model for BOW-COUNT by using the best hyperparameters."
   ]
  },
  {
   "cell_type": "code",
   "execution_count": 23,
   "metadata": {
    "scrolled": true
   },
   "outputs": [
    {
     "name": "stdout",
     "output_type": "stream",
     "text": [
      "epoch   0: training loss is 0.685818, validation loss is 0.687152.\n",
      "epoch   1: training loss is 0.679100, validation loss is 0.682006.\n",
      "epoch   2: training loss is 0.672717, validation loss is 0.677050.\n",
      "epoch   3: training loss is 0.666615, validation loss is 0.672550.\n",
      "epoch   4: training loss is 0.660792, validation loss is 0.668108.\n",
      "epoch   5: training loss is 0.655204, validation loss is 0.663948.\n",
      "epoch   6: training loss is 0.649844, validation loss is 0.659996.\n",
      "epoch   7: training loss is 0.644704, validation loss is 0.656128.\n",
      "epoch   8: training loss is 0.639744, validation loss is 0.652579.\n",
      "epoch   9: training loss is 0.634983, validation loss is 0.649160.\n",
      "epoch  10: training loss is 0.630359, validation loss is 0.645664.\n",
      "epoch  11: training loss is 0.625901, validation loss is 0.642309.\n",
      "epoch  12: training loss is 0.621592, validation loss is 0.639138.\n",
      "epoch  13: training loss is 0.617424, validation loss is 0.636024.\n",
      "epoch  14: training loss is 0.613396, validation loss is 0.633016.\n",
      "epoch  15: training loss is 0.609455, validation loss is 0.630225.\n",
      "epoch  16: training loss is 0.605641, validation loss is 0.627583.\n",
      "epoch  17: training loss is 0.601941, validation loss is 0.624960.\n",
      "epoch  18: training loss is 0.598337, validation loss is 0.622372.\n",
      "epoch  19: training loss is 0.594821, validation loss is 0.619823.\n",
      "epoch  20: training loss is 0.591398, validation loss is 0.617314.\n",
      "epoch  21: training loss is 0.588064, validation loss is 0.614834.\n",
      "epoch  22: training loss is 0.584811, validation loss is 0.612545.\n",
      "epoch  23: training loss is 0.581639, validation loss is 0.610226.\n",
      "epoch  24: training loss is 0.578537, validation loss is 0.608116.\n",
      "epoch  25: training loss is 0.575508, validation loss is 0.605948.\n",
      "epoch  26: training loss is 0.572546, validation loss is 0.603807.\n",
      "epoch  27: training loss is 0.569654, validation loss is 0.601859.\n",
      "epoch  28: training loss is 0.566828, validation loss is 0.599915.\n",
      "epoch  29: training loss is 0.564046, validation loss is 0.597834.\n",
      "epoch  30: training loss is 0.561330, validation loss is 0.595954.\n",
      "epoch  31: training loss is 0.558678, validation loss is 0.594188.\n",
      "epoch  32: training loss is 0.556065, validation loss is 0.592256.\n",
      "epoch  33: training loss is 0.553513, validation loss is 0.590512.\n",
      "epoch  34: training loss is 0.551008, validation loss is 0.588711.\n",
      "epoch  35: training loss is 0.548574, validation loss is 0.586851.\n",
      "epoch  36: training loss is 0.546151, validation loss is 0.585233.\n",
      "epoch  37: training loss is 0.543785, validation loss is 0.583617.\n",
      "epoch  38: training loss is 0.541457, validation loss is 0.582145.\n",
      "epoch  39: training loss is 0.539183, validation loss is 0.580439.\n",
      "epoch  40: training loss is 0.536958, validation loss is 0.578827.\n",
      "epoch  41: training loss is 0.534745, validation loss is 0.577376.\n",
      "epoch  42: training loss is 0.532574, validation loss is 0.575976.\n",
      "epoch  43: training loss is 0.530450, validation loss is 0.574600.\n",
      "epoch  44: training loss is 0.528359, validation loss is 0.573123.\n",
      "epoch  45: training loss is 0.526304, validation loss is 0.571745.\n",
      "epoch  46: training loss is 0.524285, validation loss is 0.570404.\n",
      "epoch  47: training loss is 0.522293, validation loss is 0.569019.\n",
      "epoch  48: training loss is 0.520341, validation loss is 0.567554.\n",
      "epoch  49: training loss is 0.518408, validation loss is 0.566329.\n",
      "epoch  50: training loss is 0.516511, validation loss is 0.565042.\n",
      "epoch  51: training loss is 0.514644, validation loss is 0.563807.\n",
      "epoch  52: training loss is 0.512805, validation loss is 0.562543.\n",
      "epoch  53: training loss is 0.510993, validation loss is 0.561354.\n",
      "epoch  54: training loss is 0.509214, validation loss is 0.560235.\n",
      "epoch  55: training loss is 0.507453, validation loss is 0.559018.\n",
      "epoch  56: training loss is 0.505725, validation loss is 0.557905.\n",
      "epoch  57: training loss is 0.504022, validation loss is 0.556793.\n",
      "epoch  58: training loss is 0.502327, validation loss is 0.555525.\n",
      "epoch  59: training loss is 0.500668, validation loss is 0.554427.\n",
      "epoch  60: training loss is 0.499031, validation loss is 0.553315.\n",
      "epoch  61: training loss is 0.497417, validation loss is 0.552259.\n",
      "epoch  62: training loss is 0.495825, validation loss is 0.551181.\n",
      "epoch  63: training loss is 0.494256, validation loss is 0.550092.\n",
      "epoch  64: training loss is 0.492711, validation loss is 0.549019.\n",
      "epoch  65: training loss is 0.491176, validation loss is 0.548108.\n",
      "epoch  66: training loss is 0.489667, validation loss is 0.547099.\n",
      "epoch  67: training loss is 0.488181, validation loss is 0.546042.\n",
      "epoch  68: training loss is 0.486706, validation loss is 0.545134.\n",
      "epoch  69: training loss is 0.485258, validation loss is 0.544271.\n",
      "epoch  70: training loss is 0.483824, validation loss is 0.543323.\n",
      "epoch  71: training loss is 0.482411, validation loss is 0.542417.\n",
      "epoch  72: training loss is 0.481007, validation loss is 0.541397.\n",
      "epoch  73: training loss is 0.479626, validation loss is 0.540467.\n",
      "epoch  74: training loss is 0.478261, validation loss is 0.539580.\n",
      "epoch  75: training loss is 0.476914, validation loss is 0.538662.\n",
      "epoch  76: training loss is 0.475583, validation loss is 0.537774.\n",
      "epoch  77: training loss is 0.474269, validation loss is 0.536899.\n",
      "epoch  78: training loss is 0.472969, validation loss is 0.536040.\n",
      "epoch  79: training loss is 0.471677, validation loss is 0.535290.\n",
      "epoch  80: training loss is 0.470407, validation loss is 0.534445.\n",
      "epoch  81: training loss is 0.469150, validation loss is 0.533639.\n",
      "epoch  82: training loss is 0.467913, validation loss is 0.532756.\n",
      "epoch  83: training loss is 0.466681, validation loss is 0.531986.\n",
      "epoch  84: training loss is 0.465467, validation loss is 0.531184.\n",
      "epoch  85: training loss is 0.464263, validation loss is 0.530435.\n",
      "epoch  86: training loss is 0.463074, validation loss is 0.529672.\n",
      "epoch  87: training loss is 0.461898, validation loss is 0.528916.\n",
      "epoch  88: training loss is 0.460734, validation loss is 0.528201.\n",
      "epoch  89: training loss is 0.459588, validation loss is 0.527388.\n",
      "epoch  90: training loss is 0.458449, validation loss is 0.526659.\n",
      "epoch  91: training loss is 0.457326, validation loss is 0.525908.\n",
      "epoch  92: training loss is 0.456206, validation loss is 0.525238.\n",
      "epoch  93: training loss is 0.455101, validation loss is 0.524596.\n",
      "epoch  94: training loss is 0.454009, validation loss is 0.523876.\n",
      "epoch  95: training loss is 0.452929, validation loss is 0.523160.\n",
      "epoch  96: training loss is 0.451858, validation loss is 0.522500.\n",
      "epoch  97: training loss is 0.450799, validation loss is 0.521838.\n",
      "epoch  98: training loss is 0.449753, validation loss is 0.521108.\n",
      "epoch  99: training loss is 0.448715, validation loss is 0.520440.\n",
      "epoch 100: training loss is 0.447686, validation loss is 0.519807.\n",
      "epoch 101: training loss is 0.446667, validation loss is 0.519169.\n",
      "epoch 102: training loss is 0.445659, validation loss is 0.518565.\n",
      "epoch 103: training loss is 0.444664, validation loss is 0.517980.\n",
      "epoch 104: training loss is 0.443679, validation loss is 0.517390.\n",
      "epoch 105: training loss is 0.442696, validation loss is 0.516737.\n",
      "epoch 106: training loss is 0.441722, validation loss is 0.516060.\n",
      "epoch 107: training loss is 0.440761, validation loss is 0.515433.\n",
      "epoch 108: training loss is 0.439809, validation loss is 0.514858.\n",
      "epoch 109: training loss is 0.438866, validation loss is 0.514212.\n",
      "epoch 110: training loss is 0.437932, validation loss is 0.513622.\n",
      "epoch 111: training loss is 0.437005, validation loss is 0.513085.\n",
      "epoch 112: training loss is 0.436087, validation loss is 0.512483.\n",
      "epoch 113: training loss is 0.435178, validation loss is 0.511897.\n",
      "epoch 114: training loss is 0.434276, validation loss is 0.511346.\n",
      "epoch 115: training loss is 0.433383, validation loss is 0.510832.\n",
      "epoch 116: training loss is 0.432509, validation loss is 0.510372.\n",
      "epoch 117: training loss is 0.431619, validation loss is 0.509705.\n",
      "epoch 118: training loss is 0.430749, validation loss is 0.509140.\n",
      "epoch 119: training loss is 0.429887, validation loss is 0.508589.\n",
      "epoch 120: training loss is 0.429031, validation loss is 0.508075.\n",
      "epoch 121: training loss is 0.428183, validation loss is 0.507551.\n",
      "epoch 122: training loss is 0.427342, validation loss is 0.507011.\n"
     ]
    },
    {
     "name": "stdout",
     "output_type": "stream",
     "text": [
      "epoch 123: training loss is 0.426511, validation loss is 0.506548.\n",
      "epoch 124: training loss is 0.425683, validation loss is 0.506008.\n",
      "epoch 125: training loss is 0.424865, validation loss is 0.505521.\n",
      "epoch 126: training loss is 0.424051, validation loss is 0.505000.\n",
      "epoch 127: training loss is 0.423249, validation loss is 0.504543.\n",
      "epoch 128: training loss is 0.422446, validation loss is 0.504006.\n",
      "epoch 129: training loss is 0.421656, validation loss is 0.503544.\n",
      "epoch 130: training loss is 0.420867, validation loss is 0.503015.\n",
      "epoch 131: training loss is 0.420087, validation loss is 0.502545.\n",
      "epoch 132: training loss is 0.419313, validation loss is 0.502024.\n",
      "epoch 133: training loss is 0.418550, validation loss is 0.501496.\n",
      "epoch 134: training loss is 0.417785, validation loss is 0.501060.\n",
      "epoch 135: training loss is 0.417033, validation loss is 0.500564.\n",
      "epoch 136: training loss is 0.416280, validation loss is 0.500162.\n",
      "epoch 137: training loss is 0.415537, validation loss is 0.499681.\n",
      "epoch 138: training loss is 0.414798, validation loss is 0.499250.\n",
      "epoch 139: training loss is 0.414067, validation loss is 0.498775.\n",
      "epoch 140: training loss is 0.413340, validation loss is 0.498376.\n",
      "epoch 141: training loss is 0.412622, validation loss is 0.497983.\n",
      "epoch 142: training loss is 0.411906, validation loss is 0.497535.\n",
      "epoch 143: training loss is 0.411208, validation loss is 0.497195.\n",
      "epoch 144: training loss is 0.410490, validation loss is 0.496649.\n",
      "epoch 145: training loss is 0.409790, validation loss is 0.496204.\n",
      "epoch 146: training loss is 0.409097, validation loss is 0.495787.\n",
      "epoch 147: training loss is 0.408408, validation loss is 0.495370.\n",
      "epoch 148: training loss is 0.407724, validation loss is 0.494935.\n",
      "epoch 149: training loss is 0.407046, validation loss is 0.494501.\n",
      "epoch 150: training loss is 0.406372, validation loss is 0.494086.\n",
      "epoch 151: training loss is 0.405704, validation loss is 0.493670.\n",
      "epoch 152: training loss is 0.405040, validation loss is 0.493262.\n",
      "epoch 153: training loss is 0.404380, validation loss is 0.492889.\n",
      "epoch 154: training loss is 0.403726, validation loss is 0.492539.\n",
      "epoch 155: training loss is 0.403076, validation loss is 0.492140.\n",
      "epoch 156: training loss is 0.402431, validation loss is 0.491730.\n",
      "epoch 157: training loss is 0.401790, validation loss is 0.491338.\n",
      "epoch 158: training loss is 0.401154, validation loss is 0.490967.\n",
      "epoch 159: training loss is 0.400523, validation loss is 0.490557.\n",
      "epoch 160: training loss is 0.399896, validation loss is 0.490194.\n",
      "epoch 161: training loss is 0.399276, validation loss is 0.489770.\n",
      "epoch 162: training loss is 0.398656, validation loss is 0.489417.\n",
      "epoch 163: training loss is 0.398043, validation loss is 0.489046.\n",
      "epoch 164: training loss is 0.397432, validation loss is 0.488712.\n",
      "epoch 165: training loss is 0.396826, validation loss is 0.488343.\n",
      "epoch 166: training loss is 0.396225, validation loss is 0.487983.\n",
      "epoch 167: training loss is 0.395631, validation loss is 0.487702.\n",
      "epoch 168: training loss is 0.395037, validation loss is 0.487342.\n",
      "epoch 169: training loss is 0.394445, validation loss is 0.486938.\n",
      "epoch 170: training loss is 0.393860, validation loss is 0.486575.\n",
      "epoch 171: training loss is 0.393279, validation loss is 0.486248.\n",
      "epoch 172: training loss is 0.392701, validation loss is 0.485896.\n",
      "epoch 173: training loss is 0.392128, validation loss is 0.485569.\n",
      "epoch 174: training loss is 0.391558, validation loss is 0.485226.\n",
      "epoch 175: training loss is 0.390992, validation loss is 0.484866.\n",
      "epoch 176: training loss is 0.390430, validation loss is 0.484555.\n",
      "epoch 177: training loss is 0.389871, validation loss is 0.484232.\n",
      "epoch 178: training loss is 0.389316, validation loss is 0.483890.\n",
      "epoch 179: training loss is 0.388766, validation loss is 0.483602.\n",
      "epoch 180: training loss is 0.388216, validation loss is 0.483223.\n",
      "epoch 181: training loss is 0.387672, validation loss is 0.482898.\n",
      "epoch 182: training loss is 0.387132, validation loss is 0.482613.\n",
      "epoch 183: training loss is 0.386594, validation loss is 0.482295.\n",
      "epoch 184: training loss is 0.386060, validation loss is 0.481971.\n",
      "epoch 185: training loss is 0.385529, validation loss is 0.481657.\n",
      "epoch 186: training loss is 0.385002, validation loss is 0.481316.\n",
      "epoch 187: training loss is 0.384478, validation loss is 0.481039.\n",
      "epoch 188: training loss is 0.383957, validation loss is 0.480720.\n",
      "epoch 189: training loss is 0.383441, validation loss is 0.480456.\n",
      "epoch 190: training loss is 0.382927, validation loss is 0.480159.\n",
      "epoch 191: training loss is 0.382418, validation loss is 0.479878.\n",
      "epoch 192: training loss is 0.381908, validation loss is 0.479559.\n",
      "epoch 193: training loss is 0.381402, validation loss is 0.479229.\n",
      "epoch 194: training loss is 0.380900, validation loss is 0.478943.\n",
      "epoch 195: training loss is 0.380402, validation loss is 0.478618.\n",
      "epoch 196: training loss is 0.379906, validation loss is 0.478359.\n",
      "epoch 197: training loss is 0.379414, validation loss is 0.478083.\n",
      "epoch 198: training loss is 0.378925, validation loss is 0.477803.\n",
      "epoch 199: training loss is 0.378437, validation loss is 0.477486.\n",
      "epoch 200: training loss is 0.377954, validation loss is 0.477235.\n",
      "epoch 201: training loss is 0.377473, validation loss is 0.476914.\n",
      "epoch 202: training loss is 0.376995, validation loss is 0.476653.\n",
      "epoch 203: training loss is 0.376520, validation loss is 0.476387.\n",
      "epoch 204: training loss is 0.376048, validation loss is 0.476089.\n",
      "epoch 205: training loss is 0.375579, validation loss is 0.475825.\n",
      "epoch 206: training loss is 0.375112, validation loss is 0.475575.\n",
      "epoch 207: training loss is 0.374649, validation loss is 0.475325.\n",
      "epoch 208: training loss is 0.374187, validation loss is 0.475028.\n",
      "epoch 209: training loss is 0.373729, validation loss is 0.474750.\n",
      "epoch 210: training loss is 0.373273, validation loss is 0.474502.\n",
      "epoch 211: training loss is 0.372820, validation loss is 0.474215.\n",
      "epoch 212: training loss is 0.372369, validation loss is 0.473975.\n",
      "epoch 213: training loss is 0.371921, validation loss is 0.473709.\n",
      "epoch 214: training loss is 0.371476, validation loss is 0.473453.\n",
      "epoch 215: training loss is 0.371034, validation loss is 0.473189.\n",
      "epoch 216: training loss is 0.370593, validation loss is 0.472948.\n",
      "epoch 217: training loss is 0.370155, validation loss is 0.472711.\n",
      "epoch 218: training loss is 0.369719, validation loss is 0.472457.\n",
      "epoch 219: training loss is 0.369287, validation loss is 0.472190.\n",
      "epoch 220: training loss is 0.368860, validation loss is 0.471908.\n",
      "epoch 221: training loss is 0.368429, validation loss is 0.471685.\n",
      "epoch 222: training loss is 0.368003, validation loss is 0.471442.\n",
      "epoch 223: training loss is 0.367580, validation loss is 0.471197.\n",
      "epoch 224: training loss is 0.367160, validation loss is 0.470947.\n",
      "epoch 225: training loss is 0.366740, validation loss is 0.470728.\n",
      "epoch 226: training loss is 0.366323, validation loss is 0.470494.\n",
      "epoch 227: training loss is 0.365910, validation loss is 0.470247.\n",
      "epoch 228: training loss is 0.365498, validation loss is 0.470016.\n",
      "epoch 229: training loss is 0.365088, validation loss is 0.469802.\n",
      "epoch 230: training loss is 0.364680, validation loss is 0.469577.\n",
      "epoch 231: training loss is 0.364275, validation loss is 0.469351.\n",
      "epoch 232: training loss is 0.363874, validation loss is 0.469156.\n",
      "epoch 233: training loss is 0.363474, validation loss is 0.468940.\n",
      "epoch 234: training loss is 0.363075, validation loss is 0.468709.\n",
      "epoch 235: training loss is 0.362682, validation loss is 0.468517.\n",
      "epoch 236: training loss is 0.362284, validation loss is 0.468258.\n",
      "epoch 237: training loss is 0.361893, validation loss is 0.468038.\n",
      "epoch 238: training loss is 0.361502, validation loss is 0.467758.\n",
      "epoch 239: training loss is 0.361114, validation loss is 0.467554.\n",
      "epoch 240: training loss is 0.360729, validation loss is 0.467384.\n",
      "epoch 241: training loss is 0.360344, validation loss is 0.467142.\n",
      "epoch 242: training loss is 0.359962, validation loss is 0.466928.\n",
      "epoch 243: training loss is 0.359583, validation loss is 0.466720.\n",
      "epoch 244: training loss is 0.359205, validation loss is 0.466512.\n",
      "epoch 245: training loss is 0.358832, validation loss is 0.466327.\n"
     ]
    },
    {
     "name": "stdout",
     "output_type": "stream",
     "text": [
      "epoch 246: training loss is 0.358456, validation loss is 0.466087.\n",
      "epoch 247: training loss is 0.358084, validation loss is 0.465890.\n",
      "epoch 248: training loss is 0.357715, validation loss is 0.465693.\n",
      "epoch 249: training loss is 0.357345, validation loss is 0.465452.\n",
      "epoch 250: training loss is 0.356981, validation loss is 0.465285.\n",
      "epoch 251: training loss is 0.356615, validation loss is 0.465045.\n",
      "epoch 252: training loss is 0.356253, validation loss is 0.464824.\n",
      "epoch 253: training loss is 0.355892, validation loss is 0.464620.\n",
      "epoch 254: training loss is 0.355534, validation loss is 0.464411.\n",
      "epoch 255: training loss is 0.355177, validation loss is 0.464225.\n",
      "epoch 256: training loss is 0.354822, validation loss is 0.464047.\n",
      "epoch 257: training loss is 0.354470, validation loss is 0.463878.\n",
      "epoch 258: training loss is 0.354119, validation loss is 0.463681.\n",
      "epoch 259: training loss is 0.353768, validation loss is 0.463457.\n",
      "epoch 260: training loss is 0.353420, validation loss is 0.463258.\n",
      "epoch 261: training loss is 0.353074, validation loss is 0.463062.\n",
      "epoch 262: training loss is 0.352731, validation loss is 0.462846.\n",
      "epoch 263: training loss is 0.352389, validation loss is 0.462652.\n",
      "epoch 264: training loss is 0.352047, validation loss is 0.462473.\n",
      "epoch 265: training loss is 0.351707, validation loss is 0.462294.\n",
      "epoch 266: training loss is 0.351369, validation loss is 0.462118.\n",
      "epoch 267: training loss is 0.351033, validation loss is 0.461930.\n",
      "epoch 268: training loss is 0.350700, validation loss is 0.461774.\n",
      "epoch 269: training loss is 0.350368, validation loss is 0.461604.\n",
      "epoch 270: training loss is 0.350036, validation loss is 0.461411.\n",
      "epoch 271: training loss is 0.349707, validation loss is 0.461231.\n",
      "epoch 272: training loss is 0.349382, validation loss is 0.461075.\n",
      "epoch 273: training loss is 0.349053, validation loss is 0.460867.\n",
      "epoch 274: training loss is 0.348730, validation loss is 0.460704.\n",
      "epoch 275: training loss is 0.348406, validation loss is 0.460479.\n",
      "epoch 276: training loss is 0.348085, validation loss is 0.460295.\n",
      "epoch 277: training loss is 0.347765, validation loss is 0.460141.\n",
      "epoch 278: training loss is 0.347446, validation loss is 0.459968.\n",
      "epoch 279: training loss is 0.347130, validation loss is 0.459787.\n",
      "epoch 280: training loss is 0.346816, validation loss is 0.459596.\n",
      "epoch 281: training loss is 0.346502, validation loss is 0.459425.\n",
      "epoch 282: training loss is 0.346190, validation loss is 0.459251.\n",
      "epoch 283: training loss is 0.345879, validation loss is 0.459084.\n",
      "epoch 284: training loss is 0.345570, validation loss is 0.458910.\n",
      "epoch 285: training loss is 0.345261, validation loss is 0.458757.\n",
      "epoch 286: training loss is 0.344955, validation loss is 0.458590.\n",
      "epoch 287: training loss is 0.344650, validation loss is 0.458452.\n",
      "epoch 288: training loss is 0.344347, validation loss is 0.458289.\n",
      "epoch 289: training loss is 0.344045, validation loss is 0.458098.\n",
      "epoch 290: training loss is 0.343745, validation loss is 0.457962.\n",
      "epoch 291: training loss is 0.343445, validation loss is 0.457795.\n",
      "epoch 292: training loss is 0.343148, validation loss is 0.457600.\n",
      "epoch 293: training loss is 0.342851, validation loss is 0.457457.\n",
      "epoch 294: training loss is 0.342557, validation loss is 0.457281.\n",
      "epoch 295: training loss is 0.342264, validation loss is 0.457120.\n",
      "epoch 296: training loss is 0.341971, validation loss is 0.456987.\n",
      "epoch 297: training loss is 0.341680, validation loss is 0.456840.\n",
      "epoch 298: training loss is 0.341392, validation loss is 0.456649.\n",
      "epoch 299: training loss is 0.341103, validation loss is 0.456499.\n"
     ]
    }
   ],
   "source": [
    "# after choosing the best parameters, we could use these parameters to train the model for BOW-count features.\n",
    "\n",
    "weights_bow_c, tra_loss_bow_c, val_loss_bow_c = SGD(train_count_mat, train_label, dev_count_mat, dev_label,\n",
    "                                                    lr = best_parameter_bow_c[0], \n",
    "                                                    alpha = best_parameter_bow_c[1],\n",
    "                                                    epochs = best_parameter_bow_c[2],\n",
    "                                                    tolerance = best_parameter_bow_c[3], print_progress = True)"
   ]
  },
  {
   "cell_type": "markdown",
   "metadata": {},
   "source": [
    "### Now plot the training and validation history per epoch for the best hyperparameter combination. Does your model underfit, overfit or is it about right? Explain why."
   ]
  },
  {
   "cell_type": "code",
   "execution_count": 24,
   "metadata": {
    "ExecuteTime": {
     "end_time": "2020-02-15T14:17:51.598911Z",
     "start_time": "2020-02-15T14:17:51.482307Z"
    }
   },
   "outputs": [
    {
     "data": {
      "image/png": "[encoded data removed]",
      "text/plain": [
       "<Figure size 432x288 with 1 Axes>"
      ]
     },
     "metadata": {
      "needs_background": "light"
     },
     "output_type": "display_data"
    }
   ],
   "source": [
    "# define a function to plot the training and validation history \n",
    "\n",
    "def plot_loss_history(tra_loss_history, val_loss_history, mode):\n",
    "    \n",
    "    x_value = np.array([i for i in range(len(tra_loss_history))])\n",
    "    \n",
    "    plt.plot(x_value,tra_loss_history, lw = 2, label = \"training loss\")\n",
    "    plt.plot(x_value, val_loss_history, lw = 2, label = \"validation loss\")\n",
    "    \n",
    "    \n",
    "    plt.title(mode)\n",
    "    plt.xlabel(\"epoch\")\n",
    "    plt.ylabel(\"loss\")\n",
    "    plt.ylim([0, 0.8])\n",
    "    plt.legend()\n",
    "\n",
    "\n",
    "plot_loss_history(tra_loss_bow_c, val_loss_bow_c, \"BOW-COUNT(fig-1)\")"
   ]
  },
  {
   "cell_type": "markdown",
   "metadata": {
    "ExecuteTime": {
     "end_time": "2020-01-21T16:52:26.583150Z",
     "start_time": "2020-01-21T16:52:26.578754Z"
    }
   },
   "source": [
    "Explain here...\n",
    "\n",
    "Because we have five models, we will analyze this question after the \"loss-epoch\" figure for each model.\n",
    "\n",
    "From the figure 1, we could find our mode is trained well. \n",
    "\n",
    "1. The validation loss line is small (about 0.45) and is becoming flat at the end of training. Besides, the test accuracy of the following evaluation part is high (about 83.25%). Therefore the model is not underfitted.\n",
    "2. Because the validation loss line doesn't tend to rise and is still in the process from declining to flatting, and the difference between the final training loss and the final validation loss is small enough (about 0.12), the model is not overfitted.\n",
    "\n"
   ]
  },
  {
   "cell_type": "markdown",
   "metadata": {},
   "source": [
    "#### Evaluation\n",
    "\n",
    "Compute accuracy, precision, recall and F1-scores:"
   ]
  },
  {
   "cell_type": "code",
   "execution_count": 25,
   "metadata": {
    "ExecuteTime": {
     "end_time": "2020-02-15T14:17:51.607940Z",
     "start_time": "2020-02-15T14:17:51.600272Z"
    }
   },
   "outputs": [
    {
     "name": "stdout",
     "output_type": "stream",
     "text": [
      "Accuracy: 0.8225\n",
      "Precision: 0.8056872037914692\n",
      "Recall: 0.85\n",
      "F1-Score: 0.8272506082725061\n"
     ]
    }
   ],
   "source": [
    "preds_bow_c = predict_class(test_count_mat, weights_bow_c)\n",
    "\n",
    "print('Accuracy:', accuracy_score(test_label, preds_bow_c))\n",
    "print('Precision:', precision_score(test_label, preds_bow_c))\n",
    "print('Recall:', recall_score(test_label, preds_bow_c))\n",
    "print('F1-Score:', f1_score(test_label, preds_bow_c))"
   ]
  },
  {
   "cell_type": "markdown",
   "metadata": {},
   "source": [
    "Finally, print the top-10 words for the negative and positive class respectively."
   ]
  },
  {
   "cell_type": "code",
   "execution_count": 26,
   "metadata": {
    "ExecuteTime": {
     "end_time": "2020-02-15T14:17:51.613935Z",
     "start_time": "2020-02-15T14:17:51.610660Z"
    }
   },
   "outputs": [
    {
     "name": "stdout",
     "output_type": "stream",
     "text": [
      "bad\n",
      "only\n",
      "plot\n",
      "even\n",
      "no\n",
      "any\n",
      "worst\n",
      "script\n",
      "nothing\n",
      "unfortunately\n"
     ]
    }
   ],
   "source": [
    "top_neg = weights_bow_c.reshape(1, -1).argsort()[0][:10]\n",
    "for i in top_neg:\n",
    "    print(id2word_bow[i])"
   ]
  },
  {
   "cell_type": "code",
   "execution_count": 27,
   "metadata": {
    "ExecuteTime": {
     "end_time": "2020-02-15T14:17:51.624122Z",
     "start_time": "2020-02-15T14:17:51.615674Z"
    }
   },
   "outputs": [
    {
     "name": "stdout",
     "output_type": "stream",
     "text": [
      "great\n",
      "well\n",
      "life\n",
      "world\n",
      "many\n",
      "best\n",
      "seen\n",
      "both\n",
      "very\n",
      "most\n"
     ]
    }
   ],
   "source": [
    "top_pos = weights_bow_c.reshape(1, -1).argsort()[0][::-1][:10]\n",
    "for i in top_pos:\n",
    "    print(id2word_bow[i])"
   ]
  },
  {
   "cell_type": "markdown",
   "metadata": {},
   "source": [
    "### If we were to apply the classifier we've learned into a different domain such laptop reviews or restaurant reviews, do you think these features would generalise well? Can you propose what features the classifier could pick up as important in the new domain?"
   ]
  },
  {
   "cell_type": "markdown",
   "metadata": {},
   "source": [
    "Provide your answer here...\n",
    "\n",
    "Because we have five models, we will analyze this question for each model after its own top-10 words/chars.\n",
    "\n",
    "From the observation on these return words, I think half of them make sense. For example, in the top-10 negative words, we could see the negative words like \"bad\", \"worst\", \"nothing\", \"unfortunately\" and, in the top-10 positive words, we could see the positive words like \"great\", \"well\", \"best\", \"very\".\n",
    "\n",
    "I think these aforementioned words, such as \"bad\", \"great\", \"best\", \"well\", and, \"worst\", could generalize well in other domains like a restaurant reviews or laptop reviews. Because these words could express the opinions of customers to any kinds of merchandises and services. However, there are also some words like \"plot\" and \"script\" not generalizing well. Because these two words are only common in movies' area.\n",
    "\n",
    "The classifier should use the following words to express the emotions of customers or to express the opinions of customers to the merchandises for generalization. For example, the words \"happy\", \"surprised\", \"sad\", and \"disappointed\" could be used to express the emotions of customers in every domain and the words \"great\", \"worthy\", \"expensive\", and \"bad\" could be used in every domain because they could express the opinions of customers to most kind of merchandises or services.\n",
    "\n",
    "For the restaurant reviews domain, the classifier may pick up words like \"delicious\", \"tasty\", \"smelly\", \"expensive\", \"cold\", \"fresh\".... and for laptop review domain, the classifier may pick up words like \"light\", \"beautiful\", \"fast\"..."
   ]
  },
  {
   "cell_type": "markdown",
   "metadata": {},
   "source": [
    "### Discuss how did you choose model hyperparameters (e.g. learning rate and regularisation strength)? What is the relation between training epochs and learning rate? How the regularisation strength affects performance?"
   ]
  },
  {
   "cell_type": "markdown",
   "metadata": {},
   "source": [
    "Enter your answer here...\n",
    "\n",
    "We have five models, so I will answer this question for each model.\n",
    "\n",
    "1. I choose the hyperparameters (learning rate, alpha, epoch, tolerance) by testing the development(validation) dataset on several different set of hyperparameters. The set of hyperparameters which could help the model to achieve the highest validation accuracy and lowest validation loss are the best hyperparameters. I will randomly display several set of hyperparameters and the corresponding validation loss and validation accuracy.\n",
    "\n",
    "| lr | alpha |epoch  | tolerance | val_loss | val_accuracy |\n",
    "|:-:|:-:|:-:|:-:|:-:|:-:|\n",
    "| 0.000010  | 0.100000 | 300  |  0.000100 | 0.456529  | 0.825000  |\n",
    "| 0.000010  |  0.500000| 300  |  0.000100  | 0.526353 | 0.810000  |\n",
    "| 0.000010  | 0.100000   |100  | 0.000100 | 0.520493  | 0.800000  |\n",
    "| 0.000001 | 0.100000  |  300  | 0.000100  | 0.597890  | 0.745000  |\n",
    "| 0.000010  | 0.100000   |  300 | 0.000010  |0.456530  | 0.825000 |\n",
    "\n",
    "From the above table, we could find when the lr = 1e-5, alpha = 0.1, epoch = 300, tolerance = 1e-4, the model has lowest validation loss (0.456) and highest validation accuracy (0.825). Therefore, I choose this set of hyperparameter as my best hyperparameter for model of BOW-COUNT.\n",
    "\n",
    "2. From the above table and training process, I find if the learning rate is small, then the model need lost of epochs to complete the training to achieve a high validation accuracy. If the learning rate is large, the model will only need a few epoch to complete the training.\n",
    "\n",
    "\n",
    "3. From the above table, we could know the regularization strength could help the model not be overtrained. It means, if we use a large regularization strength (alpha), then the training loss will decrease more slowly than using a small regularization strength. If we don't add a regularization term or use a small regularization strength, the model might be overfitted.\n",
    "\n"
   ]
  },
  {
   "cell_type": "markdown",
   "metadata": {},
   "source": [
    "## Train and Evaluate Logistic Regression with TF.IDF vectors\n",
    "\n",
    "Follow the same steps as above (i.e. evaluating count n-gram representations).\n"
   ]
  },
  {
   "cell_type": "markdown",
   "metadata": {},
   "source": [
    "## Now repeat the training and evaluation process for BOW-tfidf, BOCN-count, BOCN-tfidf, BOW+BOCN including hyperparameter tuning process for each model..."
   ]
  },
  {
   "cell_type": "markdown",
   "metadata": {},
   "source": [
    "# Model 2: BOW-TFIDF"
   ]
  },
  {
   "cell_type": "markdown",
   "metadata": {},
   "source": [
    "## Training and evaluation for BOW-tfidf\n",
    "\n",
    "Because we have get the vectorized features matrices for BOW-tfidf, we could us them directly.\n",
    "\n",
    "Please don't count the hyperparameters tunning time for grading."
   ]
  },
  {
   "cell_type": "code",
   "execution_count": 28,
   "metadata": {
    "scrolled": true
   },
   "outputs": [
    {
     "name": "stdout",
     "output_type": "stream",
     "text": [
      "lr = 0.000001, alpha = 0.500000, epoch = 100, tolerance = 0.000100, val_loss = 0.669359, val_acc = 0.695000\n",
      "\n",
      "lr = 0.000001, alpha = 0.500000, epoch = 100, tolerance = 0.000010, val_loss = 0.669358, val_acc = 0.695000\n",
      "\n",
      "lr = 0.000001, alpha = 0.500000, epoch = 300, tolerance = 0.000100, val_loss = 0.636845, val_acc = 0.760000\n",
      "\n",
      "lr = 0.000001, alpha = 0.500000, epoch = 300, tolerance = 0.000010, val_loss = 0.636845, val_acc = 0.760000\n",
      "\n",
      "lr = 0.000001, alpha = 0.100000, epoch = 100, tolerance = 0.000100, val_loss = 0.668735, val_acc = 0.700000\n",
      "\n",
      "lr = 0.000001, alpha = 0.100000, epoch = 100, tolerance = 0.000010, val_loss = 0.668735, val_acc = 0.700000\n",
      "\n",
      "lr = 0.000001, alpha = 0.100000, epoch = 300, tolerance = 0.000100, val_loss = 0.632733, val_acc = 0.760000\n",
      "\n",
      "lr = 0.000001, alpha = 0.100000, epoch = 300, tolerance = 0.000010, val_loss = 0.632733, val_acc = 0.760000\n",
      "\n",
      "lr = 0.000010, alpha = 0.500000, epoch = 100, tolerance = 0.000100, val_loss = 0.583639, val_acc = 0.780000\n",
      "\n",
      "lr = 0.000010, alpha = 0.500000, epoch = 100, tolerance = 0.000010, val_loss = 0.583637, val_acc = 0.780000\n",
      "\n",
      "lr = 0.000010, alpha = 0.500000, epoch = 300, tolerance = 0.000100, val_loss = 0.557859, val_acc = 0.795000\n",
      "\n",
      "lr = 0.000010, alpha = 0.500000, epoch = 300, tolerance = 0.000010, val_loss = 0.552537, val_acc = 0.800000\n",
      "\n",
      "lr = 0.000010, alpha = 0.100000, epoch = 100, tolerance = 0.000100, val_loss = 0.561617, val_acc = 0.800000\n",
      "\n",
      "lr = 0.000010, alpha = 0.100000, epoch = 100, tolerance = 0.000010, val_loss = 0.561618, val_acc = 0.800000\n",
      "\n",
      "lr = 0.000010, alpha = 0.100000, epoch = 300, tolerance = 0.000100, val_loss = 0.490416, val_acc = 0.835000\n",
      "\n",
      "lr = 0.000010, alpha = 0.100000, epoch = 300, tolerance = 0.000010, val_loss = 0.490415, val_acc = 0.835000\n",
      "\n",
      "The best parameters are: lr = 1e-05, alpha = 0.1, epoch = 300, tolerance = 1e-05\n"
     ]
    }
   ],
   "source": [
    "# choose best hyperparameters for BOW-tfidf\n",
    "\n",
    "best_parameter_bow_tfidf = choose_hyper(train_tfidf_mat, train_label, dev_tfidf_mat, dev_label, \n",
    "                              lr_candidate = [1e-6, 1e-5], alpha_candidate = [5*1e-1, 1e-1], \n",
    "                              epoch_candidate = [100, 300], tolerance_candidate = [1e-4, 1e-5])"
   ]
  },
  {
   "cell_type": "markdown",
   "metadata": {},
   "source": [
    "End of hyperparameters tunning."
   ]
  },
  {
   "cell_type": "markdown",
   "metadata": {},
   "source": [
    "## Train the model of BOW-TFIDF by using the best hyperparameters."
   ]
  },
  {
   "cell_type": "code",
   "execution_count": 29,
   "metadata": {
    "scrolled": true
   },
   "outputs": [
    {
     "name": "stdout",
     "output_type": "stream",
     "text": [
      "epoch   0: training loss is 0.688411, validation loss is 0.690324.\n",
      "epoch   1: training loss is 0.683823, validation loss is 0.687615.\n",
      "epoch   2: training loss is 0.679373, validation loss is 0.685008.\n",
      "epoch   3: training loss is 0.675039, validation loss is 0.682484.\n",
      "epoch   4: training loss is 0.670819, validation loss is 0.680043.\n",
      "epoch   5: training loss is 0.666696, validation loss is 0.677668.\n",
      "epoch   6: training loss is 0.662661, validation loss is 0.675347.\n",
      "epoch   7: training loss is 0.658714, validation loss is 0.673084.\n",
      "epoch   8: training loss is 0.654847, validation loss is 0.670872.\n",
      "epoch   9: training loss is 0.651058, validation loss is 0.668713.\n",
      "epoch  10: training loss is 0.647342, validation loss is 0.666596.\n",
      "epoch  11: training loss is 0.643694, validation loss is 0.664522.\n",
      "epoch  12: training loss is 0.640115, validation loss is 0.662493.\n",
      "epoch  13: training loss is 0.636598, validation loss is 0.660495.\n",
      "epoch  14: training loss is 0.633143, validation loss is 0.658531.\n",
      "epoch  15: training loss is 0.629749, validation loss is 0.656608.\n",
      "epoch  16: training loss is 0.626412, validation loss is 0.654712.\n",
      "epoch  17: training loss is 0.623131, validation loss is 0.652850.\n",
      "epoch  18: training loss is 0.619905, validation loss is 0.651016.\n",
      "epoch  19: training loss is 0.616733, validation loss is 0.649215.\n",
      "epoch  20: training loss is 0.613612, validation loss is 0.647443.\n",
      "epoch  21: training loss is 0.610542, validation loss is 0.645700.\n",
      "epoch  22: training loss is 0.607522, validation loss is 0.643989.\n",
      "epoch  23: training loss is 0.604548, validation loss is 0.642297.\n",
      "epoch  24: training loss is 0.601621, validation loss is 0.640636.\n",
      "epoch  25: training loss is 0.598739, validation loss is 0.638999.\n",
      "epoch  26: training loss is 0.595902, validation loss is 0.637389.\n",
      "epoch  27: training loss is 0.593108, validation loss is 0.635800.\n",
      "epoch  28: training loss is 0.590355, validation loss is 0.634232.\n",
      "epoch  29: training loss is 0.587644, validation loss is 0.632691.\n",
      "epoch  30: training loss is 0.584974, validation loss is 0.631173.\n",
      "epoch  31: training loss is 0.582342, validation loss is 0.629680.\n",
      "epoch  32: training loss is 0.579749, validation loss is 0.628206.\n",
      "epoch  33: training loss is 0.577192, validation loss is 0.626749.\n",
      "epoch  34: training loss is 0.574673, validation loss is 0.625312.\n",
      "epoch  35: training loss is 0.572189, validation loss is 0.623898.\n",
      "epoch  36: training loss is 0.569740, validation loss is 0.622505.\n",
      "epoch  37: training loss is 0.567325, validation loss is 0.621136.\n",
      "epoch  38: training loss is 0.564943, validation loss is 0.619777.\n",
      "epoch  39: training loss is 0.562594, validation loss is 0.618443.\n",
      "epoch  40: training loss is 0.560276, validation loss is 0.617123.\n",
      "epoch  41: training loss is 0.557990, validation loss is 0.615823.\n",
      "epoch  42: training loss is 0.555735, validation loss is 0.614543.\n",
      "epoch  43: training loss is 0.553509, validation loss is 0.613276.\n",
      "epoch  44: training loss is 0.551312, validation loss is 0.612025.\n",
      "epoch  45: training loss is 0.549144, validation loss is 0.610787.\n",
      "epoch  46: training loss is 0.547004, validation loss is 0.609569.\n",
      "epoch  47: training loss is 0.544891, validation loss is 0.608364.\n",
      "epoch  48: training loss is 0.542805, validation loss is 0.607177.\n",
      "epoch  49: training loss is 0.540745, validation loss is 0.606005.\n",
      "epoch  50: training loss is 0.538711, validation loss is 0.604846.\n",
      "epoch  51: training loss is 0.536702, validation loss is 0.603707.\n",
      "epoch  52: training loss is 0.534718, validation loss is 0.602577.\n",
      "epoch  53: training loss is 0.532758, validation loss is 0.601462.\n",
      "epoch  54: training loss is 0.530822, validation loss is 0.600359.\n",
      "epoch  55: training loss is 0.528909, validation loss is 0.599270.\n",
      "epoch  56: training loss is 0.527019, validation loss is 0.598194.\n",
      "epoch  57: training loss is 0.525151, validation loss is 0.597132.\n",
      "epoch  58: training loss is 0.523306, validation loss is 0.596080.\n",
      "epoch  59: training loss is 0.521482, validation loss is 0.595044.\n",
      "epoch  60: training loss is 0.519679, validation loss is 0.594020.\n",
      "epoch  61: training loss is 0.517897, validation loss is 0.593009.\n",
      "epoch  62: training loss is 0.516135, validation loss is 0.592008.\n",
      "epoch  63: training loss is 0.514393, validation loss is 0.591017.\n",
      "epoch  64: training loss is 0.512671, validation loss is 0.590037.\n",
      "epoch  65: training loss is 0.510968, validation loss is 0.589070.\n",
      "epoch  66: training loss is 0.509283, validation loss is 0.588112.\n",
      "epoch  67: training loss is 0.507618, validation loss is 0.587168.\n",
      "epoch  68: training loss is 0.505971, validation loss is 0.586234.\n",
      "epoch  69: training loss is 0.504342, validation loss is 0.585309.\n",
      "epoch  70: training loss is 0.502730, validation loss is 0.584396.\n",
      "epoch  71: training loss is 0.501136, validation loss is 0.583487.\n",
      "epoch  72: training loss is 0.499558, validation loss is 0.582590.\n",
      "epoch  73: training loss is 0.497998, validation loss is 0.581706.\n",
      "epoch  74: training loss is 0.496453, validation loss is 0.580832.\n",
      "epoch  75: training loss is 0.494925, validation loss is 0.579967.\n",
      "epoch  76: training loss is 0.493413, validation loss is 0.579110.\n",
      "epoch  77: training loss is 0.491916, validation loss is 0.578265.\n",
      "epoch  78: training loss is 0.490435, validation loss is 0.577426.\n",
      "epoch  79: training loss is 0.488969, validation loss is 0.576596.\n",
      "epoch  80: training loss is 0.487517, validation loss is 0.575774.\n",
      "epoch  81: training loss is 0.486081, validation loss is 0.574960.\n",
      "epoch  82: training loss is 0.484658, validation loss is 0.574155.\n",
      "epoch  83: training loss is 0.483250, validation loss is 0.573358.\n",
      "epoch  84: training loss is 0.481856, validation loss is 0.572569.\n",
      "epoch  85: training loss is 0.480475, validation loss is 0.571788.\n",
      "epoch  86: training loss is 0.479108, validation loss is 0.571013.\n",
      "epoch  87: training loss is 0.477754, validation loss is 0.570249.\n",
      "epoch  88: training loss is 0.476414, validation loss is 0.569490.\n",
      "epoch  89: training loss is 0.475086, validation loss is 0.568740.\n",
      "epoch  90: training loss is 0.473771, validation loss is 0.567997.\n",
      "epoch  91: training loss is 0.472468, validation loss is 0.567261.\n",
      "epoch  92: training loss is 0.471177, validation loss is 0.566531.\n",
      "epoch  93: training loss is 0.469899, validation loss is 0.565811.\n",
      "epoch  94: training loss is 0.468633, validation loss is 0.565097.\n",
      "epoch  95: training loss is 0.467378, validation loss is 0.564388.\n",
      "epoch  96: training loss is 0.466134, validation loss is 0.563685.\n",
      "epoch  97: training loss is 0.464903, validation loss is 0.562990.\n",
      "epoch  98: training loss is 0.463682, validation loss is 0.562301.\n",
      "epoch  99: training loss is 0.462472, validation loss is 0.561620.\n",
      "epoch 100: training loss is 0.461274, validation loss is 0.560944.\n",
      "epoch 101: training loss is 0.460086, validation loss is 0.560275.\n",
      "epoch 102: training loss is 0.458909, validation loss is 0.559611.\n",
      "epoch 103: training loss is 0.457742, validation loss is 0.558953.\n",
      "epoch 104: training loss is 0.456585, validation loss is 0.558302.\n",
      "epoch 105: training loss is 0.455439, validation loss is 0.557656.\n",
      "epoch 106: training loss is 0.454302, validation loss is 0.557016.\n",
      "epoch 107: training loss is 0.453176, validation loss is 0.556381.\n",
      "epoch 108: training loss is 0.452059, validation loss is 0.555753.\n",
      "epoch 109: training loss is 0.450952, validation loss is 0.555129.\n",
      "epoch 110: training loss is 0.449854, validation loss is 0.554512.\n",
      "epoch 111: training loss is 0.448765, validation loss is 0.553900.\n",
      "epoch 112: training loss is 0.447686, validation loss is 0.553294.\n",
      "epoch 113: training loss is 0.446616, validation loss is 0.552691.\n",
      "epoch 114: training loss is 0.445555, validation loss is 0.552095.\n",
      "epoch 115: training loss is 0.444503, validation loss is 0.551504.\n",
      "epoch 116: training loss is 0.443459, validation loss is 0.550917.\n",
      "epoch 117: training loss is 0.442424, validation loss is 0.550336.\n",
      "epoch 118: training loss is 0.441398, validation loss is 0.549759.\n",
      "epoch 119: training loss is 0.440380, validation loss is 0.549188.\n",
      "epoch 120: training loss is 0.439370, validation loss is 0.548620.\n",
      "epoch 121: training loss is 0.438368, validation loss is 0.548057.\n",
      "epoch 122: training loss is 0.437375, validation loss is 0.547500.\n"
     ]
    },
    {
     "name": "stdout",
     "output_type": "stream",
     "text": [
      "epoch 123: training loss is 0.436389, validation loss is 0.546946.\n",
      "epoch 124: training loss is 0.435411, validation loss is 0.546397.\n",
      "epoch 125: training loss is 0.434441, validation loss is 0.545854.\n",
      "epoch 126: training loss is 0.433479, validation loss is 0.545314.\n",
      "epoch 127: training loss is 0.432525, validation loss is 0.544779.\n",
      "epoch 128: training loss is 0.431578, validation loss is 0.544248.\n",
      "epoch 129: training loss is 0.430638, validation loss is 0.543721.\n",
      "epoch 130: training loss is 0.429706, validation loss is 0.543200.\n",
      "epoch 131: training loss is 0.428780, validation loss is 0.542682.\n",
      "epoch 132: training loss is 0.427862, validation loss is 0.542167.\n",
      "epoch 133: training loss is 0.426951, validation loss is 0.541657.\n",
      "epoch 134: training loss is 0.426047, validation loss is 0.541151.\n",
      "epoch 135: training loss is 0.425150, validation loss is 0.540649.\n",
      "epoch 136: training loss is 0.424259, validation loss is 0.540149.\n",
      "epoch 137: training loss is 0.423376, validation loss is 0.539655.\n",
      "epoch 138: training loss is 0.422499, validation loss is 0.539164.\n",
      "epoch 139: training loss is 0.421628, validation loss is 0.538678.\n",
      "epoch 140: training loss is 0.420764, validation loss is 0.538194.\n",
      "epoch 141: training loss is 0.419907, validation loss is 0.537715.\n",
      "epoch 142: training loss is 0.419055, validation loss is 0.537239.\n",
      "epoch 143: training loss is 0.418210, validation loss is 0.536767.\n",
      "epoch 144: training loss is 0.417371, validation loss is 0.536297.\n",
      "epoch 145: training loss is 0.416539, validation loss is 0.535832.\n",
      "epoch 146: training loss is 0.415712, validation loss is 0.535370.\n",
      "epoch 147: training loss is 0.414891, validation loss is 0.534912.\n",
      "epoch 148: training loss is 0.414077, validation loss is 0.534457.\n",
      "epoch 149: training loss is 0.413268, validation loss is 0.534006.\n",
      "epoch 150: training loss is 0.412465, validation loss is 0.533558.\n",
      "epoch 151: training loss is 0.411667, validation loss is 0.533112.\n",
      "epoch 152: training loss is 0.410875, validation loss is 0.532670.\n",
      "epoch 153: training loss is 0.410089, validation loss is 0.532232.\n",
      "epoch 154: training loss is 0.409309, validation loss is 0.531797.\n",
      "epoch 155: training loss is 0.408533, validation loss is 0.531365.\n",
      "epoch 156: training loss is 0.407764, validation loss is 0.530935.\n",
      "epoch 157: training loss is 0.406999, validation loss is 0.530508.\n",
      "epoch 158: training loss is 0.406240, validation loss is 0.530085.\n",
      "epoch 159: training loss is 0.405486, validation loss is 0.529665.\n",
      "epoch 160: training loss is 0.404738, validation loss is 0.529248.\n",
      "epoch 161: training loss is 0.403994, validation loss is 0.528834.\n",
      "epoch 162: training loss is 0.403256, validation loss is 0.528422.\n",
      "epoch 163: training loss is 0.402522, validation loss is 0.528013.\n",
      "epoch 164: training loss is 0.401794, validation loss is 0.527607.\n",
      "epoch 165: training loss is 0.401070, validation loss is 0.527204.\n",
      "epoch 166: training loss is 0.400352, validation loss is 0.526803.\n",
      "epoch 167: training loss is 0.399638, validation loss is 0.526406.\n",
      "epoch 168: training loss is 0.398929, validation loss is 0.526011.\n",
      "epoch 169: training loss is 0.398224, validation loss is 0.525619.\n",
      "epoch 170: training loss is 0.397525, validation loss is 0.525229.\n",
      "epoch 171: training loss is 0.396830, validation loss is 0.524843.\n",
      "epoch 172: training loss is 0.396139, validation loss is 0.524459.\n",
      "epoch 173: training loss is 0.395453, validation loss is 0.524077.\n",
      "epoch 174: training loss is 0.394772, validation loss is 0.523698.\n",
      "epoch 175: training loss is 0.394095, validation loss is 0.523322.\n",
      "epoch 176: training loss is 0.393422, validation loss is 0.522948.\n",
      "epoch 177: training loss is 0.392754, validation loss is 0.522577.\n",
      "epoch 178: training loss is 0.392090, validation loss is 0.522208.\n",
      "epoch 179: training loss is 0.391430, validation loss is 0.521841.\n",
      "epoch 180: training loss is 0.390775, validation loss is 0.521477.\n",
      "epoch 181: training loss is 0.390124, validation loss is 0.521115.\n",
      "epoch 182: training loss is 0.389477, validation loss is 0.520755.\n",
      "epoch 183: training loss is 0.388834, validation loss is 0.520398.\n",
      "epoch 184: training loss is 0.388195, validation loss is 0.520043.\n",
      "epoch 185: training loss is 0.387560, validation loss is 0.519691.\n",
      "epoch 186: training loss is 0.386929, validation loss is 0.519340.\n",
      "epoch 187: training loss is 0.386302, validation loss is 0.518992.\n",
      "epoch 188: training loss is 0.385679, validation loss is 0.518647.\n",
      "epoch 189: training loss is 0.385060, validation loss is 0.518302.\n",
      "epoch 190: training loss is 0.384445, validation loss is 0.517961.\n",
      "epoch 191: training loss is 0.383833, validation loss is 0.517621.\n",
      "epoch 192: training loss is 0.383225, validation loss is 0.517284.\n",
      "epoch 193: training loss is 0.382621, validation loss is 0.516949.\n",
      "epoch 194: training loss is 0.382021, validation loss is 0.516616.\n",
      "epoch 195: training loss is 0.381425, validation loss is 0.516285.\n",
      "epoch 196: training loss is 0.380832, validation loss is 0.515956.\n",
      "epoch 197: training loss is 0.380242, validation loss is 0.515629.\n",
      "epoch 198: training loss is 0.379656, validation loss is 0.515304.\n",
      "epoch 199: training loss is 0.379074, validation loss is 0.514982.\n",
      "epoch 200: training loss is 0.378496, validation loss is 0.514660.\n",
      "epoch 201: training loss is 0.377920, validation loss is 0.514342.\n",
      "epoch 202: training loss is 0.377348, validation loss is 0.514025.\n",
      "epoch 203: training loss is 0.376780, validation loss is 0.513710.\n",
      "epoch 204: training loss is 0.376215, validation loss is 0.513397.\n",
      "epoch 205: training loss is 0.375653, validation loss is 0.513086.\n",
      "epoch 206: training loss is 0.375095, validation loss is 0.512777.\n",
      "epoch 207: training loss is 0.374540, validation loss is 0.512469.\n",
      "epoch 208: training loss is 0.373988, validation loss is 0.512163.\n",
      "epoch 209: training loss is 0.373440, validation loss is 0.511860.\n",
      "epoch 210: training loss is 0.372894, validation loss is 0.511558.\n",
      "epoch 211: training loss is 0.372352, validation loss is 0.511258.\n",
      "epoch 212: training loss is 0.371813, validation loss is 0.510959.\n",
      "epoch 213: training loss is 0.371277, validation loss is 0.510662.\n",
      "epoch 214: training loss is 0.370744, validation loss is 0.510367.\n",
      "epoch 215: training loss is 0.370215, validation loss is 0.510074.\n",
      "epoch 216: training loss is 0.369688, validation loss is 0.509783.\n",
      "epoch 217: training loss is 0.369164, validation loss is 0.509493.\n",
      "epoch 218: training loss is 0.368644, validation loss is 0.509205.\n",
      "epoch 219: training loss is 0.368126, validation loss is 0.508919.\n",
      "epoch 220: training loss is 0.367611, validation loss is 0.508635.\n",
      "epoch 221: training loss is 0.367099, validation loss is 0.508352.\n",
      "epoch 222: training loss is 0.366590, validation loss is 0.508070.\n",
      "epoch 223: training loss is 0.366084, validation loss is 0.507790.\n",
      "epoch 224: training loss is 0.365581, validation loss is 0.507512.\n",
      "epoch 225: training loss is 0.365081, validation loss is 0.507235.\n",
      "epoch 226: training loss is 0.364583, validation loss is 0.506960.\n",
      "epoch 227: training loss is 0.364088, validation loss is 0.506687.\n",
      "epoch 228: training loss is 0.363596, validation loss is 0.506415.\n",
      "epoch 229: training loss is 0.363107, validation loss is 0.506144.\n",
      "epoch 230: training loss is 0.362620, validation loss is 0.505875.\n",
      "epoch 231: training loss is 0.362137, validation loss is 0.505608.\n",
      "epoch 232: training loss is 0.361655, validation loss is 0.505342.\n",
      "epoch 233: training loss is 0.361177, validation loss is 0.505078.\n",
      "epoch 234: training loss is 0.360701, validation loss is 0.504815.\n",
      "epoch 235: training loss is 0.360227, validation loss is 0.504554.\n",
      "epoch 236: training loss is 0.359757, validation loss is 0.504294.\n",
      "epoch 237: training loss is 0.359288, validation loss is 0.504035.\n",
      "epoch 238: training loss is 0.358823, validation loss is 0.503778.\n",
      "epoch 239: training loss is 0.358360, validation loss is 0.503522.\n",
      "epoch 240: training loss is 0.357899, validation loss is 0.503268.\n",
      "epoch 241: training loss is 0.357441, validation loss is 0.503016.\n",
      "epoch 242: training loss is 0.356985, validation loss is 0.502764.\n",
      "epoch 243: training loss is 0.356532, validation loss is 0.502514.\n",
      "epoch 244: training loss is 0.356081, validation loss is 0.502266.\n",
      "epoch 245: training loss is 0.355632, validation loss is 0.502018.\n"
     ]
    },
    {
     "name": "stdout",
     "output_type": "stream",
     "text": [
      "epoch 246: training loss is 0.355186, validation loss is 0.501772.\n",
      "epoch 247: training loss is 0.354743, validation loss is 0.501528.\n",
      "epoch 248: training loss is 0.354301, validation loss is 0.501284.\n",
      "epoch 249: training loss is 0.353862, validation loss is 0.501042.\n",
      "epoch 250: training loss is 0.353426, validation loss is 0.500802.\n",
      "epoch 251: training loss is 0.352991, validation loss is 0.500562.\n",
      "epoch 252: training loss is 0.352559, validation loss is 0.500324.\n",
      "epoch 253: training loss is 0.352129, validation loss is 0.500087.\n",
      "epoch 254: training loss is 0.351702, validation loss is 0.499851.\n",
      "epoch 255: training loss is 0.351277, validation loss is 0.499617.\n",
      "epoch 256: training loss is 0.350853, validation loss is 0.499384.\n",
      "epoch 257: training loss is 0.350432, validation loss is 0.499152.\n",
      "epoch 258: training loss is 0.350014, validation loss is 0.498921.\n",
      "epoch 259: training loss is 0.349597, validation loss is 0.498692.\n",
      "epoch 260: training loss is 0.349183, validation loss is 0.498463.\n",
      "epoch 261: training loss is 0.348770, validation loss is 0.498236.\n",
      "epoch 262: training loss is 0.348360, validation loss is 0.498010.\n",
      "epoch 263: training loss is 0.347952, validation loss is 0.497786.\n",
      "epoch 264: training loss is 0.347546, validation loss is 0.497562.\n",
      "epoch 265: training loss is 0.347142, validation loss is 0.497340.\n",
      "epoch 266: training loss is 0.346740, validation loss is 0.497119.\n",
      "epoch 267: training loss is 0.346340, validation loss is 0.496899.\n",
      "epoch 268: training loss is 0.345942, validation loss is 0.496680.\n",
      "epoch 269: training loss is 0.345546, validation loss is 0.496462.\n",
      "epoch 270: training loss is 0.345153, validation loss is 0.496245.\n",
      "epoch 271: training loss is 0.344761, validation loss is 0.496030.\n",
      "epoch 272: training loss is 0.344371, validation loss is 0.495815.\n",
      "epoch 273: training loss is 0.343983, validation loss is 0.495602.\n",
      "epoch 274: training loss is 0.343597, validation loss is 0.495389.\n",
      "epoch 275: training loss is 0.343213, validation loss is 0.495178.\n",
      "epoch 276: training loss is 0.342831, validation loss is 0.494968.\n",
      "epoch 277: training loss is 0.342450, validation loss is 0.494759.\n",
      "epoch 278: training loss is 0.342072, validation loss is 0.494551.\n",
      "epoch 279: training loss is 0.341695, validation loss is 0.494344.\n",
      "epoch 280: training loss is 0.341321, validation loss is 0.494138.\n",
      "epoch 281: training loss is 0.340948, validation loss is 0.493933.\n",
      "epoch 282: training loss is 0.340577, validation loss is 0.493729.\n",
      "epoch 283: training loss is 0.340208, validation loss is 0.493526.\n",
      "epoch 284: training loss is 0.339841, validation loss is 0.493325.\n",
      "epoch 285: training loss is 0.339475, validation loss is 0.493124.\n",
      "epoch 286: training loss is 0.339111, validation loss is 0.492924.\n",
      "epoch 287: training loss is 0.338749, validation loss is 0.492725.\n",
      "epoch 288: training loss is 0.338389, validation loss is 0.492528.\n",
      "epoch 289: training loss is 0.338031, validation loss is 0.492331.\n",
      "epoch 290: training loss is 0.337674, validation loss is 0.492135.\n",
      "epoch 291: training loss is 0.337319, validation loss is 0.491940.\n",
      "epoch 292: training loss is 0.336966, validation loss is 0.491746.\n",
      "epoch 293: training loss is 0.336614, validation loss is 0.491553.\n",
      "epoch 294: training loss is 0.336264, validation loss is 0.491361.\n",
      "epoch 295: training loss is 0.335916, validation loss is 0.491170.\n",
      "epoch 296: training loss is 0.335569, validation loss is 0.490980.\n",
      "epoch 297: training loss is 0.335224, validation loss is 0.490791.\n",
      "epoch 298: training loss is 0.334881, validation loss is 0.490603.\n",
      "epoch 299: training loss is 0.334539, validation loss is 0.490415.\n"
     ]
    }
   ],
   "source": [
    "# Under BOW-tfidf situation, training the model by using the best parameters\n",
    "weights_bow_tfidf, tra_loss_bow_tfidf, val_loss_bow_tfidf = SGD(train_tfidf_mat, train_label, dev_tfidf_mat, \n",
    "                                                                dev_label, \n",
    "                                                                lr = best_parameter_bow_tfidf[0], \n",
    "                                                                alpha = best_parameter_bow_tfidf[1],\n",
    "                                                                epochs = best_parameter_bow_tfidf[2],\n",
    "                                                                tolerance = best_parameter_bow_tfidf[3], \n",
    "                                                                print_progress = True)"
   ]
  },
  {
   "cell_type": "code",
   "execution_count": 30,
   "metadata": {},
   "outputs": [
    {
     "data": {
      "image/png": "[encoded data removed]",
      "text/plain": [
       "<Figure size 432x288 with 1 Axes>"
      ]
     },
     "metadata": {
      "needs_background": "light"
     },
     "output_type": "display_data"
    }
   ],
   "source": [
    "# plot the figure to check the training and validation loss during the training process\n",
    "\n",
    "plot_loss_history(tra_loss_bow_tfidf, val_loss_bow_tfidf, \"BOW-TFIDF(fig-2)\")"
   ]
  },
  {
   "cell_type": "markdown",
   "metadata": {},
   "source": [
    "### Analyze the loss-epoch figure for model of BOW-TFIDF"
   ]
  },
  {
   "cell_type": "markdown",
   "metadata": {},
   "source": [
    "Through observing the figure 2, we could determine that the model for BOW-TFIDF is trained well.\n",
    "\n",
    "1. The validation loss is low (about 0.488), the validation loss line begins to be flat at the end of training, and the test accuracy from the following evaluation is high (about 85.5%). Therefore, the model is not underfitted.\n",
    "\n",
    "2. The difference between the final validation loss and final training loss on the figure 2 is small (about 0.15) and the validation loss line doesn't have the tend to rise. Therefore, the model is not overfitted."
   ]
  },
  {
   "cell_type": "code",
   "execution_count": 31,
   "metadata": {},
   "outputs": [
    {
     "name": "stdout",
     "output_type": "stream",
     "text": [
      "Accuracy: 0.865\n",
      "Precision: 0.8509615384615384\n",
      "Recall: 0.885\n",
      "F1-Score: 0.8676470588235293\n"
     ]
    }
   ],
   "source": [
    "# compute the accuracy, precision, recall, and f1_score to evaluate the model under BOW-tfidf situation\n",
    "\n",
    "preds_bow_tfidf = predict_class(test_tfidf_mat, weights_bow_tfidf)\n",
    "\n",
    "print('Accuracy:', accuracy_score(test_label, preds_bow_tfidf))\n",
    "print('Precision:', precision_score(test_label, preds_bow_tfidf))\n",
    "print('Recall:', recall_score(test_label, preds_bow_tfidf))\n",
    "print('F1-Score:', f1_score(test_label, preds_bow_tfidf))"
   ]
  },
  {
   "cell_type": "code",
   "execution_count": 32,
   "metadata": {},
   "outputs": [
    {
     "name": "stdout",
     "output_type": "stream",
     "text": [
      "bad\n",
      "worst\n",
      "boring\n",
      "supposed\n",
      "stupid\n",
      "harry\n",
      "ridiculous\n",
      "unfortunately\n",
      "nothing\n",
      "plot\n"
     ]
    }
   ],
   "source": [
    "# print top 10 words for negative class and positive class respectively.\n",
    "\n",
    "top_neg_bow_tfidf = weights_bow_tfidf.reshape(1, -1).argsort()[0][:10]\n",
    "for i in top_neg_bow_tfidf:\n",
    "    print(id2word_bow[i])"
   ]
  },
  {
   "cell_type": "code",
   "execution_count": 33,
   "metadata": {},
   "outputs": [
    {
     "name": "stdout",
     "output_type": "stream",
     "text": [
      "great\n",
      "life\n",
      "world\n",
      "war\n",
      "perfectly\n",
      "hilarious\n",
      "perfect\n",
      "terrific\n",
      "cameron\n",
      "damon\n"
     ]
    }
   ],
   "source": [
    "top_pos_bow_tfidf = weights_bow_tfidf.reshape(1, -1).argsort()[0][::-1][:10]\n",
    "for i in top_pos_bow_tfidf:\n",
    "    print(id2word_bow[i])"
   ]
  },
  {
   "cell_type": "markdown",
   "metadata": {},
   "source": [
    "### Analyze the top-10 words for model of BOW-TFIDF"
   ]
  },
  {
   "cell_type": "markdown",
   "metadata": {},
   "source": [
    "After observing the above top-10 words, we could find the top-10 words for BOW-TFIDF model could make more sense. Almost all of them are useful to classify if a review is positive or negative.\n",
    "\n",
    "For example, the top-10 negative words include \"bad\", \"worst\", \"boring\", \"stupid\", \"ridiculous\", \"unfortunately\", and \"nothing\", and the top-10 positive words include \"great\", \"perfectly\", \"hilarious\", \"cameron\", \"damon\", and \"terrific\". All of these words are useful to classify the opinion of movies' reviews.\n",
    "\n",
    "Among them, some are generalized well and could be used in other areas, such as \"bad\", \"worst\", \"great\", \"perfectly\", and \"terrific\". You could describe a laptop or a food is \"bad\" or \"great\". However, some of them are not generalized well and couldn't be used in other areas such as a restaurant review. Because you could not describe the food is \"ridiculous\" and there is no food related to the movie director \"Cameron\" and actor \"Damon\".\n",
    "\n",
    "We should notice that some adjective words are restricted to be used as a classification feature. Because it might be not proper to describe a food with the adjective \"romantic\"."
   ]
  },
  {
   "cell_type": "markdown",
   "metadata": {},
   "source": [
    "### Discuss how I choose hyperparameters for model of BOW-TFIDF"
   ]
  },
  {
   "cell_type": "markdown",
   "metadata": {},
   "source": [
    "1. I choose the hyperparameters (learning rate, alpha, epoch, tolerance) by testing the development(validation) dataset on several different set of hyperparameters. The set of hyperparameters which could help the model to achieve the highest validation accuracy and lowest validation loss are the best hyperparameters. I will randomly display several set of hyperparameters and the corresponding validation loss and validation accuracy.\n",
    "\n",
    "| lr | alpha |epoch  | tolerance | val_loss | val_accuracy |\n",
    "|:-:|:-:|:-:|:-:|:-:|:-:|\n",
    "| 0.000010  | 0.100000 | 300  |  0.000100 | 0.490416  | 0.835000  |\n",
    "| 0.000010  |  0.500000| 300  |  0.000100  | 0.557859 | 0.795000  |\n",
    "| 0.000010  | 0.100000   |100  | 0.000100 | 0.561617  | 0.800000 |\n",
    "| 0.000001 | 0.100000  |  300  | 0.000100  | 0.632733  | 0.760000  |\n",
    "| 0.000010  | 0.100000   |  300 | 0.000010  |0.490415  | 0.835000 |\n",
    "\n",
    "From the above table, we could find when the lr = 1e-5, alpha = 0.1, epoch = 300, tolerance = 1e-5, the validation loss is lowest (0.49) and the validation accuracy is highest (0.835). Therefore, I choose this set of hyperparameters as my best hyperparameters for model of BOW-TFIDF."
   ]
  },
  {
   "cell_type": "markdown",
   "metadata": {},
   "source": [
    "# Model 3: BOCN-COUNT"
   ]
  },
  {
   "cell_type": "markdown",
   "metadata": {},
   "source": [
    "## Training and evaluation for BOCN-COUNT\n",
    "Because we don't have the vocabulary and vectorized matrix for BOCN-COUNT/TIFDF. We need to get the vocabulary and vectorized matrix first."
   ]
  },
  {
   "cell_type": "code",
   "execution_count": 34,
   "metadata": {},
   "outputs": [],
   "source": [
    "# get the vocabular, document frequency dictionary, and counts dictionary for BOCN \n",
    "#     I choose the keep_topN = 4000 because if the keep_topN is too large, there will be too many words in vocabulary \n",
    "# for BOCN. It will slow down the training speed.\n",
    "\n",
    "#     I choose the ngram_range = (3, 5) because if the ngram_range value is too small, the character combinations \n",
    "# will be too short. At this time, different words could produce the same character combinations. For example, a\n",
    "# negative word \"worst\" contain character combinations \"wo\", but a positive word \"wonderful\" could also contain a\n",
    "# character combinations \"wo\". So, if the ngram_range value is too small, the short character combinations would be\n",
    "# confusing.\n",
    "#    Similarly, if ngram_range is too large, the character combinations would be too long. At that time, a long \n",
    "# character combination might only appear in one document. It will be also bad for model training.\n",
    "\n",
    "vocab_bocn, df_bocn, ngram_counts_bocn = get_vocab(X_raw = train_text, ngram_range = (3, 5), min_df = 0, \n",
    "                                                   keep_topN = 4000, stop_words = stop_words, char_ngrams = True)"
   ]
  },
  {
   "cell_type": "code",
   "execution_count": 35,
   "metadata": {},
   "outputs": [],
   "source": [
    "#     create 2 dictionaries: (1) id2word_bocn: keys = vocabulary ids, values = words (2) word2id_bocn: keys = words, \n",
    "# values = vocabulary ids for BOCN\n",
    "\n",
    "id2word_bocn = dict()\n",
    "word2id_bocn = dict()\n",
    "\n",
    "for i in range(len(vocab_bocn)):\n",
    "    id2word_bocn[i] = list(vocab_bocn)[i]\n",
    "    word2id_bocn[list(vocab_bocn)[i]] = i"
   ]
  },
  {
   "cell_type": "code",
   "execution_count": 36,
   "metadata": {},
   "outputs": [],
   "source": [
    "# initialize three list for training texts, development texts, and test texts features of BOCN\n",
    "train_extracted_ngrams_bocn = []\n",
    "dev_extracted_ngrams_bocn = []\n",
    "test_extracted_ngrams_bocn = []\n",
    "\n",
    "# extract ngrams for training set\n",
    "for i in range(len(train_text)):\n",
    "    temp = extract_ngrams(x_raw = train_text[i], ngram_range = (3, 5), \n",
    "                          stop_words = stop_words, char_ngrams = True)\n",
    "    train_extracted_ngrams_bocn.append(temp)\n",
    "\n",
    "# extract ngrams for development set\n",
    "for i in range(len(dev_text)):\n",
    "    temp = extract_ngrams(x_raw = dev_text[i], ngram_range = (3, 5),\n",
    "                         stop_words = stop_words, char_ngrams = True)\n",
    "    dev_extracted_ngrams_bocn.append(temp)\n",
    "\n",
    "# extract ngrams for test set\n",
    "for i in range(len(test_text)):\n",
    "    temp = extract_ngrams(x_raw = test_text[i], ngram_range = (3, 5),\n",
    "                         stop_words = stop_words, char_ngrams = True)\n",
    "    test_extracted_ngrams_bocn.append(temp)\n",
    "    "
   ]
  },
  {
   "cell_type": "code",
   "execution_count": 37,
   "metadata": {},
   "outputs": [],
   "source": [
    "# obtain count vectors for each document in the train, developemnt and test set of BOCN\n",
    "train_count_mat_bocn = vectorise(train_extracted_ngrams_bocn, vocab_bocn, word2id_bocn)\n",
    "dev_count_mat_bocn = vectorise(dev_extracted_ngrams_bocn, vocab_bocn, word2id_bocn)\n",
    "test_count_mat_bocn = vectorise(test_extracted_ngrams_bocn, vocab_bocn, word2id_bocn)"
   ]
  },
  {
   "cell_type": "code",
   "execution_count": 38,
   "metadata": {},
   "outputs": [],
   "source": [
    "# compute the inverted document frequencies values for words in vocab_bocn\n",
    "idfs_bocn = np.zeros((1, len(vocab_bocn)))\n",
    "for i in range(len(vocab_bocn)):\n",
    "    idfs_bocn[0, i] = np.log10(len(train_text)/df_bocn[list(vocab_bocn)[i]])"
   ]
  },
  {
   "cell_type": "code",
   "execution_count": 39,
   "metadata": {},
   "outputs": [],
   "source": [
    "# transform the count vectors to tf.idf vectors\n",
    "\n",
    "train_tfidf_mat_bocn = train_count_mat_bocn * idfs_bocn\n",
    "dev_tfidf_mat_bocn = dev_count_mat_bocn * idfs_bocn\n",
    "test_tfidf_mat_bocn = test_count_mat_bocn * idfs_bocn"
   ]
  },
  {
   "cell_type": "markdown",
   "metadata": {},
   "source": [
    "Now, we have the feature matrices for BOCN. We could train the model and evaluate for BOCN-COUNT."
   ]
  },
  {
   "cell_type": "markdown",
   "metadata": {},
   "source": [
    "## Hyperparameters tunning for the model of BOCN-COUNT\n",
    "\n",
    "Please don't count the running time of this hyperparameters tunning process."
   ]
  },
  {
   "cell_type": "code",
   "execution_count": 40,
   "metadata": {
    "scrolled": true
   },
   "outputs": [
    {
     "name": "stdout",
     "output_type": "stream",
     "text": [
      "lr = 0.000010, alpha = 0.500000, epoch =  30, tolerance = 0.000010, val_loss = 0.493779, val_acc = 0.785000\n",
      "\n",
      "lr = 0.000010, alpha = 0.500000, epoch =  30, tolerance = 0.000000, val_loss = 0.493751, val_acc = 0.785000\n",
      "\n",
      "lr = 0.000010, alpha = 0.500000, epoch = 100, tolerance = 0.000010, val_loss = 0.468004, val_acc = 0.770000\n",
      "\n",
      "lr = 0.000010, alpha = 0.500000, epoch = 100, tolerance = 0.000000, val_loss = 0.469430, val_acc = 0.765000\n",
      "\n",
      "lr = 0.000010, alpha = 0.300000, epoch =  30, tolerance = 0.000010, val_loss = 0.491184, val_acc = 0.775000\n",
      "\n",
      "lr = 0.000010, alpha = 0.300000, epoch =  30, tolerance = 0.000000, val_loss = 0.491716, val_acc = 0.775000\n",
      "\n",
      "lr = 0.000010, alpha = 0.300000, epoch = 100, tolerance = 0.000010, val_loss = 0.473518, val_acc = 0.780000\n",
      "\n",
      "lr = 0.000010, alpha = 0.300000, epoch = 100, tolerance = 0.000000, val_loss = 0.468880, val_acc = 0.755000\n",
      "\n",
      "lr = 0.000001, alpha = 0.500000, epoch =  30, tolerance = 0.000010, val_loss = 0.611111, val_acc = 0.740000\n",
      "\n",
      "lr = 0.000001, alpha = 0.500000, epoch =  30, tolerance = 0.000000, val_loss = 0.611014, val_acc = 0.740000\n",
      "\n",
      "lr = 0.000001, alpha = 0.500000, epoch = 100, tolerance = 0.000010, val_loss = 0.546285, val_acc = 0.760000\n",
      "\n",
      "lr = 0.000001, alpha = 0.500000, epoch = 100, tolerance = 0.000000, val_loss = 0.546292, val_acc = 0.775000\n",
      "\n",
      "lr = 0.000001, alpha = 0.300000, epoch =  30, tolerance = 0.000010, val_loss = 0.610593, val_acc = 0.705000\n",
      "\n",
      "lr = 0.000001, alpha = 0.300000, epoch =  30, tolerance = 0.000000, val_loss = 0.610604, val_acc = 0.710000\n",
      "\n",
      "lr = 0.000001, alpha = 0.300000, epoch = 100, tolerance = 0.000010, val_loss = 0.545247, val_acc = 0.760000\n",
      "\n",
      "lr = 0.000001, alpha = 0.300000, epoch = 100, tolerance = 0.000000, val_loss = 0.545424, val_acc = 0.775000\n",
      "\n",
      "The best parameters are: lr = 1e-05, alpha = 0.5, epoch = 100, tolerance = 1e-05\n"
     ]
    }
   ],
   "source": [
    "# choose the best hyperparameters for BOCN-COUNT\n",
    "\n",
    "best_parameter_bocn_c = choose_hyper(train_count_mat_bocn, train_label, dev_count_mat_bocn, dev_label, \n",
    "                              lr_candidate = [1e-5, 1e-6], alpha_candidate = [5*1e-1, 3*1e-1], \n",
    "                              epoch_candidate = [30, 100], tolerance_candidate = [1e-5, 0])"
   ]
  },
  {
   "cell_type": "markdown",
   "metadata": {},
   "source": [
    "End of hyperparameters tunning."
   ]
  },
  {
   "cell_type": "markdown",
   "metadata": {},
   "source": [
    "## Train the model of BOCN-COUNT by using the best hyperparameters we chose"
   ]
  },
  {
   "cell_type": "code",
   "execution_count": 41,
   "metadata": {
    "scrolled": true
   },
   "outputs": [
    {
     "name": "stdout",
     "output_type": "stream",
     "text": [
      "epoch   0: training loss is 0.645586, validation loss is 0.653823.\n",
      "epoch   1: training loss is 0.614293, validation loss is 0.631708.\n",
      "epoch   2: training loss is 0.586714, validation loss is 0.610302.\n",
      "epoch   3: training loss is 0.566642, validation loss is 0.598398.\n",
      "epoch   4: training loss is 0.545757, validation loss is 0.583770.\n",
      "epoch   5: training loss is 0.529950, validation loss is 0.573969.\n",
      "epoch   6: training loss is 0.516108, validation loss is 0.566292.\n",
      "epoch   7: training loss is 0.503049, validation loss is 0.558482.\n",
      "epoch   8: training loss is 0.491771, validation loss is 0.552827.\n",
      "epoch   9: training loss is 0.480385, validation loss is 0.546071.\n",
      "epoch  10: training loss is 0.471549, validation loss is 0.542238.\n",
      "epoch  11: training loss is 0.462171, validation loss is 0.537103.\n",
      "epoch  12: training loss is 0.454674, validation loss is 0.533925.\n",
      "epoch  13: training loss is 0.445727, validation loss is 0.528402.\n",
      "epoch  14: training loss is 0.438677, validation loss is 0.524381.\n",
      "epoch  15: training loss is 0.432102, validation loss is 0.521093.\n",
      "epoch  16: training loss is 0.425272, validation loss is 0.518268.\n",
      "epoch  17: training loss is 0.419327, validation loss is 0.515265.\n",
      "epoch  18: training loss is 0.415314, validation loss is 0.513684.\n",
      "epoch  19: training loss is 0.408523, validation loss is 0.511294.\n",
      "epoch  20: training loss is 0.405593, validation loss is 0.509705.\n",
      "epoch  21: training loss is 0.398580, validation loss is 0.506307.\n",
      "epoch  22: training loss is 0.393902, validation loss is 0.504439.\n",
      "epoch  23: training loss is 0.389691, validation loss is 0.502595.\n",
      "epoch  24: training loss is 0.386981, validation loss is 0.504300.\n",
      "epoch  25: training loss is 0.381313, validation loss is 0.499842.\n",
      "epoch  26: training loss is 0.377982, validation loss is 0.499523.\n",
      "epoch  27: training loss is 0.373824, validation loss is 0.497063.\n",
      "epoch  28: training loss is 0.376340, validation loss is 0.504750.\n",
      "epoch  29: training loss is 0.368351, validation loss is 0.494504.\n",
      "epoch  30: training loss is 0.364820, validation loss is 0.493256.\n",
      "epoch  31: training loss is 0.360721, validation loss is 0.491671.\n",
      "epoch  32: training loss is 0.357808, validation loss is 0.490558.\n",
      "epoch  33: training loss is 0.354861, validation loss is 0.491082.\n",
      "epoch  34: training loss is 0.353937, validation loss is 0.489647.\n",
      "epoch  35: training loss is 0.350180, validation loss is 0.488061.\n",
      "epoch  36: training loss is 0.347680, validation loss is 0.490138.\n",
      "epoch  37: training loss is 0.343774, validation loss is 0.486460.\n",
      "epoch  38: training loss is 0.341363, validation loss is 0.485850.\n",
      "epoch  39: training loss is 0.338909, validation loss is 0.484894.\n",
      "epoch  40: training loss is 0.336730, validation loss is 0.483725.\n",
      "epoch  41: training loss is 0.334443, validation loss is 0.483988.\n",
      "epoch  42: training loss is 0.334598, validation loss is 0.487704.\n",
      "epoch  43: training loss is 0.330052, validation loss is 0.482413.\n",
      "epoch  44: training loss is 0.328038, validation loss is 0.481417.\n",
      "epoch  45: training loss is 0.327500, validation loss is 0.480951.\n",
      "epoch  46: training loss is 0.324107, validation loss is 0.480244.\n",
      "epoch  47: training loss is 0.322515, validation loss is 0.479550.\n",
      "epoch  48: training loss is 0.321354, validation loss is 0.479254.\n",
      "epoch  49: training loss is 0.322244, validation loss is 0.480334.\n",
      "epoch  50: training loss is 0.317519, validation loss is 0.480566.\n",
      "epoch  51: training loss is 0.322191, validation loss is 0.482318.\n",
      "epoch  52: training loss is 0.313550, validation loss is 0.477496.\n",
      "epoch  53: training loss is 0.312004, validation loss is 0.477907.\n",
      "epoch  54: training loss is 0.310374, validation loss is 0.477252.\n",
      "epoch  55: training loss is 0.309040, validation loss is 0.476096.\n",
      "epoch  56: training loss is 0.307322, validation loss is 0.476378.\n",
      "epoch  57: training loss is 0.305979, validation loss is 0.475662.\n",
      "epoch  58: training loss is 0.304598, validation loss is 0.475257.\n",
      "epoch  59: training loss is 0.303143, validation loss is 0.475842.\n",
      "epoch  60: training loss is 0.301713, validation loss is 0.475157.\n",
      "epoch  61: training loss is 0.300408, validation loss is 0.474498.\n",
      "epoch  62: training loss is 0.299405, validation loss is 0.475767.\n",
      "epoch  63: training loss is 0.297836, validation loss is 0.474230.\n",
      "epoch  64: training loss is 0.296634, validation loss is 0.473535.\n",
      "epoch  65: training loss is 0.295740, validation loss is 0.474924.\n",
      "epoch  66: training loss is 0.294432, validation loss is 0.474360.\n",
      "epoch  67: training loss is 0.294742, validation loss is 0.472946.\n",
      "epoch  68: training loss is 0.292280, validation loss is 0.472362.\n",
      "epoch  69: training loss is 0.290960, validation loss is 0.473468.\n",
      "epoch  70: training loss is 0.291022, validation loss is 0.471995.\n",
      "epoch  71: training loss is 0.289962, validation loss is 0.471683.\n",
      "epoch  72: training loss is 0.287720, validation loss is 0.471593.\n",
      "epoch  73: training loss is 0.286962, validation loss is 0.471274.\n",
      "epoch  74: training loss is 0.285700, validation loss is 0.472029.\n",
      "epoch  75: training loss is 0.284696, validation loss is 0.471278.\n",
      "epoch  76: training loss is 0.284569, validation loss is 0.473928.\n",
      "epoch  77: training loss is 0.283320, validation loss is 0.473083.\n",
      "epoch  78: training loss is 0.282190, validation loss is 0.470487.\n",
      "epoch  79: training loss is 0.280997, validation loss is 0.470969.\n",
      "epoch  80: training loss is 0.280412, validation loss is 0.470127.\n",
      "epoch  81: training loss is 0.279317, validation loss is 0.471102.\n",
      "epoch  82: training loss is 0.278902, validation loss is 0.469691.\n",
      "epoch  83: training loss is 0.277584, validation loss is 0.470065.\n",
      "epoch  84: training loss is 0.277148, validation loss is 0.471675.\n",
      "epoch  85: training loss is 0.276673, validation loss is 0.472343.\n",
      "epoch  86: training loss is 0.276528, validation loss is 0.473538.\n",
      "epoch  87: training loss is 0.274412, validation loss is 0.469801.\n",
      "epoch  88: training loss is 0.273817, validation loss is 0.469171.\n",
      "epoch  89: training loss is 0.273869, validation loss is 0.472470.\n",
      "epoch  90: training loss is 0.272199, validation loss is 0.469449.\n",
      "epoch  91: training loss is 0.272442, validation loss is 0.468756.\n",
      "epoch  92: training loss is 0.270804, validation loss is 0.469252.\n",
      "epoch  93: training loss is 0.270117, validation loss is 0.469136.\n",
      "epoch  94: training loss is 0.270152, validation loss is 0.471565.\n",
      "epoch  95: training loss is 0.269793, validation loss is 0.468367.\n",
      "epoch  96: training loss is 0.268366, validation loss is 0.470058.\n",
      "epoch  97: training loss is 0.267636, validation loss is 0.468216.\n",
      "epoch  98: training loss is 0.267125, validation loss is 0.469952.\n",
      "epoch  99: training loss is 0.266448, validation loss is 0.468028.\n"
     ]
    }
   ],
   "source": [
    "# Under BOCN-COUNT situation, training the model by using the best parameters\n",
    "weights_bocn_c, tra_loss_bocn_c, val_loss_bocn_c = SGD(train_count_mat_bocn, train_label, dev_count_mat_bocn, \n",
    "                                                       dev_label, \n",
    "                                                       lr = best_parameter_bocn_c[0], \n",
    "                                                       alpha = best_parameter_bocn_c[1],\n",
    "                                                       epochs = best_parameter_bocn_c[2],\n",
    "                                                       tolerance = best_parameter_bocn_c[3], \n",
    "                                                       print_progress = True)"
   ]
  },
  {
   "cell_type": "code",
   "execution_count": 42,
   "metadata": {},
   "outputs": [
    {
     "data": {
      "image/png": "[encoded data removed]",
      "text/plain": [
       "<Figure size 432x288 with 1 Axes>"
      ]
     },
     "metadata": {
      "needs_background": "light"
     },
     "output_type": "display_data"
    }
   ],
   "source": [
    "# plot the figure to check the training and validation loss during the training process\n",
    "\n",
    "plot_loss_history(tra_loss_bocn_c, val_loss_bocn_c, \"BOCN-COUNT(fig-3)\")"
   ]
  },
  {
   "cell_type": "markdown",
   "metadata": {},
   "source": [
    "### Analyze the loss-epoch figure for model of BOCN-COUNT "
   ]
  },
  {
   "cell_type": "markdown",
   "metadata": {},
   "source": [
    "From figure 3, we could know the model for BOCN-COUNT is trained well.\n",
    "\n",
    "1. Because the final validation loss is low enough (about 0.46) and the validation loss tends to be flat from declining at the end of training, the model is not underfitted.\n",
    "\n",
    "2. The difference between the final training loss and the final validation loss is small (about 0.2) and the validation loss doesn't have the overall tendency to rise. Therefore, the model is not overfitted."
   ]
  },
  {
   "cell_type": "code",
   "execution_count": 43,
   "metadata": {},
   "outputs": [
    {
     "name": "stdout",
     "output_type": "stream",
     "text": [
      "Accuracy: 0.82\n",
      "Precision: 0.8232323232323232\n",
      "Recall: 0.815\n",
      "F1-Score: 0.8190954773869347\n"
     ]
    }
   ],
   "source": [
    "# compute the accuracy, precision, recall, and f1_score to evaluate the model under BOCN-count situation\n",
    "\n",
    "preds_bocn_c = predict_class(test_count_mat_bocn, weights_bocn_c)\n",
    "\n",
    "print('Accuracy:', accuracy_score(test_label, preds_bocn_c))\n",
    "print('Precision:', precision_score(test_label, preds_bocn_c))\n",
    "print('Recall:', recall_score(test_label, preds_bocn_c))\n",
    "print('F1-Score:', f1_score(test_label, preds_bocn_c))"
   ]
  },
  {
   "cell_type": "code",
   "execution_count": 44,
   "metadata": {},
   "outputs": [
    {
     "name": "stdout",
     "output_type": "stream",
     "text": [
      "bad\n",
      "ors\n",
      "esa\n",
      "wors\n",
      "tal\n",
      "nly\n",
      "was\n",
      "only\n",
      "hen\n",
      "plo\n"
     ]
    }
   ],
   "source": [
    "# print top 10 words for negative class and positive class respectively.\n",
    "\n",
    "top_neg_bocn_c = weights_bocn_c.reshape(1, -1).argsort()[0][:10]\n",
    "for i in top_neg_bocn_c:\n",
    "    print(id2word_bocn[i])"
   ]
  },
  {
   "cell_type": "code",
   "execution_count": 45,
   "metadata": {},
   "outputs": [
    {
     "name": "stdout",
     "output_type": "stream",
     "text": [
      "ese\n",
      "gre\n",
      "ral\n",
      "erf\n",
      "tru\n",
      "grea\n",
      "lar\n",
      "ood\n",
      "eca\n",
      "great\n"
     ]
    }
   ],
   "source": [
    "top_pos_bocn_c = weights_bocn_c.reshape(1, -1).argsort()[0][::-1][:10]\n",
    "for i in top_pos_bocn_c:\n",
    "    print(id2word_bocn[i])"
   ]
  },
  {
   "cell_type": "markdown",
   "metadata": {},
   "source": [
    "### Analyze the top-10 words for model of BOCN-COUNT"
   ]
  },
  {
   "cell_type": "markdown",
   "metadata": {},
   "source": [
    "The top-10 character combinations of model for BOCN-COUNT make sense for sentiment classification task.\n",
    "\n",
    "For example, \"wors\", \"ors\" is part of the word \"worst\", and \"bad\" is equal to the word \"bad\". Then, \"gre\", \"grea\" is part of the word \"great\", and \"erf\" is part of the word \"perfect\". These words could be used to describe a movie.\n",
    "\n",
    "Then, I think these character combinations are generalized well in other domain like restaurant review. Because it is reasonable to say \"this is the worst food I have ever eaten\" and \"this is a great meal\".\n",
    "\n",
    "For a restraurant review domain, the classifier may pick up character combinations like \"delic\"(part of delicious), \"tast\"(part of \"tasty\")...\n"
   ]
  },
  {
   "cell_type": "markdown",
   "metadata": {},
   "source": [
    "### Discuss how I choose hyperparameters for model of BOCN-COUNT"
   ]
  },
  {
   "cell_type": "markdown",
   "metadata": {},
   "source": [
    "1. I choose the hyperparameters (learning rate, alpha, epoch, tolerance) by testing the development(validation) dataset on several different set of hyperparameters. The set of hyperparameters which could help the model to achieve the highest validation accuracy and lowest validation loss are the best hyperparameters. I will randomly display several set of hyperparameters and the corresponding validation loss and validation accuracy.\n",
    "\n",
    "| lr | alpha |epoch  | tolerance | val_loss | val_accuracy |\n",
    "|:-:|:-:|:-:|:-:|:-:|:-:|\n",
    "| 0.000010  | 0.500000 | 100  |  0.000010 | 0.468004 | 0.790000  |\n",
    "| 0.000010  |  0.300000| 100  |  0.000010  | 0.473518 | 0.780000  |\n",
    "| 0.000010  | 0.500000   |30  | 0.000010 | 0.493779  | 0.785000 |\n",
    "| 0.000001 | 0.500000  |  100  | 0.000010  | 0.546285  | 0.760000 |\n",
    "| 0.000010  | 0.500000   |  100 | 0  |0.469430  | 0.765000 |\n",
    "\n",
    "From the above table, we could find when the lr = 1e-5, alpha = 0.5, epoch = 100, tolerance = 1e-5, the validation loss is lowest (0.468) and the validation accuracy is highest (0.79). Therefore, I choose this set of hyperparameters as my best hyperparameters for model of BOCN-COUNT."
   ]
  },
  {
   "cell_type": "markdown",
   "metadata": {},
   "source": [
    "# Model 4: BOCN-TFIDF"
   ]
  },
  {
   "cell_type": "markdown",
   "metadata": {},
   "source": [
    "## Training and evaluate for BOCN-tfidf"
   ]
  },
  {
   "cell_type": "markdown",
   "metadata": {},
   "source": [
    "## The hyperparameters tuning part for the model of BOCN-TFIDF\n",
    "\n",
    "Please don't count the running time of this part."
   ]
  },
  {
   "cell_type": "code",
   "execution_count": 46,
   "metadata": {
    "scrolled": true
   },
   "outputs": [
    {
     "name": "stdout",
     "output_type": "stream",
     "text": [
      "lr = 0.000010, alpha = 0.500000, epoch = 100, tolerance = 0.000100, val_loss = 0.558239, val_acc = 0.775000\n",
      "\n",
      "lr = 0.000010, alpha = 0.500000, epoch = 100, tolerance = 0.000010, val_loss = 0.558246, val_acc = 0.775000\n",
      "\n",
      "lr = 0.000010, alpha = 0.500000, epoch = 300, tolerance = 0.000100, val_loss = 0.543069, val_acc = 0.780000\n",
      "\n",
      "lr = 0.000010, alpha = 0.500000, epoch = 300, tolerance = 0.000010, val_loss = 0.536460, val_acc = 0.775000\n",
      "\n",
      "lr = 0.000010, alpha = 0.100000, epoch = 100, tolerance = 0.000100, val_loss = 0.536973, val_acc = 0.780000\n",
      "\n",
      "lr = 0.000010, alpha = 0.100000, epoch = 100, tolerance = 0.000010, val_loss = 0.536955, val_acc = 0.785000\n",
      "\n",
      "lr = 0.000010, alpha = 0.100000, epoch = 300, tolerance = 0.000100, val_loss = 0.503381, val_acc = 0.770000\n",
      "\n",
      "lr = 0.000010, alpha = 0.100000, epoch = 300, tolerance = 0.000010, val_loss = 0.489931, val_acc = 0.765000\n",
      "\n",
      "lr = 0.000001, alpha = 0.500000, epoch = 100, tolerance = 0.000100, val_loss = 0.656220, val_acc = 0.655000\n",
      "\n",
      "lr = 0.000001, alpha = 0.500000, epoch = 100, tolerance = 0.000010, val_loss = 0.656217, val_acc = 0.650000\n",
      "\n",
      "lr = 0.000001, alpha = 0.500000, epoch = 300, tolerance = 0.000100, val_loss = 0.613613, val_acc = 0.735000\n",
      "\n",
      "lr = 0.000001, alpha = 0.500000, epoch = 300, tolerance = 0.000010, val_loss = 0.613611, val_acc = 0.735000\n",
      "\n",
      "lr = 0.000001, alpha = 0.100000, epoch = 100, tolerance = 0.000100, val_loss = 0.655336, val_acc = 0.660000\n",
      "\n",
      "lr = 0.000001, alpha = 0.100000, epoch = 100, tolerance = 0.000010, val_loss = 0.655330, val_acc = 0.660000\n",
      "\n",
      "lr = 0.000001, alpha = 0.100000, epoch = 300, tolerance = 0.000100, val_loss = 0.608475, val_acc = 0.735000\n",
      "\n",
      "lr = 0.000001, alpha = 0.100000, epoch = 300, tolerance = 0.000010, val_loss = 0.608474, val_acc = 0.735000\n",
      "\n",
      "The best parameters are: lr = 1e-05, alpha = 0.1, epoch = 300, tolerance = 1e-05\n"
     ]
    }
   ],
   "source": [
    "# choose the best hyperparameters for BOCN-tfidf\n",
    "\n",
    "best_parameter_bocn_tfidf = choose_hyper(train_tfidf_mat_bocn, train_label, dev_tfidf_mat_bocn, dev_label, \n",
    "                              lr_candidate = [1e-5, 1e-6], alpha_candidate = [5*1e-1, 1e-1], \n",
    "                              epoch_candidate = [100, 300], tolerance_candidate = [1e-4, 1e-5])"
   ]
  },
  {
   "cell_type": "markdown",
   "metadata": {},
   "source": [
    "End of the hyperparameters tuning process."
   ]
  },
  {
   "cell_type": "markdown",
   "metadata": {},
   "source": [
    "## Train the model of BOCN-TFIDF by using the best hyperparameters."
   ]
  },
  {
   "cell_type": "code",
   "execution_count": 47,
   "metadata": {
    "scrolled": true
   },
   "outputs": [
    {
     "name": "stdout",
     "output_type": "stream",
     "text": [
      "epoch   0: training loss is 0.685852, validation loss is 0.687071.\n",
      "epoch   1: training loss is 0.679900, validation loss is 0.682709.\n",
      "epoch   2: training loss is 0.674313, validation loss is 0.678848.\n",
      "epoch   3: training loss is 0.668899, validation loss is 0.675120.\n",
      "epoch   4: training loss is 0.663651, validation loss is 0.671512.\n",
      "epoch   5: training loss is 0.658564, validation loss is 0.668081.\n",
      "epoch   6: training loss is 0.653614, validation loss is 0.664702.\n",
      "epoch   7: training loss is 0.648803, validation loss is 0.661434.\n",
      "epoch   8: training loss is 0.644118, validation loss is 0.658320.\n",
      "epoch   9: training loss is 0.639563, validation loss is 0.655235.\n",
      "epoch  10: training loss is 0.635116, validation loss is 0.652299.\n",
      "epoch  11: training loss is 0.630786, validation loss is 0.649474.\n",
      "epoch  12: training loss is 0.626570, validation loss is 0.646689.\n",
      "epoch  13: training loss is 0.622453, validation loss is 0.643919.\n",
      "epoch  14: training loss is 0.618443, validation loss is 0.641277.\n",
      "epoch  15: training loss is 0.614539, validation loss is 0.638744.\n",
      "epoch  16: training loss is 0.610704, validation loss is 0.636128.\n",
      "epoch  17: training loss is 0.606973, validation loss is 0.633659.\n",
      "epoch  18: training loss is 0.603327, validation loss is 0.631274.\n",
      "epoch  19: training loss is 0.599767, validation loss is 0.628948.\n",
      "epoch  20: training loss is 0.596289, validation loss is 0.626694.\n",
      "epoch  21: training loss is 0.592890, validation loss is 0.624483.\n",
      "epoch  22: training loss is 0.589553, validation loss is 0.622241.\n",
      "epoch  23: training loss is 0.586320, validation loss is 0.620083.\n",
      "epoch  24: training loss is 0.583112, validation loss is 0.618070.\n",
      "epoch  25: training loss is 0.579993, validation loss is 0.616043.\n",
      "epoch  26: training loss is 0.576947, validation loss is 0.614041.\n",
      "epoch  27: training loss is 0.573950, validation loss is 0.612152.\n",
      "epoch  28: training loss is 0.571019, validation loss is 0.610241.\n",
      "epoch  29: training loss is 0.568151, validation loss is 0.608386.\n",
      "epoch  30: training loss is 0.565335, validation loss is 0.606585.\n",
      "epoch  31: training loss is 0.562571, validation loss is 0.604834.\n",
      "epoch  32: training loss is 0.559872, validation loss is 0.603158.\n",
      "epoch  33: training loss is 0.557211, validation loss is 0.601456.\n",
      "epoch  34: training loss is 0.554600, validation loss is 0.599778.\n",
      "epoch  35: training loss is 0.552043, validation loss is 0.598174.\n",
      "epoch  36: training loss is 0.549532, validation loss is 0.596578.\n",
      "epoch  37: training loss is 0.547081, validation loss is 0.595026.\n",
      "epoch  38: training loss is 0.544645, validation loss is 0.593511.\n",
      "epoch  39: training loss is 0.542262, validation loss is 0.592030.\n",
      "epoch  40: training loss is 0.539924, validation loss is 0.590575.\n",
      "epoch  41: training loss is 0.537624, validation loss is 0.589143.\n",
      "epoch  42: training loss is 0.535364, validation loss is 0.587739.\n",
      "epoch  43: training loss is 0.533159, validation loss is 0.586375.\n",
      "epoch  44: training loss is 0.530965, validation loss is 0.585023.\n",
      "epoch  45: training loss is 0.528812, validation loss is 0.583702.\n",
      "epoch  46: training loss is 0.526691, validation loss is 0.582403.\n",
      "epoch  47: training loss is 0.524614, validation loss is 0.581136.\n",
      "epoch  48: training loss is 0.522586, validation loss is 0.579911.\n",
      "epoch  49: training loss is 0.520561, validation loss is 0.578678.\n",
      "epoch  50: training loss is 0.518560, validation loss is 0.577456.\n",
      "epoch  51: training loss is 0.516602, validation loss is 0.576271.\n",
      "epoch  52: training loss is 0.514681, validation loss is 0.575120.\n",
      "epoch  53: training loss is 0.512781, validation loss is 0.573976.\n",
      "epoch  54: training loss is 0.510909, validation loss is 0.572848.\n",
      "epoch  55: training loss is 0.509070, validation loss is 0.571757.\n",
      "epoch  56: training loss is 0.507257, validation loss is 0.570682.\n",
      "epoch  57: training loss is 0.505477, validation loss is 0.569638.\n",
      "epoch  58: training loss is 0.503701, validation loss is 0.568570.\n",
      "epoch  59: training loss is 0.501959, validation loss is 0.567534.\n",
      "epoch  60: training loss is 0.500244, validation loss is 0.566527.\n",
      "epoch  61: training loss is 0.498553, validation loss is 0.565538.\n",
      "epoch  62: training loss is 0.496892, validation loss is 0.564582.\n",
      "epoch  63: training loss is 0.495243, validation loss is 0.563613.\n",
      "epoch  64: training loss is 0.493615, validation loss is 0.562658.\n",
      "epoch  65: training loss is 0.492011, validation loss is 0.561726.\n",
      "epoch  66: training loss is 0.490428, validation loss is 0.560803.\n",
      "epoch  67: training loss is 0.488871, validation loss is 0.559921.\n",
      "epoch  68: training loss is 0.487345, validation loss is 0.559075.\n",
      "epoch  69: training loss is 0.485811, validation loss is 0.558173.\n",
      "epoch  70: training loss is 0.484304, validation loss is 0.557302.\n",
      "epoch  71: training loss is 0.482815, validation loss is 0.556414.\n",
      "epoch  72: training loss is 0.481350, validation loss is 0.555596.\n",
      "epoch  73: training loss is 0.479902, validation loss is 0.554759.\n",
      "epoch  74: training loss is 0.478484, validation loss is 0.553915.\n",
      "epoch  75: training loss is 0.477062, validation loss is 0.553130.\n",
      "epoch  76: training loss is 0.475670, validation loss is 0.552335.\n",
      "epoch  77: training loss is 0.474283, validation loss is 0.551595.\n",
      "epoch  78: training loss is 0.472924, validation loss is 0.550799.\n",
      "epoch  79: training loss is 0.471572, validation loss is 0.550058.\n",
      "epoch  80: training loss is 0.470242, validation loss is 0.549364.\n",
      "epoch  81: training loss is 0.468923, validation loss is 0.548628.\n",
      "epoch  82: training loss is 0.467620, validation loss is 0.547885.\n",
      "epoch  83: training loss is 0.466333, validation loss is 0.547185.\n",
      "epoch  84: training loss is 0.465060, validation loss is 0.546469.\n",
      "epoch  85: training loss is 0.463801, validation loss is 0.545780.\n",
      "epoch  86: training loss is 0.462557, validation loss is 0.545079.\n",
      "epoch  87: training loss is 0.461325, validation loss is 0.544412.\n",
      "epoch  88: training loss is 0.460110, validation loss is 0.543791.\n",
      "epoch  89: training loss is 0.458901, validation loss is 0.543115.\n",
      "epoch  90: training loss is 0.457712, validation loss is 0.542496.\n",
      "epoch  91: training loss is 0.456530, validation loss is 0.541843.\n",
      "epoch  92: training loss is 0.455365, validation loss is 0.541150.\n",
      "epoch  93: training loss is 0.454206, validation loss is 0.540550.\n",
      "epoch  94: training loss is 0.453064, validation loss is 0.539931.\n",
      "epoch  95: training loss is 0.451932, validation loss is 0.539367.\n",
      "epoch  96: training loss is 0.450811, validation loss is 0.538753.\n",
      "epoch  97: training loss is 0.449704, validation loss is 0.538131.\n",
      "epoch  98: training loss is 0.448605, validation loss is 0.537585.\n",
      "epoch  99: training loss is 0.447519, validation loss is 0.537017.\n",
      "epoch 100: training loss is 0.446443, validation loss is 0.536457.\n",
      "epoch 101: training loss is 0.445378, validation loss is 0.535902.\n",
      "epoch 102: training loss is 0.444322, validation loss is 0.535314.\n",
      "epoch 103: training loss is 0.443284, validation loss is 0.534719.\n",
      "epoch 104: training loss is 0.442258, validation loss is 0.534153.\n",
      "epoch 105: training loss is 0.441220, validation loss is 0.533679.\n",
      "epoch 106: training loss is 0.440204, validation loss is 0.533162.\n",
      "epoch 107: training loss is 0.439199, validation loss is 0.532673.\n",
      "epoch 108: training loss is 0.438204, validation loss is 0.532139.\n",
      "epoch 109: training loss is 0.437218, validation loss is 0.531610.\n",
      "epoch 110: training loss is 0.436241, validation loss is 0.531095.\n",
      "epoch 111: training loss is 0.435273, validation loss is 0.530592.\n",
      "epoch 112: training loss is 0.434312, validation loss is 0.530123.\n",
      "epoch 113: training loss is 0.433361, validation loss is 0.529665.\n",
      "epoch 114: training loss is 0.432419, validation loss is 0.529159.\n",
      "epoch 115: training loss is 0.431487, validation loss is 0.528734.\n",
      "epoch 116: training loss is 0.430561, validation loss is 0.528264.\n",
      "epoch 117: training loss is 0.429643, validation loss is 0.527785.\n",
      "epoch 118: training loss is 0.428734, validation loss is 0.527300.\n",
      "epoch 119: training loss is 0.427834, validation loss is 0.526829.\n",
      "epoch 120: training loss is 0.426940, validation loss is 0.526406.\n",
      "epoch 121: training loss is 0.426057, validation loss is 0.526011.\n",
      "epoch 122: training loss is 0.425177, validation loss is 0.525544.\n"
     ]
    },
    {
     "name": "stdout",
     "output_type": "stream",
     "text": [
      "epoch 123: training loss is 0.424307, validation loss is 0.525084.\n",
      "epoch 124: training loss is 0.423450, validation loss is 0.524596.\n",
      "epoch 125: training loss is 0.422593, validation loss is 0.524183.\n",
      "epoch 126: training loss is 0.421742, validation loss is 0.523859.\n",
      "epoch 127: training loss is 0.420900, validation loss is 0.523426.\n",
      "epoch 128: training loss is 0.420068, validation loss is 0.522951.\n",
      "epoch 129: training loss is 0.419239, validation loss is 0.522566.\n",
      "epoch 130: training loss is 0.418419, validation loss is 0.522171.\n",
      "epoch 131: training loss is 0.417605, validation loss is 0.521789.\n",
      "epoch 132: training loss is 0.416798, validation loss is 0.521381.\n",
      "epoch 133: training loss is 0.415997, validation loss is 0.521031.\n",
      "epoch 134: training loss is 0.415204, validation loss is 0.520658.\n",
      "epoch 135: training loss is 0.414416, validation loss is 0.520246.\n",
      "epoch 136: training loss is 0.413635, validation loss is 0.519879.\n",
      "epoch 137: training loss is 0.412860, validation loss is 0.519505.\n",
      "epoch 138: training loss is 0.412094, validation loss is 0.519075.\n",
      "epoch 139: training loss is 0.411333, validation loss is 0.518695.\n",
      "epoch 140: training loss is 0.410571, validation loss is 0.518420.\n",
      "epoch 141: training loss is 0.409821, validation loss is 0.518085.\n",
      "epoch 142: training loss is 0.409075, validation loss is 0.517717.\n",
      "epoch 143: training loss is 0.408340, validation loss is 0.517430.\n",
      "epoch 144: training loss is 0.407613, validation loss is 0.517139.\n",
      "epoch 145: training loss is 0.406884, validation loss is 0.516790.\n",
      "epoch 146: training loss is 0.406155, validation loss is 0.516400.\n",
      "epoch 147: training loss is 0.405440, validation loss is 0.516085.\n",
      "epoch 148: training loss is 0.404726, validation loss is 0.515732.\n",
      "epoch 149: training loss is 0.404017, validation loss is 0.515372.\n",
      "epoch 150: training loss is 0.403317, validation loss is 0.515055.\n",
      "epoch 151: training loss is 0.402626, validation loss is 0.514785.\n",
      "epoch 152: training loss is 0.401928, validation loss is 0.514384.\n",
      "epoch 153: training loss is 0.401244, validation loss is 0.513981.\n",
      "epoch 154: training loss is 0.400563, validation loss is 0.513678.\n",
      "epoch 155: training loss is 0.399888, validation loss is 0.513355.\n",
      "epoch 156: training loss is 0.399215, validation loss is 0.513107.\n",
      "epoch 157: training loss is 0.398552, validation loss is 0.512730.\n",
      "epoch 158: training loss is 0.397889, validation loss is 0.512521.\n",
      "epoch 159: training loss is 0.397232, validation loss is 0.512206.\n",
      "epoch 160: training loss is 0.396580, validation loss is 0.511872.\n",
      "epoch 161: training loss is 0.395934, validation loss is 0.511568.\n",
      "epoch 162: training loss is 0.395291, validation loss is 0.511334.\n",
      "epoch 163: training loss is 0.394653, validation loss is 0.511044.\n",
      "epoch 164: training loss is 0.394019, validation loss is 0.510760.\n",
      "epoch 165: training loss is 0.393390, validation loss is 0.510455.\n",
      "epoch 166: training loss is 0.392765, validation loss is 0.510177.\n",
      "epoch 167: training loss is 0.392146, validation loss is 0.509853.\n",
      "epoch 168: training loss is 0.391528, validation loss is 0.509631.\n",
      "epoch 169: training loss is 0.390918, validation loss is 0.509393.\n",
      "epoch 170: training loss is 0.390312, validation loss is 0.509163.\n",
      "epoch 171: training loss is 0.389706, validation loss is 0.508853.\n",
      "epoch 172: training loss is 0.389106, validation loss is 0.508563.\n",
      "epoch 173: training loss is 0.388511, validation loss is 0.508248.\n",
      "epoch 174: training loss is 0.387921, validation loss is 0.507966.\n",
      "epoch 175: training loss is 0.387332, validation loss is 0.507777.\n",
      "epoch 176: training loss is 0.386749, validation loss is 0.507553.\n",
      "epoch 177: training loss is 0.386171, validation loss is 0.507337.\n",
      "epoch 178: training loss is 0.385600, validation loss is 0.507134.\n",
      "epoch 179: training loss is 0.385023, validation loss is 0.506825.\n",
      "epoch 180: training loss is 0.384455, validation loss is 0.506583.\n",
      "epoch 181: training loss is 0.383893, validation loss is 0.506377.\n",
      "epoch 182: training loss is 0.383332, validation loss is 0.506136.\n",
      "epoch 183: training loss is 0.382771, validation loss is 0.505835.\n",
      "epoch 184: training loss is 0.382223, validation loss is 0.505670.\n",
      "epoch 185: training loss is 0.381669, validation loss is 0.505396.\n",
      "epoch 186: training loss is 0.381119, validation loss is 0.505083.\n",
      "epoch 187: training loss is 0.380576, validation loss is 0.504818.\n",
      "epoch 188: training loss is 0.380037, validation loss is 0.504581.\n",
      "epoch 189: training loss is 0.379501, validation loss is 0.504407.\n",
      "epoch 190: training loss is 0.378968, validation loss is 0.504191.\n",
      "epoch 191: training loss is 0.378439, validation loss is 0.503976.\n",
      "epoch 192: training loss is 0.377914, validation loss is 0.503774.\n",
      "epoch 193: training loss is 0.377389, validation loss is 0.503476.\n",
      "epoch 194: training loss is 0.376870, validation loss is 0.503239.\n",
      "epoch 195: training loss is 0.376355, validation loss is 0.503108.\n",
      "epoch 196: training loss is 0.375841, validation loss is 0.502865.\n",
      "epoch 197: training loss is 0.375331, validation loss is 0.502665.\n",
      "epoch 198: training loss is 0.374826, validation loss is 0.502488.\n",
      "epoch 199: training loss is 0.374320, validation loss is 0.502192.\n",
      "epoch 200: training loss is 0.373820, validation loss is 0.501983.\n",
      "epoch 201: training loss is 0.373323, validation loss is 0.501756.\n",
      "epoch 202: training loss is 0.372829, validation loss is 0.501528.\n",
      "epoch 203: training loss is 0.372339, validation loss is 0.501304.\n",
      "epoch 204: training loss is 0.371848, validation loss is 0.501182.\n",
      "epoch 205: training loss is 0.371362, validation loss is 0.501011.\n",
      "epoch 206: training loss is 0.370880, validation loss is 0.500820.\n",
      "epoch 207: training loss is 0.370400, validation loss is 0.500596.\n",
      "epoch 208: training loss is 0.369923, validation loss is 0.500441.\n",
      "epoch 209: training loss is 0.369450, validation loss is 0.500264.\n",
      "epoch 210: training loss is 0.368977, validation loss is 0.499993.\n",
      "epoch 211: training loss is 0.368509, validation loss is 0.499795.\n",
      "epoch 212: training loss is 0.368043, validation loss is 0.499669.\n",
      "epoch 213: training loss is 0.367579, validation loss is 0.499446.\n",
      "epoch 214: training loss is 0.367119, validation loss is 0.499296.\n",
      "epoch 215: training loss is 0.366663, validation loss is 0.499145.\n",
      "epoch 216: training loss is 0.366206, validation loss is 0.498898.\n",
      "epoch 217: training loss is 0.365754, validation loss is 0.498734.\n",
      "epoch 218: training loss is 0.365305, validation loss is 0.498476.\n",
      "epoch 219: training loss is 0.364856, validation loss is 0.498347.\n",
      "epoch 220: training loss is 0.364412, validation loss is 0.498182.\n",
      "epoch 221: training loss is 0.363970, validation loss is 0.497996.\n",
      "epoch 222: training loss is 0.363530, validation loss is 0.497829.\n",
      "epoch 223: training loss is 0.363096, validation loss is 0.497575.\n",
      "epoch 224: training loss is 0.362658, validation loss is 0.497479.\n",
      "epoch 225: training loss is 0.362226, validation loss is 0.497298.\n",
      "epoch 226: training loss is 0.361797, validation loss is 0.497177.\n",
      "epoch 227: training loss is 0.361370, validation loss is 0.496939.\n",
      "epoch 228: training loss is 0.360944, validation loss is 0.496796.\n",
      "epoch 229: training loss is 0.360522, validation loss is 0.496661.\n",
      "epoch 230: training loss is 0.360101, validation loss is 0.496480.\n",
      "epoch 231: training loss is 0.359683, validation loss is 0.496343.\n",
      "epoch 232: training loss is 0.359268, validation loss is 0.496191.\n",
      "epoch 233: training loss is 0.358855, validation loss is 0.496022.\n",
      "epoch 234: training loss is 0.358444, validation loss is 0.495831.\n",
      "epoch 235: training loss is 0.358035, validation loss is 0.495702.\n",
      "epoch 236: training loss is 0.357628, validation loss is 0.495546.\n",
      "epoch 237: training loss is 0.357224, validation loss is 0.495362.\n",
      "epoch 238: training loss is 0.356822, validation loss is 0.495198.\n",
      "epoch 239: training loss is 0.356424, validation loss is 0.494996.\n",
      "epoch 240: training loss is 0.356026, validation loss is 0.494842.\n",
      "epoch 241: training loss is 0.355631, validation loss is 0.494687.\n",
      "epoch 242: training loss is 0.355236, validation loss is 0.494559.\n",
      "epoch 243: training loss is 0.354844, validation loss is 0.494499.\n",
      "epoch 244: training loss is 0.354454, validation loss is 0.494319.\n",
      "epoch 245: training loss is 0.354067, validation loss is 0.494156.\n"
     ]
    },
    {
     "name": "stdout",
     "output_type": "stream",
     "text": [
      "epoch 246: training loss is 0.353682, validation loss is 0.494014.\n",
      "epoch 247: training loss is 0.353299, validation loss is 0.493857.\n",
      "epoch 248: training loss is 0.352917, validation loss is 0.493732.\n",
      "epoch 249: training loss is 0.352539, validation loss is 0.493655.\n",
      "epoch 250: training loss is 0.352163, validation loss is 0.493374.\n",
      "epoch 251: training loss is 0.351788, validation loss is 0.493244.\n",
      "epoch 252: training loss is 0.351413, validation loss is 0.493162.\n",
      "epoch 253: training loss is 0.351042, validation loss is 0.493088.\n",
      "epoch 254: training loss is 0.350672, validation loss is 0.492946.\n",
      "epoch 255: training loss is 0.350305, validation loss is 0.492741.\n",
      "epoch 256: training loss is 0.349939, validation loss is 0.492647.\n",
      "epoch 257: training loss is 0.349575, validation loss is 0.492482.\n",
      "epoch 258: training loss is 0.349214, validation loss is 0.492355.\n",
      "epoch 259: training loss is 0.348854, validation loss is 0.492232.\n",
      "epoch 260: training loss is 0.348497, validation loss is 0.492152.\n",
      "epoch 261: training loss is 0.348140, validation loss is 0.491994.\n",
      "epoch 262: training loss is 0.347785, validation loss is 0.491845.\n",
      "epoch 263: training loss is 0.347434, validation loss is 0.491662.\n",
      "epoch 264: training loss is 0.347083, validation loss is 0.491540.\n",
      "epoch 265: training loss is 0.346734, validation loss is 0.491410.\n",
      "epoch 266: training loss is 0.346386, validation loss is 0.491332.\n",
      "epoch 267: training loss is 0.346041, validation loss is 0.491260.\n",
      "epoch 268: training loss is 0.345697, validation loss is 0.491074.\n",
      "epoch 269: training loss is 0.345356, validation loss is 0.490900.\n",
      "epoch 270: training loss is 0.345014, validation loss is 0.490846.\n",
      "epoch 271: training loss is 0.344676, validation loss is 0.490756.\n",
      "epoch 272: training loss is 0.344339, validation loss is 0.490634.\n",
      "epoch 273: training loss is 0.344003, validation loss is 0.490498.\n",
      "epoch 274: training loss is 0.343671, validation loss is 0.490430.\n",
      "epoch 275: training loss is 0.343340, validation loss is 0.490160.\n",
      "epoch 276: training loss is 0.343007, validation loss is 0.490098.\n",
      "epoch 277: training loss is 0.342679, validation loss is 0.489978.\n",
      "epoch 278: training loss is 0.342352, validation loss is 0.489858.\n",
      "epoch 279: training loss is 0.342026, validation loss is 0.489777.\n",
      "epoch 280: training loss is 0.341702, validation loss is 0.489698.\n",
      "epoch 281: training loss is 0.341380, validation loss is 0.489586.\n",
      "epoch 282: training loss is 0.341060, validation loss is 0.489503.\n",
      "epoch 283: training loss is 0.340741, validation loss is 0.489393.\n",
      "epoch 284: training loss is 0.340422, validation loss is 0.489198.\n",
      "epoch 285: training loss is 0.340109, validation loss is 0.489018.\n",
      "epoch 286: training loss is 0.339792, validation loss is 0.488989.\n",
      "epoch 287: training loss is 0.339480, validation loss is 0.488818.\n",
      "epoch 288: training loss is 0.339167, validation loss is 0.488746.\n",
      "epoch 289: training loss is 0.338857, validation loss is 0.488690.\n",
      "epoch 290: training loss is 0.338550, validation loss is 0.488488.\n",
      "epoch 291: training loss is 0.338241, validation loss is 0.488438.\n",
      "epoch 292: training loss is 0.337936, validation loss is 0.488404.\n",
      "epoch 293: training loss is 0.337631, validation loss is 0.488250.\n",
      "epoch 294: training loss is 0.337329, validation loss is 0.488148.\n",
      "epoch 295: training loss is 0.337027, validation loss is 0.488036.\n",
      "epoch 296: training loss is 0.336730, validation loss is 0.487853.\n",
      "epoch 297: training loss is 0.336430, validation loss is 0.487794.\n",
      "epoch 298: training loss is 0.336132, validation loss is 0.487728.\n",
      "epoch 299: training loss is 0.335837, validation loss is 0.487685.\n"
     ]
    }
   ],
   "source": [
    "# Under BOCN-TFIDF situation, training the model by using the best parameters\n",
    "weights_bocn_tfidf, tra_loss_bocn_tfidf, val_loss_bocn_tfidf = SGD(train_tfidf_mat_bocn, train_label, \n",
    "                                                                   dev_tfidf_mat_bocn, dev_label, \n",
    "                                                                   lr = best_parameter_bocn_tfidf[0], \n",
    "                                                                   alpha = best_parameter_bocn_tfidf[1],\n",
    "                                                                   epochs = best_parameter_bocn_tfidf[2],\n",
    "                                                                   tolerance = best_parameter_bocn_tfidf[3], \n",
    "                                                                   print_progress = True)"
   ]
  },
  {
   "cell_type": "code",
   "execution_count": 48,
   "metadata": {},
   "outputs": [
    {
     "data": {
      "image/png": "[encoded data removed]",
      "text/plain": [
       "<Figure size 432x288 with 1 Axes>"
      ]
     },
     "metadata": {
      "needs_background": "light"
     },
     "output_type": "display_data"
    }
   ],
   "source": [
    "# plot the figure to check the training and validation loss during the training process\n",
    "\n",
    "plot_loss_history(tra_loss_bocn_tfidf, val_loss_bocn_tfidf, \"BOCN-TFIDF(fig-4)\")"
   ]
  },
  {
   "cell_type": "markdown",
   "metadata": {},
   "source": [
    "### Analyze the loss-epoch figure for model of BOCN-TFIDF"
   ]
  },
  {
   "cell_type": "markdown",
   "metadata": {},
   "source": [
    "In figure 4, we could know, the model for BOCN-TFIDF is trained well.\n",
    "\n",
    "1. Because the validation loss line is becoming flat from declining and the final value of validation loss is low (about 0.47), the model is not underfitted.\n",
    "\n",
    "2. The difference between the final training loss and the final validation loss is small (about 0.17) and the validation loss line doen't have the tendency to rise. So the model isn't overfitted.\n"
   ]
  },
  {
   "cell_type": "code",
   "execution_count": 49,
   "metadata": {},
   "outputs": [
    {
     "name": "stdout",
     "output_type": "stream",
     "text": [
      "Accuracy: 0.8325\n",
      "Precision: 0.8275862068965517\n",
      "Recall: 0.84\n",
      "F1-Score: 0.8337468982630273\n"
     ]
    }
   ],
   "source": [
    "# compute the accuracy, precision, recall, and f1_score to evaluate the model under BOCN-TFIDF situation\n",
    "\n",
    "preds_bocn_tfidf = predict_class(test_tfidf_mat_bocn, weights_bocn_tfidf)\n",
    "\n",
    "print('Accuracy:', accuracy_score(test_label, preds_bocn_tfidf))\n",
    "print('Precision:', precision_score(test_label, preds_bocn_tfidf))\n",
    "print('Recall:', recall_score(test_label, preds_bocn_tfidf))\n",
    "print('F1-Score:', f1_score(test_label, preds_bocn_tfidf))"
   ]
  },
  {
   "cell_type": "code",
   "execution_count": 50,
   "metadata": {},
   "outputs": [
    {
     "name": "stdout",
     "output_type": "stream",
     "text": [
      "bad\n",
      "wors\n",
      "was\n",
      "orst\n",
      "ppose\n",
      "ppos\n",
      "poo\n",
      "adl\n",
      "nothi\n",
      "dio\n"
     ]
    }
   ],
   "source": [
    "# print top 10 words for negative class and positive class respectively.\n",
    "\n",
    "top_neg_bocn_tfidf = weights_bocn_tfidf.reshape(1, -1).argsort()[0][:10]\n",
    "for i in top_neg_bocn_tfidf:\n",
    "    print(id2word_bocn[i])"
   ]
  },
  {
   "cell_type": "code",
   "execution_count": 51,
   "metadata": {},
   "outputs": [
    {
     "name": "stdout",
     "output_type": "stream",
     "text": [
      "grea\n",
      "great\n",
      "erful\n",
      "rful\n",
      "perfe\n",
      "rfec\n",
      "erfec\n",
      "rfect\n",
      "beau\n",
      "ilar\n"
     ]
    }
   ],
   "source": [
    "top_pos_bocn_tfidf = weights_bocn_tfidf.reshape(1, -1).argsort()[0][::-1][:10]\n",
    "for i in top_pos_bocn_tfidf:\n",
    "    print(id2word_bocn[i])"
   ]
  },
  {
   "cell_type": "markdown",
   "metadata": {},
   "source": [
    "### Analyze the top-10 words for model of BOCN-TFIDF"
   ]
  },
  {
   "cell_type": "markdown",
   "metadata": {},
   "source": [
    "These character combinations ('bad', 'wors', 'orst', 'nothi', 'grea', 'great', 'perfe', 'rfec', 'erfec', rfect', 'beau', and 'ilar') make sense for classification. For example, 'wors', 'orst' are part of 'worst'; 'grea', 'great' are part of 'great'; 'perfe', 'rfec', 'erfec', 'rfect' are part of 'perfect'.\n",
    "\n",
    "Meanwhile, I think these aforementioned character combinations are generalized for the classification task in other domain. Because they are part of those words which could be used to describe all kinds of merchandises. For instance, you could always say \"this is a perfect food/phone/book(any kind of products)\" and also, you could always say \"this is the worst movies/clothes/car(any kind of products) I've ever seen\"\n",
    "\n",
    "There are also some other character combinations could be used to the classification task in new domain. Such as \"brill(part of brilliant)\", \"awf(part of awful)\", \"favor(part of favorite)\"."
   ]
  },
  {
   "cell_type": "markdown",
   "metadata": {},
   "source": [
    "### Discuss how I choose hyperparameters for model of BOCN-TFIDF"
   ]
  },
  {
   "cell_type": "markdown",
   "metadata": {},
   "source": [
    "1. I choose the hyperparameters (learning rate, alpha, epoch, tolerance) by testing the development(validation) dataset on several different set of hyperparameters. The set of hyperparameters which could help the model to achieve the highest validation accuracy and lowest validation loss are the best hyperparameters. I will randomly display several set of hyperparameters and the corresponding validation loss and validation accuracy.\n",
    "\n",
    "| lr | alpha |epoch  | tolerance | val_loss | val_accuracy |\n",
    "|:-:|:-:|:-:|:-:|:-:|:-:|\n",
    "| 0.000010  | 0.100000 | 300  |  0.000100 | 0.503381  | 0.770000 |\n",
    "| 0.000010  |  0.500000| 300  |  0.000100  | 0.543069 | 0.780000 |\n",
    "| 0.000010  | 0.100000   |100  | 0.000100 | 0.536973 |0.780000 |\n",
    "| 0.000001 | 0.100000  |  300  | 0.000100  | 0.608475  | 0.735000  |\n",
    "| 0.000010  | 0.100000   |  300 | 0.000010  |0.489931 |0.765000 |\n",
    "\n",
    "From the above table, we could find when the lr = 1e-5, alpha = 0.1, epoch = 300, tolerance = 1e-5, the validation loss is lowest (0.4899). Therefore, I choose this set of hyperparameters as my best hyperparameters for model of BOCN-TFIDF."
   ]
  },
  {
   "cell_type": "markdown",
   "metadata": {},
   "source": [
    "# Model 5: BOW+BOCN(TFIDF)"
   ]
  },
  {
   "cell_type": "markdown",
   "metadata": {},
   "source": [
    "## Training and evaluate BOW + BOCN (TFIDF)"
   ]
  },
  {
   "cell_type": "markdown",
   "metadata": {},
   "source": [
    "Create vocabulary and vectorized feature matrices for BOW + BOCN."
   ]
  },
  {
   "cell_type": "code",
   "execution_count": 52,
   "metadata": {},
   "outputs": [],
   "source": [
    "#     combine the vocabulary for BOW and the vocabulary for BOCN, if there are words appearing in both vocab_bow and \n",
    "# vocab_bocn, these words are only counted one time in vocabulary for BOW+BOCN.\n",
    "\n",
    "vocab_bb = set.union(vocab_bow, vocab_bocn)\n",
    "\n",
    "\n",
    "#    create a dictionary to store the terms' document frequencies for BOW+BOCN \n",
    "df_bb = df_bow.copy()\n",
    "\n",
    "for term in df_bocn:\n",
    "    if term not in df_bow:\n",
    "        df_bb[term] = df_bocn[term]\n",
    "    else:\n",
    "        if df_bb[term] >= df_bocn[term]:\n",
    "            continue\n",
    "        else:\n",
    "            df_bb[term] = df_bocn[term]\n",
    "\n",
    "\n",
    "#     create 2 dictionaries: (1) id2word_bb: keys = vocabulary ids, values = words (2) word2id_bb: keys = words, \n",
    "# values = vocabulary ids for BOW+BOCN\n",
    "\n",
    "id2word_bb = dict()\n",
    "word2id_bb = dict()\n",
    "\n",
    "for i in range(len(vocab_bb)):\n",
    "    id2word_bb[i] = list(vocab_bb)[i]\n",
    "    word2id_bb[list(vocab_bb)[i]] = i\n",
    "\n",
    "\n",
    "\n",
    "#    Combine the two extracted features words lists of BOCN and BOW for BOW+BOCN mode.\n",
    "\n",
    "train_extracted_ngrams_bb = []\n",
    "for i in range(1400):\n",
    "    train_extracted_ngrams_bb.append(train_extracted_ngrams.copy()[i] + train_extracted_ngrams_bocn.copy()[i])\n",
    "\n",
    "dev_extracted_ngrams_bb = []\n",
    "for i in range(200):\n",
    "    dev_extracted_ngrams_bb.append(dev_extracted_ngrams.copy()[i] + dev_extracted_ngrams_bocn.copy()[i])\n",
    "    \n",
    "test_extracted_ngrams_bb = []\n",
    "for i in range(400):\n",
    "    test_extracted_ngrams_bb.append(test_extracted_ngrams.copy()[i] + test_extracted_ngrams_bocn.copy()[i])\n",
    "\n",
    "\n",
    "#    vectorize the combined extracted features words for BOW+BOCN mode\n",
    "\n",
    "train_count_mat_bb = vectorise(train_extracted_ngrams_bb, vocab_bb, word2id_bb)\n",
    "dev_count_mat_bb = vectorise(dev_extracted_ngrams_bb, vocab_bb, word2id_bb)\n",
    "test_count_mat_bb = vectorise(test_extracted_ngrams_bb, vocab_bb, word2id_bb)\n",
    "\n",
    "\n",
    "#    obtain the tfidf features for BOW+BOCN mode\n",
    "\n",
    "# compute the inverted document frequencies values for words in vocab_bb\n",
    "idfs_bb = np.zeros((1, len(vocab_bb)))\n",
    "for i in range(len(vocab_bb)):\n",
    "    idfs_bb[0, i] = np.log10(len(train_text)/df_bb[list(vocab_bb)[i]])\n",
    "\n",
    "# transform the count vectors to tf.idf vectors\n",
    "\n",
    "train_tfidf_mat_bb = train_count_mat_bb * idfs_bb\n",
    "dev_tfidf_mat_bb = dev_count_mat_bb * idfs_bb\n",
    "test_tfidf_mat_bb = test_count_mat_bb * idfs_bb\n",
    "\n"
   ]
  },
  {
   "cell_type": "markdown",
   "metadata": {},
   "source": [
    "## Hyperparameters tunning for the model of BOW+BOCN-TFIDF\n",
    "\n",
    "Please don't count the running time of this part."
   ]
  },
  {
   "cell_type": "code",
   "execution_count": 53,
   "metadata": {
    "scrolled": true
   },
   "outputs": [
    {
     "name": "stdout",
     "output_type": "stream",
     "text": [
      "lr = 0.000010, alpha = 0.500000, epoch = 100, tolerance = 0.000100, val_loss = 0.499285, val_acc = 0.800000\n",
      "\n",
      "lr = 0.000010, alpha = 0.500000, epoch = 100, tolerance = 0.000010, val_loss = 0.499253, val_acc = 0.800000\n",
      "\n",
      "lr = 0.000010, alpha = 0.500000, epoch = 300, tolerance = 0.000100, val_loss = 0.482736, val_acc = 0.815000\n",
      "\n",
      "lr = 0.000010, alpha = 0.500000, epoch = 300, tolerance = 0.000010, val_loss = 0.476746, val_acc = 0.815000\n",
      "\n",
      "lr = 0.000010, alpha = 0.100000, epoch = 100, tolerance = 0.000100, val_loss = 0.473798, val_acc = 0.810000\n",
      "\n",
      "lr = 0.000010, alpha = 0.100000, epoch = 100, tolerance = 0.000010, val_loss = 0.473762, val_acc = 0.805000\n",
      "\n",
      "lr = 0.000010, alpha = 0.100000, epoch = 300, tolerance = 0.000100, val_loss = 0.426583, val_acc = 0.830000\n",
      "\n",
      "lr = 0.000010, alpha = 0.100000, epoch = 300, tolerance = 0.000010, val_loss = 0.422459, val_acc = 0.835000\n",
      "\n",
      "lr = 0.000001, alpha = 0.500000, epoch = 100, tolerance = 0.000100, val_loss = 0.627164, val_acc = 0.750000\n",
      "\n",
      "lr = 0.000001, alpha = 0.500000, epoch = 100, tolerance = 0.000010, val_loss = 0.627156, val_acc = 0.750000\n",
      "\n",
      "lr = 0.000001, alpha = 0.500000, epoch = 300, tolerance = 0.000100, val_loss = 0.564511, val_acc = 0.765000\n",
      "\n",
      "lr = 0.000001, alpha = 0.500000, epoch = 300, tolerance = 0.000010, val_loss = 0.564511, val_acc = 0.765000\n",
      "\n",
      "lr = 0.000001, alpha = 0.100000, epoch = 100, tolerance = 0.000100, val_loss = 0.625623, val_acc = 0.750000\n",
      "\n",
      "lr = 0.000001, alpha = 0.100000, epoch = 100, tolerance = 0.000010, val_loss = 0.625627, val_acc = 0.750000\n",
      "\n",
      "lr = 0.000001, alpha = 0.100000, epoch = 300, tolerance = 0.000100, val_loss = 0.557198, val_acc = 0.765000\n",
      "\n",
      "lr = 0.000001, alpha = 0.100000, epoch = 300, tolerance = 0.000010, val_loss = 0.557196, val_acc = 0.765000\n",
      "\n",
      "The best parameters are: lr = 1e-05, alpha = 0.1, epoch = 300, tolerance = 1e-05\n"
     ]
    }
   ],
   "source": [
    "# choose the best hyperparameters for BOW+BOCN-TFIDF\n",
    "\n",
    "best_parameter_bb_tfidf = choose_hyper(train_tfidf_mat_bb, train_label, dev_tfidf_mat_bb, dev_label, \n",
    "                              lr_candidate = [1e-5, 1e-6], alpha_candidate = [5*1e-1, 1e-1], \n",
    "                              epoch_candidate = [100, 300], tolerance_candidate = [1e-4, 1e-5])"
   ]
  },
  {
   "cell_type": "markdown",
   "metadata": {},
   "source": [
    "End of the hyperparameters tunning."
   ]
  },
  {
   "cell_type": "markdown",
   "metadata": {},
   "source": [
    "## Train the model for BOW+BOCN-TFIDF by using the chosen hyperparameters."
   ]
  },
  {
   "cell_type": "code",
   "execution_count": 54,
   "metadata": {
    "scrolled": true
   },
   "outputs": [
    {
     "name": "stdout",
     "output_type": "stream",
     "text": [
      "epoch   0: training loss is 0.677986, validation loss is 0.682771.\n",
      "epoch   1: training loss is 0.664918, validation loss is 0.674573.\n",
      "epoch   2: training loss is 0.652740, validation loss is 0.667154.\n",
      "epoch   3: training loss is 0.641209, validation loss is 0.660362.\n",
      "epoch   4: training loss is 0.630339, validation loss is 0.653612.\n",
      "epoch   5: training loss is 0.619945, validation loss is 0.647576.\n",
      "epoch   6: training loss is 0.610114, validation loss is 0.641618.\n",
      "epoch   7: training loss is 0.600799, validation loss is 0.636198.\n",
      "epoch   8: training loss is 0.591912, validation loss is 0.630902.\n",
      "epoch   9: training loss is 0.583342, validation loss is 0.625526.\n",
      "epoch  10: training loss is 0.575220, validation loss is 0.620630.\n",
      "epoch  11: training loss is 0.567518, validation loss is 0.615830.\n",
      "epoch  12: training loss is 0.560103, validation loss is 0.611365.\n",
      "epoch  13: training loss is 0.552899, validation loss is 0.607137.\n",
      "epoch  14: training loss is 0.546020, validation loss is 0.603100.\n",
      "epoch  15: training loss is 0.539438, validation loss is 0.599146.\n",
      "epoch  16: training loss is 0.533094, validation loss is 0.595461.\n",
      "epoch  17: training loss is 0.526982, validation loss is 0.591791.\n",
      "epoch  18: training loss is 0.521096, validation loss is 0.588272.\n",
      "epoch  19: training loss is 0.515415, validation loss is 0.584910.\n",
      "epoch  20: training loss is 0.509929, validation loss is 0.581749.\n",
      "epoch  21: training loss is 0.504617, validation loss is 0.578569.\n",
      "epoch  22: training loss is 0.499512, validation loss is 0.575508.\n",
      "epoch  23: training loss is 0.494510, validation loss is 0.572647.\n",
      "epoch  24: training loss is 0.489721, validation loss is 0.569934.\n",
      "epoch  25: training loss is 0.485029, validation loss is 0.567150.\n",
      "epoch  26: training loss is 0.480516, validation loss is 0.564561.\n",
      "epoch  27: training loss is 0.476089, validation loss is 0.561939.\n",
      "epoch  28: training loss is 0.471813, validation loss is 0.559421.\n",
      "epoch  29: training loss is 0.467653, validation loss is 0.557023.\n",
      "epoch  30: training loss is 0.463604, validation loss is 0.554704.\n",
      "epoch  31: training loss is 0.459680, validation loss is 0.552431.\n",
      "epoch  32: training loss is 0.455835, validation loss is 0.550238.\n",
      "epoch  33: training loss is 0.452097, validation loss is 0.548106.\n",
      "epoch  34: training loss is 0.448487, validation loss is 0.546039.\n",
      "epoch  35: training loss is 0.444909, validation loss is 0.544008.\n",
      "epoch  36: training loss is 0.441438, validation loss is 0.542043.\n",
      "epoch  37: training loss is 0.438056, validation loss is 0.540122.\n",
      "epoch  38: training loss is 0.434751, validation loss is 0.538257.\n",
      "epoch  39: training loss is 0.431539, validation loss is 0.536457.\n",
      "epoch  40: training loss is 0.428376, validation loss is 0.534669.\n",
      "epoch  41: training loss is 0.425287, validation loss is 0.532930.\n",
      "epoch  42: training loss is 0.422279, validation loss is 0.531254.\n",
      "epoch  43: training loss is 0.419323, validation loss is 0.529596.\n",
      "epoch  44: training loss is 0.416438, validation loss is 0.527987.\n",
      "epoch  45: training loss is 0.413604, validation loss is 0.526400.\n",
      "epoch  46: training loss is 0.410837, validation loss is 0.524871.\n",
      "epoch  47: training loss is 0.408134, validation loss is 0.523385.\n",
      "epoch  48: training loss is 0.405461, validation loss is 0.521886.\n",
      "epoch  49: training loss is 0.402864, validation loss is 0.520438.\n",
      "epoch  50: training loss is 0.400308, validation loss is 0.519027.\n",
      "epoch  51: training loss is 0.397793, validation loss is 0.517651.\n",
      "epoch  52: training loss is 0.395333, validation loss is 0.516298.\n",
      "epoch  53: training loss is 0.392922, validation loss is 0.514973.\n",
      "epoch  54: training loss is 0.390550, validation loss is 0.513688.\n",
      "epoch  55: training loss is 0.388226, validation loss is 0.512428.\n",
      "epoch  56: training loss is 0.385941, validation loss is 0.511176.\n",
      "epoch  57: training loss is 0.383697, validation loss is 0.509948.\n",
      "epoch  58: training loss is 0.381492, validation loss is 0.508753.\n",
      "epoch  59: training loss is 0.379327, validation loss is 0.507578.\n",
      "epoch  60: training loss is 0.377206, validation loss is 0.506406.\n",
      "epoch  61: training loss is 0.375123, validation loss is 0.505268.\n",
      "epoch  62: training loss is 0.373048, validation loss is 0.504190.\n",
      "epoch  63: training loss is 0.371025, validation loss is 0.503112.\n",
      "epoch  64: training loss is 0.369034, validation loss is 0.502044.\n",
      "epoch  65: training loss is 0.367076, validation loss is 0.500973.\n",
      "epoch  66: training loss is 0.365148, validation loss is 0.499951.\n",
      "epoch  67: training loss is 0.363252, validation loss is 0.498943.\n",
      "epoch  68: training loss is 0.361387, validation loss is 0.497925.\n",
      "epoch  69: training loss is 0.359547, validation loss is 0.496952.\n",
      "epoch  70: training loss is 0.357736, validation loss is 0.496009.\n",
      "epoch  71: training loss is 0.355959, validation loss is 0.495098.\n",
      "epoch  72: training loss is 0.354199, validation loss is 0.494138.\n",
      "epoch  73: training loss is 0.352470, validation loss is 0.493199.\n",
      "epoch  74: training loss is 0.350766, validation loss is 0.492327.\n",
      "epoch  75: training loss is 0.349086, validation loss is 0.491420.\n",
      "epoch  76: training loss is 0.347430, validation loss is 0.490563.\n",
      "epoch  77: training loss is 0.345799, validation loss is 0.489699.\n",
      "epoch  78: training loss is 0.344191, validation loss is 0.488850.\n",
      "epoch  79: training loss is 0.342607, validation loss is 0.487997.\n",
      "epoch  80: training loss is 0.341041, validation loss is 0.487206.\n",
      "epoch  81: training loss is 0.339500, validation loss is 0.486387.\n",
      "epoch  82: training loss is 0.337978, validation loss is 0.485620.\n",
      "epoch  83: training loss is 0.336478, validation loss is 0.484816.\n",
      "epoch  84: training loss is 0.334998, validation loss is 0.484080.\n",
      "epoch  85: training loss is 0.333537, validation loss is 0.483321.\n",
      "epoch  86: training loss is 0.332095, validation loss is 0.482565.\n",
      "epoch  87: training loss is 0.330694, validation loss is 0.481954.\n",
      "epoch  88: training loss is 0.329281, validation loss is 0.481196.\n",
      "epoch  89: training loss is 0.327884, validation loss is 0.480412.\n",
      "epoch  90: training loss is 0.326515, validation loss is 0.479700.\n",
      "epoch  91: training loss is 0.325164, validation loss is 0.478997.\n",
      "epoch  92: training loss is 0.323830, validation loss is 0.478331.\n",
      "epoch  93: training loss is 0.322512, validation loss is 0.477628.\n",
      "epoch  94: training loss is 0.321212, validation loss is 0.476934.\n",
      "epoch  95: training loss is 0.319927, validation loss is 0.476281.\n",
      "epoch  96: training loss is 0.318656, validation loss is 0.475684.\n",
      "epoch  97: training loss is 0.317401, validation loss is 0.475015.\n",
      "epoch  98: training loss is 0.316161, validation loss is 0.474401.\n",
      "epoch  99: training loss is 0.314937, validation loss is 0.473756.\n",
      "epoch 100: training loss is 0.313730, validation loss is 0.473211.\n",
      "epoch 101: training loss is 0.312533, validation loss is 0.472516.\n",
      "epoch 102: training loss is 0.311349, validation loss is 0.471972.\n",
      "epoch 103: training loss is 0.310181, validation loss is 0.471389.\n",
      "epoch 104: training loss is 0.309026, validation loss is 0.470782.\n",
      "epoch 105: training loss is 0.307884, validation loss is 0.470231.\n",
      "epoch 106: training loss is 0.306755, validation loss is 0.469649.\n",
      "epoch 107: training loss is 0.305640, validation loss is 0.469126.\n",
      "epoch 108: training loss is 0.304535, validation loss is 0.468541.\n",
      "epoch 109: training loss is 0.303445, validation loss is 0.467966.\n",
      "epoch 110: training loss is 0.302365, validation loss is 0.467477.\n",
      "epoch 111: training loss is 0.301297, validation loss is 0.466933.\n",
      "epoch 112: training loss is 0.300241, validation loss is 0.466423.\n",
      "epoch 113: training loss is 0.299196, validation loss is 0.465881.\n",
      "epoch 114: training loss is 0.298163, validation loss is 0.465375.\n",
      "epoch 115: training loss is 0.297141, validation loss is 0.464893.\n",
      "epoch 116: training loss is 0.296130, validation loss is 0.464340.\n",
      "epoch 117: training loss is 0.295129, validation loss is 0.463878.\n",
      "epoch 118: training loss is 0.294139, validation loss is 0.463378.\n",
      "epoch 119: training loss is 0.293159, validation loss is 0.462920.\n",
      "epoch 120: training loss is 0.292189, validation loss is 0.462435.\n",
      "epoch 121: training loss is 0.291229, validation loss is 0.461951.\n",
      "epoch 122: training loss is 0.290279, validation loss is 0.461522.\n"
     ]
    },
    {
     "name": "stdout",
     "output_type": "stream",
     "text": [
      "epoch 123: training loss is 0.289342, validation loss is 0.461106.\n",
      "epoch 124: training loss is 0.288408, validation loss is 0.460591.\n",
      "epoch 125: training loss is 0.287486, validation loss is 0.460126.\n",
      "epoch 126: training loss is 0.286574, validation loss is 0.459716.\n",
      "epoch 127: training loss is 0.285676, validation loss is 0.459335.\n",
      "epoch 128: training loss is 0.284777, validation loss is 0.458852.\n",
      "epoch 129: training loss is 0.283890, validation loss is 0.458381.\n",
      "epoch 130: training loss is 0.283015, validation loss is 0.458011.\n",
      "epoch 131: training loss is 0.282148, validation loss is 0.457614.\n",
      "epoch 132: training loss is 0.281287, validation loss is 0.457185.\n",
      "epoch 133: training loss is 0.280434, validation loss is 0.456756.\n",
      "epoch 134: training loss is 0.279590, validation loss is 0.456339.\n",
      "epoch 135: training loss is 0.278754, validation loss is 0.455925.\n",
      "epoch 136: training loss is 0.277926, validation loss is 0.455519.\n",
      "epoch 137: training loss is 0.277106, validation loss is 0.455140.\n",
      "epoch 138: training loss is 0.276293, validation loss is 0.454736.\n",
      "epoch 139: training loss is 0.275489, validation loss is 0.454383.\n",
      "epoch 140: training loss is 0.274692, validation loss is 0.453932.\n",
      "epoch 141: training loss is 0.273901, validation loss is 0.453575.\n",
      "epoch 142: training loss is 0.273119, validation loss is 0.453234.\n",
      "epoch 143: training loss is 0.272344, validation loss is 0.452818.\n",
      "epoch 144: training loss is 0.271575, validation loss is 0.452468.\n",
      "epoch 145: training loss is 0.270813, validation loss is 0.452136.\n",
      "epoch 146: training loss is 0.270059, validation loss is 0.451825.\n",
      "epoch 147: training loss is 0.269310, validation loss is 0.451462.\n",
      "epoch 148: training loss is 0.268568, validation loss is 0.451068.\n",
      "epoch 149: training loss is 0.267835, validation loss is 0.450689.\n",
      "epoch 150: training loss is 0.267105, validation loss is 0.450397.\n",
      "epoch 151: training loss is 0.266383, validation loss is 0.450084.\n",
      "epoch 152: training loss is 0.265667, validation loss is 0.449730.\n",
      "epoch 153: training loss is 0.264958, validation loss is 0.449402.\n",
      "epoch 154: training loss is 0.264254, validation loss is 0.449085.\n",
      "epoch 155: training loss is 0.263557, validation loss is 0.448731.\n",
      "epoch 156: training loss is 0.262867, validation loss is 0.448469.\n",
      "epoch 157: training loss is 0.262180, validation loss is 0.448114.\n",
      "epoch 158: training loss is 0.261501, validation loss is 0.447820.\n",
      "epoch 159: training loss is 0.260826, validation loss is 0.447469.\n",
      "epoch 160: training loss is 0.260158, validation loss is 0.447138.\n",
      "epoch 161: training loss is 0.259496, validation loss is 0.446833.\n",
      "epoch 162: training loss is 0.258838, validation loss is 0.446544.\n",
      "epoch 163: training loss is 0.258187, validation loss is 0.446224.\n",
      "epoch 164: training loss is 0.257540, validation loss is 0.445977.\n",
      "epoch 165: training loss is 0.256899, validation loss is 0.445683.\n",
      "epoch 166: training loss is 0.256264, validation loss is 0.445349.\n",
      "epoch 167: training loss is 0.255633, validation loss is 0.445054.\n",
      "epoch 168: training loss is 0.255008, validation loss is 0.444846.\n",
      "epoch 169: training loss is 0.254387, validation loss is 0.444558.\n",
      "epoch 170: training loss is 0.253772, validation loss is 0.444260.\n",
      "epoch 171: training loss is 0.253163, validation loss is 0.444035.\n",
      "epoch 172: training loss is 0.252560, validation loss is 0.443785.\n",
      "epoch 173: training loss is 0.251957, validation loss is 0.443482.\n",
      "epoch 174: training loss is 0.251359, validation loss is 0.443179.\n",
      "epoch 175: training loss is 0.250768, validation loss is 0.442913.\n",
      "epoch 176: training loss is 0.250181, validation loss is 0.442633.\n",
      "epoch 177: training loss is 0.249600, validation loss is 0.442418.\n",
      "epoch 178: training loss is 0.249021, validation loss is 0.442129.\n",
      "epoch 179: training loss is 0.248449, validation loss is 0.441884.\n",
      "epoch 180: training loss is 0.247884, validation loss is 0.441691.\n",
      "epoch 181: training loss is 0.247317, validation loss is 0.441405.\n",
      "epoch 182: training loss is 0.246758, validation loss is 0.441168.\n",
      "epoch 183: training loss is 0.246200, validation loss is 0.440850.\n",
      "epoch 184: training loss is 0.245649, validation loss is 0.440626.\n",
      "epoch 185: training loss is 0.245101, validation loss is 0.440369.\n",
      "epoch 186: training loss is 0.244560, validation loss is 0.440172.\n",
      "epoch 187: training loss is 0.244020, validation loss is 0.439924.\n",
      "epoch 188: training loss is 0.243485, validation loss is 0.439672.\n",
      "epoch 189: training loss is 0.242954, validation loss is 0.439429.\n",
      "epoch 190: training loss is 0.242427, validation loss is 0.439158.\n",
      "epoch 191: training loss is 0.241904, validation loss is 0.438933.\n",
      "epoch 192: training loss is 0.241384, validation loss is 0.438700.\n",
      "epoch 193: training loss is 0.240869, validation loss is 0.438486.\n",
      "epoch 194: training loss is 0.240358, validation loss is 0.438241.\n",
      "epoch 195: training loss is 0.239851, validation loss is 0.437999.\n",
      "epoch 196: training loss is 0.239351, validation loss is 0.437725.\n",
      "epoch 197: training loss is 0.238848, validation loss is 0.437537.\n",
      "epoch 198: training loss is 0.238349, validation loss is 0.437349.\n",
      "epoch 199: training loss is 0.237856, validation loss is 0.437140.\n",
      "epoch 200: training loss is 0.237367, validation loss is 0.436908.\n",
      "epoch 201: training loss is 0.236880, validation loss is 0.436730.\n",
      "epoch 202: training loss is 0.236397, validation loss is 0.436569.\n",
      "epoch 203: training loss is 0.235918, validation loss is 0.436366.\n",
      "epoch 204: training loss is 0.235442, validation loss is 0.436121.\n",
      "epoch 205: training loss is 0.234970, validation loss is 0.435972.\n",
      "epoch 206: training loss is 0.234500, validation loss is 0.435747.\n",
      "epoch 207: training loss is 0.234037, validation loss is 0.435600.\n",
      "epoch 208: training loss is 0.233572, validation loss is 0.435364.\n",
      "epoch 209: training loss is 0.233113, validation loss is 0.435164.\n",
      "epoch 210: training loss is 0.232657, validation loss is 0.434976.\n",
      "epoch 211: training loss is 0.232204, validation loss is 0.434787.\n",
      "epoch 212: training loss is 0.231755, validation loss is 0.434609.\n",
      "epoch 213: training loss is 0.231308, validation loss is 0.434420.\n",
      "epoch 214: training loss is 0.230863, validation loss is 0.434194.\n",
      "epoch 215: training loss is 0.230423, validation loss is 0.434016.\n",
      "epoch 216: training loss is 0.229985, validation loss is 0.433799.\n",
      "epoch 217: training loss is 0.229550, validation loss is 0.433635.\n",
      "epoch 218: training loss is 0.229118, validation loss is 0.433451.\n",
      "epoch 219: training loss is 0.228691, validation loss is 0.433316.\n",
      "epoch 220: training loss is 0.228263, validation loss is 0.433084.\n",
      "epoch 221: training loss is 0.227840, validation loss is 0.432885.\n",
      "epoch 222: training loss is 0.227421, validation loss is 0.432741.\n",
      "epoch 223: training loss is 0.227003, validation loss is 0.432556.\n",
      "epoch 224: training loss is 0.226588, validation loss is 0.432375.\n",
      "epoch 225: training loss is 0.226176, validation loss is 0.432194.\n",
      "epoch 226: training loss is 0.225767, validation loss is 0.432047.\n",
      "epoch 227: training loss is 0.225361, validation loss is 0.431863.\n",
      "epoch 228: training loss is 0.224958, validation loss is 0.431641.\n",
      "epoch 229: training loss is 0.224556, validation loss is 0.431479.\n",
      "epoch 230: training loss is 0.224158, validation loss is 0.431300.\n",
      "epoch 231: training loss is 0.223762, validation loss is 0.431158.\n",
      "epoch 232: training loss is 0.223368, validation loss is 0.431015.\n",
      "epoch 233: training loss is 0.222978, validation loss is 0.430909.\n",
      "epoch 234: training loss is 0.222589, validation loss is 0.430717.\n",
      "epoch 235: training loss is 0.222203, validation loss is 0.430518.\n",
      "epoch 236: training loss is 0.221820, validation loss is 0.430390.\n",
      "epoch 237: training loss is 0.221439, validation loss is 0.430236.\n",
      "epoch 238: training loss is 0.221061, validation loss is 0.430100.\n",
      "epoch 239: training loss is 0.220685, validation loss is 0.429943.\n",
      "epoch 240: training loss is 0.220311, validation loss is 0.429767.\n",
      "epoch 241: training loss is 0.219940, validation loss is 0.429638.\n",
      "epoch 242: training loss is 0.219572, validation loss is 0.429417.\n",
      "epoch 243: training loss is 0.219205, validation loss is 0.429297.\n",
      "epoch 244: training loss is 0.218841, validation loss is 0.429147.\n",
      "epoch 245: training loss is 0.218479, validation loss is 0.429002.\n"
     ]
    },
    {
     "name": "stdout",
     "output_type": "stream",
     "text": [
      "epoch 246: training loss is 0.218119, validation loss is 0.428862.\n",
      "epoch 247: training loss is 0.217762, validation loss is 0.428730.\n",
      "epoch 248: training loss is 0.217407, validation loss is 0.428601.\n",
      "epoch 249: training loss is 0.217054, validation loss is 0.428403.\n",
      "epoch 250: training loss is 0.216704, validation loss is 0.428252.\n",
      "epoch 251: training loss is 0.216354, validation loss is 0.428157.\n",
      "epoch 252: training loss is 0.216008, validation loss is 0.428028.\n",
      "epoch 253: training loss is 0.215664, validation loss is 0.427920.\n",
      "epoch 254: training loss is 0.215322, validation loss is 0.427800.\n",
      "epoch 255: training loss is 0.214981, validation loss is 0.427642.\n",
      "epoch 256: training loss is 0.214643, validation loss is 0.427489.\n",
      "epoch 257: training loss is 0.214307, validation loss is 0.427328.\n",
      "epoch 258: training loss is 0.213973, validation loss is 0.427191.\n",
      "epoch 259: training loss is 0.213642, validation loss is 0.427106.\n",
      "epoch 260: training loss is 0.213311, validation loss is 0.426942.\n",
      "epoch 261: training loss is 0.212983, validation loss is 0.426814.\n",
      "epoch 262: training loss is 0.212657, validation loss is 0.426680.\n",
      "epoch 263: training loss is 0.212334, validation loss is 0.426532.\n",
      "epoch 264: training loss is 0.212011, validation loss is 0.426413.\n",
      "epoch 265: training loss is 0.211691, validation loss is 0.426300.\n",
      "epoch 266: training loss is 0.211374, validation loss is 0.426227.\n",
      "epoch 267: training loss is 0.211057, validation loss is 0.426049.\n",
      "epoch 268: training loss is 0.210742, validation loss is 0.425942.\n",
      "epoch 269: training loss is 0.210430, validation loss is 0.425844.\n",
      "epoch 270: training loss is 0.210119, validation loss is 0.425693.\n",
      "epoch 271: training loss is 0.209810, validation loss is 0.425593.\n",
      "epoch 272: training loss is 0.209503, validation loss is 0.425470.\n",
      "epoch 273: training loss is 0.209198, validation loss is 0.425376.\n",
      "epoch 274: training loss is 0.208894, validation loss is 0.425219.\n",
      "epoch 275: training loss is 0.208592, validation loss is 0.425116.\n",
      "epoch 276: training loss is 0.208292, validation loss is 0.424997.\n",
      "epoch 277: training loss is 0.207994, validation loss is 0.424861.\n",
      "epoch 278: training loss is 0.207697, validation loss is 0.424741.\n",
      "epoch 279: training loss is 0.207402, validation loss is 0.424652.\n",
      "epoch 280: training loss is 0.207109, validation loss is 0.424520.\n",
      "epoch 281: training loss is 0.206818, validation loss is 0.424424.\n",
      "epoch 282: training loss is 0.206528, validation loss is 0.424291.\n",
      "epoch 283: training loss is 0.206240, validation loss is 0.424197.\n",
      "epoch 284: training loss is 0.205953, validation loss is 0.424102.\n",
      "epoch 285: training loss is 0.205668, validation loss is 0.423945.\n",
      "epoch 286: training loss is 0.205385, validation loss is 0.423845.\n",
      "epoch 287: training loss is 0.205104, validation loss is 0.423727.\n",
      "epoch 288: training loss is 0.204825, validation loss is 0.423566.\n",
      "epoch 289: training loss is 0.204545, validation loss is 0.423508.\n",
      "epoch 290: training loss is 0.204268, validation loss is 0.423441.\n",
      "epoch 291: training loss is 0.203993, validation loss is 0.423356.\n",
      "epoch 292: training loss is 0.203719, validation loss is 0.423244.\n",
      "epoch 293: training loss is 0.203447, validation loss is 0.423152.\n",
      "epoch 294: training loss is 0.203176, validation loss is 0.423038.\n",
      "epoch 295: training loss is 0.202907, validation loss is 0.422931.\n",
      "epoch 296: training loss is 0.202639, validation loss is 0.422823.\n",
      "epoch 297: training loss is 0.202373, validation loss is 0.422694.\n",
      "epoch 298: training loss is 0.202109, validation loss is 0.422570.\n",
      "epoch 299: training loss is 0.201845, validation loss is 0.422474.\n"
     ]
    }
   ],
   "source": [
    "# Under BOW+BOCN-TFIDF situation, training the model by using the best parameters\n",
    "weights_bb_tfidf, tra_loss_bb_tfidf, val_loss_bb_tfidf = SGD(train_tfidf_mat_bb, train_label, \n",
    "                                                             dev_tfidf_mat_bb, dev_label, \n",
    "                                                             lr = best_parameter_bb_tfidf[0], \n",
    "                                                             alpha = best_parameter_bb_tfidf[1],\n",
    "                                                             epochs = best_parameter_bb_tfidf[2],\n",
    "                                                             tolerance = best_parameter_bb_tfidf[3], \n",
    "                                                             print_progress = True)"
   ]
  },
  {
   "cell_type": "code",
   "execution_count": 55,
   "metadata": {},
   "outputs": [
    {
     "data": {
      "image/png": "[encoded data removed]",
      "text/plain": [
       "<Figure size 432x288 with 1 Axes>"
      ]
     },
     "metadata": {
      "needs_background": "light"
     },
     "output_type": "display_data"
    }
   ],
   "source": [
    "# plot the figure to check the training and validation loss during the training process\n",
    "\n",
    "plot_loss_history(tra_loss_bb_tfidf, val_loss_bb_tfidf, \"BOW+BOCN-TFIDF(fig-5)\")"
   ]
  },
  {
   "cell_type": "markdown",
   "metadata": {},
   "source": [
    "### Analyze the loss-epoch figure for model of BOW+BOCN-TFIDF"
   ]
  },
  {
   "cell_type": "markdown",
   "metadata": {},
   "source": [
    "From figure 5, we could find the model for BOW+BOCN-TFIDF is trained well.\n",
    "\n",
    "1. The final test accuracy is high enough (86%), the final validation loss is low enough(about 0.42), and the validation loss line begin to be flat from declining. So the model is not underfitted.\n",
    "\n",
    "2. The difference between the final training loss and the final validation loss is small (about 0.22), and the validation loss line doesn't have tendency to rise at the end of model training. Therefore the model is not overfitted."
   ]
  },
  {
   "cell_type": "code",
   "execution_count": 56,
   "metadata": {},
   "outputs": [
    {
     "name": "stdout",
     "output_type": "stream",
     "text": [
      "Accuracy: 0.86\n",
      "Precision: 0.8461538461538461\n",
      "Recall: 0.88\n",
      "F1-Score: 0.8627450980392156\n"
     ]
    }
   ],
   "source": [
    "# compute the accuracy, precision, recall, and f1_score to evaluate the model under BOCN-TFIDF situation\n",
    "\n",
    "preds_bb_tfidf = predict_class(test_tfidf_mat_bb, weights_bb_tfidf)\n",
    "\n",
    "print('Accuracy:', accuracy_score(test_label, preds_bb_tfidf))\n",
    "print('Precision:', precision_score(test_label, preds_bb_tfidf))\n",
    "print('Recall:', recall_score(test_label, preds_bb_tfidf))\n",
    "print('F1-Score:', f1_score(test_label, preds_bb_tfidf))"
   ]
  },
  {
   "cell_type": "code",
   "execution_count": 57,
   "metadata": {},
   "outputs": [
    {
     "name": "stdout",
     "output_type": "stream",
     "text": [
      "bad\n",
      "worst\n",
      "waste\n",
      "poor\n",
      "dull\n",
      "awful\n",
      "lame\n",
      "fails\n",
      "plot\n",
      "looks\n"
     ]
    }
   ],
   "source": [
    "# print top 10 words for negative class and positive class respectively.\n",
    "\n",
    "top_neg_bb_tfidf = weights_bb_tfidf.reshape(1, -1).argsort()[0][:10]\n",
    "for i in top_neg_bb_tfidf:\n",
    "    print(id2word_bb[i])"
   ]
  },
  {
   "cell_type": "code",
   "execution_count": 58,
   "metadata": {},
   "outputs": [
    {
     "name": "stdout",
     "output_type": "stream",
     "text": [
      "great\n",
      "pulp\n",
      "quite\n",
      "true\n",
      "beau\n",
      "life\n",
      "seen\n",
      "world\n",
      "damon\n",
      "rush\n"
     ]
    }
   ],
   "source": [
    "top_pos_bb_tfidf = weights_bb_tfidf.reshape(1, -1).argsort()[0][::-1][:10]\n",
    "for i in top_pos_bb_tfidf:\n",
    "    print(id2word_bb[i])\n"
   ]
  },
  {
   "cell_type": "markdown",
   "metadata": {},
   "source": [
    "### Analyze the top-10 words for model of BOW+BOCN-TFIDF"
   ]
  },
  {
   "cell_type": "markdown",
   "metadata": {},
   "source": [
    "The top-10 words and character combinations of the model for BOW+BOCN-TFIDF make sense for the sentimental classification task.\n",
    "\n",
    "We could easily find the words \"bad\", \"worst\", \"poor\", \"dull\", \"awful\" could be used to describe movies with a negative emotion. Then the words \"great\", \"beau\", could be used to describe movies with positive emotion.\n",
    "\n",
    "Besides, these words are generalized well for other domain."
   ]
  },
  {
   "cell_type": "markdown",
   "metadata": {},
   "source": [
    "### Discuss how I choose hyperparameters for model of BOW+BOCN-TFIDF"
   ]
  },
  {
   "cell_type": "markdown",
   "metadata": {},
   "source": [
    "1. I choose the hyperparameters (learning rate, alpha, epoch, tolerance) by testing the development(validation) dataset on several different set of hyperparameters. The set of hyperparameters which could help the model to achieve the highest validation accuracy and lowest validation loss are the best hyperparameters. I will randomly display several set of hyperparameters and the corresponding validation loss and validation accuracy.\n",
    "\n",
    "| lr | alpha |epoch  | tolerance | val_loss | val_accuracy |\n",
    "|:-:|:-:|:-:|:-:|:-:|:-:|\n",
    "| 0.000010  | 0.100000 | 300  |  0.000100 | 0.426583  | 0.830000 |\n",
    "| 0.000010  |  0.500000| 300  |  0.000100  | 0.482736 | 0.815000 |\n",
    "| 0.000010  | 0.100000   |100  | 0.000100 | 0.473798 |0.810000 |\n",
    "| 0.000001 | 0.100000  |  300  | 0.000100  | 0.557198  | 0.765000 |\n",
    "| 0.000010  | 0.100000   |  300 | 0.000010  |0.422459 |0.835000 |\n",
    "\n",
    "When lr = 1e-5, alpha = 0.1, epoch = 300, tolerance = 1e-5, the model could have the lowest validation loss. So this set of hyperparameters is my best hyperparameters for model of BOW+BOCN-TIFDF\n"
   ]
  },
  {
   "cell_type": "markdown",
   "metadata": {},
   "source": [
    "\n",
    "\n",
    "# Full Results\n",
    "\n",
    "Add here your results:\n",
    "\n",
    "| LR | Accuracy |Precision  | Recall  | F1-Score  |\n",
    "|:-:|:-:|:-:|:-:|:-:|\n",
    "| BOW-count  |  0.8225 | 0.8057  |  0.85 | 0.8273  |\n",
    "| BOW-tfidf  |  0.865 | 0.851  | 0.885  |  0.8676 |\n",
    "| BOCN-count  | 0.82  | 0.8232  | 0.815  | 0.8191  |\n",
    "| BOCN-tfidf  | 0.8325  |  0.8276 | 0.84  | 0.8337  |\n",
    "| BOW+BOCN-tfidf  | 0.86  |  0.8462 | 0.88  | 0.8627  |\n",
    "\n",
    "Please discuss why your best performing model is better than the rest."
   ]
  },
  {
   "cell_type": "markdown",
   "metadata": {},
   "source": [
    "From the above table, we could find my best model is the model for BOW-tfidf. The model for BOW-tfidf has a 0.8676 F1-score. Then, the BOW+BOCN-tfidf model's F1-score (0.8627) is slightly lower than BOW-tfidf's. \n",
    "\n",
    "First, I think the reason for why BOW-tfidf model is better than BOW-count model is that BOW-tfidf uses tfidf weighted feature values. Compared with raw-frequency weighted feature values, tfidf will help model classify which words are more informative. \n",
    "\n",
    "For example, if I input a sentence \"Sheffield is a beautiful city\" to a raw-frequency based model, the model will treat all five words in this sentence equally. It means, for the model, the word \"a\" contains same information with the word \"beautiful\". In fact, it is obvious for human that the word \"beautiful\" contains more information than \"a\" and \"is\" to help us know this sentence is a positive comment. Usually, this kind of words with low information such as \"a\", \"the\", \"is\" would appear lots of times in the whole document collection. It means the informativeness is inveresly related to document frequency(df). The less common words (low df value) are usually more informative. Therefore, we could use tfidf weighted method to give those words with low information a low weight and give those words with high information a high weight.\n",
    "\n",
    "By using TFIDF weighted method, the words with low document frequencies but with high information could influence more in the text classification task. Therefore, the BOW-tfidf has a better performance than BOW-count.\n",
    "\n",
    "Second, compared with BOCN models, the BOW has a better performance. I think the reason might be the BOCN model splits the key words for classification and because the capacity of vocab_bocn(vocabulary for BOCN) is limited, the vocab_bocn contains less key words than vocab_bow(vocabulary for BOW). For example, we could see from the top-10 positive words of BOCN-tfidf model, one key word \"great\" is splited to \"gre\", \"grea\", \"great\", and one key word \"perfectly\" is splited to \"perf\" \"rfect\", \"erfec\". In this way, if vocab_bow contains 4000 different key words, the vocab_bocn could only contain 4000 character combinations from 1000 different key words. I think this will lead the vocab_bocn to be low informative. So the BOW has better performance than BOCN."
   ]
  },
  {
   "cell_type": "markdown",
   "metadata": {},
   "source": [
    "# Discussion about the choices of text processing and hyperparameters values."
   ]
  },
  {
   "cell_type": "markdown",
   "metadata": {},
   "source": [
    "1. About the choices of text processing, I have commented in the coding. Let me do a summary here.\n",
    "\n",
    "1.1 First, to process the original text in documents, I tried to make all letters in text be lowercase (but I found this task had been done). Then, I removed all numbers and punctuations from the texts because these characters are not useful for sentimental classification. \n",
    "\n",
    "After this, I find all words with two or more than two letters. It means the simple words such as \"a\", \"I\" are dropped. Then, based on the flag char_ngrams, my extract_ngrams function could extract words or character combinations for each document in document collection.\n",
    "\n",
    "1.2 Then, I adjusted the stoplist. I added 'am', 'll', 'also', 'why', 'would', 'should', 'their', 'might', 'there', 'where', 'him' to the original stoplist because I think these words have a high term frequencies in the whole collection but with low information to help the model do classification.\n",
    "\n",
    "1.3 Thirdly, about the vocabulary size, it should be splited to two part. The first one is vocab_bow (vocabulary for the model of BOW) and the second one is vocab_bocn (vocabulary for the model of BOCN). For the vocab_bow, I only picked those words with a document frequency higher than 20. At this time, the vocabulary size of vocab_bow is 4488. For the vocab_bocn, I set the keep_topN = 4000. It means to pick top 4000 of term frequency in collection of character combinations and therefore, the size of vocab_bocn is 4000. Then, in the training process, I found the vocabulary with size of 4000 provided enough information for model training. All the models are trained well with 83% test accuracy in average and the training time is fast. Therefore, I think 4000 is a proper vocabulary size. \n",
    "\n",
    "1.4 Then, about the ngram_range, I choose to (1, 3) for BOW model and (3, 5) for BOCN model. The reason for why I choose (3, 5) as ngram_range for BOCN model is:\n",
    "\n",
    "If the ngram_range value is too small, the character combinations will be too short. At this time, different words could produce the same character combinations. For example, a negative word \"worst\" contain character combinations \"wo\", but a positive word \"wonderful\" could also contain a character combinations \"wo\". So, if the ngram_range value is too small, the short character combinations would be confusing.\n",
    "\n",
    "Similarly, if ngram_range is too large, the character combinations would be too long. At that time, a long character combination might only appear in one document. It will be also bad for model training.\n",
    "\n",
    "\n",
    "2. About the choices of hyperparameters.\n",
    "\n",
    "For all five models, I choose to use a low learning rate and a relatively high epoch number. Because I found when I use a high learning rate, although it could complete the training in a few epochs, the validation loss could not decline stablely (the validation loss may decline in this epoch and then, rise in next epoch, the validation loss line is fluctuant). So, I decided to use a small learning rate such as 1e-5 and a high epoch like 300. With this small learning rate and high epoch, the validation loss of my models could decline stablely and the trained model could trained well with a low validation loss.\n",
    "\n",
    "For the regularization hyperparameter alpha, I set it from 0.1 - 0.5. Because when I set it small such as 0.01 or 0.001, I found my model is often overfitted. The final training loss will be very small (lower than 0.1) but the validation loss is still higher than 0.3. Therefore, I set a relatively high alpha to avoid my models being overtrained.\n"
   ]
  },
  {
   "cell_type": "code",
   "execution_count": null,
   "metadata": {},
   "outputs": [],
   "source": []
  }
 ],
 "metadata": {
  "kernelspec": {
   "display_name": "Python 3 (ipykernel)",
   "language": "python",
   "name": "python3"
  },
  "language_info": {
   "codemirror_mode": {
    "name": "ipython",
    "version": 3
   },
   "file_extension": ".py",
   "mimetype": "text/x-python",
   "name": "python",
   "nbconvert_exporter": "python",
   "pygments_lexer": "ipython3",
   "version": "3.7.12"
  }
 },
 "nbformat": 4,
 "nbformat_minor": 2
}
